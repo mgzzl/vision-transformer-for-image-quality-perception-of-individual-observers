{
 "cells": [
  {
   "cell_type": "markdown",
   "id": "8a688702",
   "metadata": {},
   "source": [
    "# 0. Setup"
   ]
  },
  {
   "cell_type": "code",
   "execution_count": null,
   "id": "571d84b7",
   "metadata": {},
   "outputs": [],
   "source": [
    "!nvidia-smi -L"
   ]
  },
  {
   "cell_type": "code",
   "execution_count": null,
   "id": "3036095e",
   "metadata": {},
   "outputs": [],
   "source": [
    "import os\n",
    "import datetime\n",
    "import matplotlib.pyplot as plt\n",
    "import torch\n",
    "import torch.nn as nn\n",
    "import torch.optim as optim\n",
    "from torch.optim.lr_scheduler import ReduceLROnPlateau\n",
    "import torchvision.transforms as transforms\n",
    "from torch.utils.data import DataLoader\n",
    "from sklearn.metrics import accuracy_score\n",
    "from misc.helpers import calculate_label_distributions\n",
    "import numpy as np\n",
    "import pandas as pd\n",
    "\n",
    "\n",
    "from model.vit_for_small_dataset import ViT\n",
    "from utils.imageset_handler import ImageQualityDataset"
   ]
  },
  {
   "cell_type": "markdown",
   "id": "f28b2b95",
   "metadata": {},
   "source": [
    "# 1. Build Model"
   ]
  },
  {
   "cell_type": "markdown",
   "id": "71892202",
   "metadata": {},
   "source": [
    "### 1.1 Define Variables"
   ]
  },
  {
   "cell_type": "code",
   "execution_count": null,
   "id": "5bfb894a",
   "metadata": {},
   "outputs": [],
   "source": [
    "image_size=256\n",
    "patch_size=16\n",
    "num_classes=5  # Number of classes for image quality levels\n",
    "dim=1024\n",
    "depth=6\n",
    "heads=16\n",
    "mlp_dim=2048\n",
    "emb_dropout=0.1\n",
    "\n",
    "\n",
    "pretrained_model_path = None\n",
    "# pretrained_model_path = 'results/weights/AIO1.2.pth'\n",
    "num_epochs = 100\n",
    "results_path = './results/weights/AIO0'\n",
    "os.makedirs(results_path, exist_ok=True)\n",
    "\n",
    "dataset_root = 'assets/Dataset/DS0'\n",
    "csv_file = 'assets/Dataset/Obs0.csv'"
   ]
  },
  {
   "cell_type": "markdown",
   "id": "cc12028a",
   "metadata": {},
   "source": [
    "### 1.2 Compile"
   ]
  },
  {
   "cell_type": "code",
   "execution_count": null,
   "id": "b63f59b9",
   "metadata": {},
   "outputs": [],
   "source": [
    "model = ViT(\n",
    "    image_size=image_size,\n",
    "    patch_size=patch_size,\n",
    "    num_classes=num_classes,\n",
    "    dim=dim,\n",
    "    depth=depth,\n",
    "    heads=heads,\n",
    "    mlp_dim=mlp_dim,\n",
    "    emb_dropout=emb_dropout\n",
    ")\n",
    "print(model)"
   ]
  },
  {
   "cell_type": "markdown",
   "id": "604df880",
   "metadata": {},
   "source": [
    "### 1.3 Load pretrained weights"
   ]
  },
  {
   "cell_type": "code",
   "execution_count": null,
   "id": "81516f82",
   "metadata": {},
   "outputs": [],
   "source": [
    "if pretrained_model_path:\n",
    "    model.load_state_dict(torch.load(pretrained_model_path))\n",
    "    print(model)"
   ]
  },
  {
   "cell_type": "markdown",
   "id": "de80426c",
   "metadata": {},
   "source": [
    "# 2 Load Dataset"
   ]
  },
  {
   "cell_type": "markdown",
   "id": "7cd353bf",
   "metadata": {},
   "source": [
    "### 2.1 Add Augmentation (Transformation)"
   ]
  },
  {
   "cell_type": "code",
   "execution_count": null,
   "id": "c172fd9c",
   "metadata": {},
   "outputs": [],
   "source": [
    "transform = transforms.Compose([\n",
    "    transforms.RandomResizedCrop(256),\n",
    "    transforms.RandomHorizontalFlip(),\n",
    "    transforms.ToTensor(),\n",
    "    transforms.Normalize(mean=[0.485, 0.456, 0.406], std=[0.229, 0.224, 0.225])  # Normalize with ImageNet mean and std\n",
    "])"
   ]
  },
  {
   "cell_type": "markdown",
   "id": "becc15fa",
   "metadata": {},
   "source": [
    "### 2.2 Create Dataset"
   ]
  },
  {
   "cell_type": "code",
   "execution_count": null,
   "id": "b91f950f",
   "metadata": {
    "scrolled": false
   },
   "outputs": [],
   "source": [
    "dataset = ImageQualityDataset(csv_file,dataset_root,transform=transform)"
   ]
  },
  {
   "cell_type": "markdown",
   "id": "ae9128a4",
   "metadata": {},
   "source": [
    "### 2.3 Split the dataset into training and validation sets"
   ]
  },
  {
   "cell_type": "code",
   "execution_count": null,
   "id": "febe0d8c",
   "metadata": {},
   "outputs": [],
   "source": [
    "test_size = 0.2\n",
    "num_train = int(len(dataset)* (1-test_size))\n",
    "num_val = len(dataset) - num_train\n",
    "\n",
    "print('Splitting Dataset..')\n",
    "train_dataset, val_dataset = torch.utils.data.random_split(dataset, [num_train, num_val])\n",
    "\n",
    "print(f\"Number of Data to train: {num_train}\")\n",
    "print(f\"Number of Data to validate: {num_val}\")"
   ]
  },
  {
   "cell_type": "markdown",
   "id": "96485153",
   "metadata": {},
   "source": [
    "# 3. Train"
   ]
  },
  {
   "cell_type": "markdown",
   "id": "a040a46b",
   "metadata": {},
   "source": [
    "### 3.1 Define Training Parameters"
   ]
  },
  {
   "cell_type": "code",
   "execution_count": null,
   "id": "8f882af4",
   "metadata": {},
   "outputs": [],
   "source": [
    "learning_rate = 5e-5\n",
    "batch_size = 128"
   ]
  },
  {
   "cell_type": "markdown",
   "id": "3f98fa91",
   "metadata": {},
   "source": [
    "### 3.2 Init Optimizer, loss function and dataloader"
   ]
  },
  {
   "cell_type": "code",
   "execution_count": null,
   "id": "3aaf304e",
   "metadata": {},
   "outputs": [],
   "source": [
    "optimizer = optim.Adam(model.parameters(), lr=learning_rate)\n",
    "criterion = nn.CrossEntropyLoss()\n",
    "mse_criterion = nn.MSELoss()\n",
    "scheduler = ReduceLROnPlateau(optimizer, mode='min', factor=0.5, patience=5, verbose=True)"
   ]
  },
  {
   "cell_type": "code",
   "execution_count": null,
   "id": "eb92b701",
   "metadata": {},
   "outputs": [],
   "source": [
    "train_dataloader = DataLoader(train_dataset, batch_size=batch_size, shuffle=True, num_workers=4)\n",
    "val_dataloader = DataLoader(val_dataset, batch_size=batch_size, shuffle=False, num_workers=4)"
   ]
  },
  {
   "cell_type": "markdown",
   "id": "9fda88fb",
   "metadata": {},
   "source": [
    "### 3.3 Train-Loop"
   ]
  },
  {
   "cell_type": "code",
   "execution_count": null,
   "id": "3d03ad2c",
   "metadata": {},
   "outputs": [],
   "source": [
    "device = torch.device('cuda' if torch.cuda.is_available() else 'cpu')\n",
    "model.to(device)\n",
    "best_val_loss = float('inf')\n",
    "best_model_weights = None"
   ]
  },
  {
   "cell_type": "code",
   "execution_count": null,
   "id": "a116623e",
   "metadata": {
    "scrolled": true
   },
   "outputs": [],
   "source": [
    "train_losses = []\n",
    "val_losses = []\n",
    "    \n",
    "# Initialize a list to store model results\n",
    "model_results = []\n",
    "print(\"Starting training...\")\n",
    "for epoch in range(num_epochs):\n",
    "    # Training\n",
    "    model.train()\n",
    "    train_loss = 0.0\n",
    "    train_preds = []\n",
    "    train_labels = []\n",
    "\n",
    "    for _, (images, labels) in enumerate(train_dataloader):\n",
    "        images = images.to(device)\n",
    "        labels = labels.to(device)\n",
    "\n",
    "        optimizer.zero_grad()\n",
    "        outputs = model(images)\n",
    "\n",
    "        loss = criterion(outputs, labels)\n",
    "        loss.backward()\n",
    "        optimizer.step()\n",
    "\n",
    "        train_loss += loss.item() * images.size(0)\n",
    "        _, preds = torch.max(outputs, 1)  # Get predicted labels\n",
    "        train_preds.extend(preds.cpu().numpy())  # Extend the list of predictions\n",
    "        train_labels.extend(labels.cpu().numpy())  # Extend the list of true labels\n",
    "    train_accuracy = accuracy_score(train_labels, train_preds)\n",
    "\n",
    "    # Validation\n",
    "    model.eval()\n",
    "    val_loss = 0.0\n",
    "    val_preds = []\n",
    "    val_labels = []\n",
    "\n",
    "    with torch.no_grad():\n",
    "        for _, (images, labels) in enumerate(val_dataloader):\n",
    "            images = images.to(device)\n",
    "            labels = labels.to(device)\n",
    "            \n",
    "            # CROSS-ENTROPY\n",
    "            outputs = model(images)\n",
    "            loss = criterion(outputs, labels)\n",
    "            val_loss += loss.item() * images.size(0)\n",
    "            _, preds = torch.max(outputs, 1)  # Get predicted labels\n",
    "            val_preds.extend(preds.cpu().numpy())  # Extend the list of predictions\n",
    "            val_labels.extend(labels.cpu().numpy())  # Extend the list of true labels\n",
    "\n",
    "\n",
    "\n",
    "    val_accuracy = accuracy_score(val_labels, val_preds)\n",
    "    train_loss /= len(train_dataset)\n",
    "    val_loss /= len(val_dataset)\n",
    "    print(f'Epoch [{epoch+1}/{num_epochs}], Training Loss: {train_loss:.4f}, Training Acc: {train_accuracy:.4f}, Validation Loss: {val_loss:.4f}, Validation Acc: {val_accuracy:.4f}')\n",
    "    # Step the ReduceLROnPlateau scheduler with the validation loss\n",
    "    scheduler.step(val_loss)\n",
    "    # Calculate and store the losses\n",
    "    train_losses.append(train_loss)\n",
    "    val_losses.append(val_loss)\n",
    "    \n",
    "    \n",
    "    # Save the weights with the best validation loss\n",
    "    if val_loss < best_val_loss:\n",
    "        # Delete the previously saved best model\n",
    "        #if best_model_weights is not None:\n",
    "        #    os.remove(best_model_path)\n",
    "\n",
    "        # Update the best validation loss and save the new best model\n",
    "        best_val_loss = val_loss\n",
    "        best_model_weights = model.state_dict().copy()\n",
    "\n",
    "        # Get the current timestamp\n",
    "        timestamp = datetime.datetime.now().strftime(\"%Y%m%d_%H%M%S\")\n",
    "        last_folder = os.path.basename(dataset_root)\n",
    "        # Use the timestamp and transfer learning information as a name extension\n",
    "        model_name = f\"vit_model_{timestamp}_epoch_{epoch+1}of{num_epochs}_valLoss_{best_val_loss:.3f}_valAcc_{val_accuracy:.3f}_batchsize_{batch_size}_lr_{learning_rate:.1f}_{last_folder}.pth\"\n",
    "        best_model_path = os.path.join(results_path, model_name)\n",
    "        torch.save(best_model_weights, best_model_path)\n",
    "        \n",
    "        # After saving the best model\n",
    "        model_info = {\n",
    "            'model_name': model_name,\n",
    "            'validation_loss': val_loss,\n",
    "            'validation_accuracy': val_accuracy,\n",
    "            'batch_size': batch_size,\n",
    "            'learning_rate': learning_rate,\n",
    "            'epoch': epoch + 1\n",
    "        }\n",
    "        model_results.append(model_info)"
   ]
  },
  {
   "cell_type": "markdown",
   "id": "7c2b915e",
   "metadata": {},
   "source": [
    "Save results"
   ]
  },
  {
   "cell_type": "code",
   "execution_count": null,
   "id": "b69c2f26",
   "metadata": {},
   "outputs": [],
   "source": [
    "# Create a DataFrame from model_results\n",
    "results_df = pd.DataFrame(model_results)\n",
    "\n",
    "# Save the results as a CSV file\n",
    "results_csv_path = os.path.join(results_path, f'model_results_{last_folder}.csv')\n",
    "results_df.to_csv(results_csv_path, index=False)\n",
    "\n",
    "# Save the Matplotlib figure with the same basename as the saved model\n",
    "figure_name =  f'Train_Val_Curve_{last_folder}.png'\n",
    "figure_path = os.path.join(results_path, figure_name)\n",
    "# Plot the losses\n",
    "plt.plot(range(1, num_epochs + 1), train_losses, label='Training Loss')\n",
    "plt.plot(range(1, num_epochs + 1), val_losses, label='Validation Loss')\n",
    "plt.xlabel('Epoch')\n",
    "plt.ylabel('Loss')\n",
    "plt.title('Training and Validation Loss')\n",
    "plt.legend()\n",
    "plt.savefig(figure_path)\n",
    "plt.show()"
   ]
  },
  {
   "cell_type": "markdown",
   "id": "3b21fe32",
   "metadata": {},
   "source": [
    "# 4 Train Persons AIO"
   ]
  },
  {
   "cell_type": "markdown",
   "id": "43ebb8c5",
   "metadata": {},
   "source": [
    "### 4.1 Define Model, Dataset and Parameters"
   ]
  },
  {
   "cell_type": "code",
   "execution_count": null,
   "id": "6873d8c7",
   "metadata": {},
   "outputs": [],
   "source": [
    "image_size=256\n",
    "patch_size=16\n",
    "num_classes=5  # Number of classes for image quality levels\n",
    "dim=1024\n",
    "depth=6\n",
    "heads=16\n",
    "mlp_dim=2048\n",
    "emb_dropout=0.1\n",
    "\n",
    "# pretrained_model_path = None\n",
    "# pretrained_model_path = 'results/weights/AIO0/vit_model_20230911_064440_epoch_148of150_valLoss_0.108_valAcc_0.953_batchsize_128_lr_0.0_allDistorted.pth'\n",
    "pretrained_model_path = 'results/weights/FINAL/AIO5/AIO5_2/vit_model_20231204_153455_epoch_16of100_valLoss_1.094_valAcc_0.600_batchsize_128_lr_0.0_DS5.pth'\n",
    "num_epochs = 100\n",
    "results_path = 'results/weights/FINAL/AIO5/AIO5_3'\n",
    "os.makedirs(results_path, exist_ok=True)\n",
    "\n",
    "train_dataset_root  = 'assets/Dataset/DS5'\n",
    "val_dataset_root  = 'assets/Test/DSX'\n",
    "train_csv_file = 'assets/Obs_iterative/Obs5/Obs5_3.csv'\n",
    "val_csv_file = 'assets/Test/Obs5.csv'"
   ]
  },
  {
   "cell_type": "code",
   "execution_count": null,
   "id": "ed0b4bfe",
   "metadata": {},
   "outputs": [],
   "source": [
    "learning_rate = 2.5e-5\n",
    "batch_size = 128"
   ]
  },
  {
   "cell_type": "code",
   "execution_count": null,
   "id": "2c7819c8",
   "metadata": {},
   "outputs": [],
   "source": [
    "transform = transforms.Compose([\n",
    "    transforms.Resize(256),\n",
    "    transforms.CenterCrop(256),\n",
    "    transforms.RandomHorizontalFlip(),\n",
    "    transforms.ToTensor(),\n",
    "    transforms.Normalize(mean=[0.485, 0.456, 0.406], std=[0.229, 0.224, 0.225])  # Normalize with ImageNet mean and std\n",
    "])"
   ]
  },
  {
   "cell_type": "code",
   "execution_count": null,
   "id": "a22ca582",
   "metadata": {},
   "outputs": [],
   "source": [
    "model = ViT(\n",
    "    image_size=image_size,\n",
    "    patch_size=patch_size,\n",
    "    num_classes=num_classes,\n",
    "    dim=dim,\n",
    "    depth=depth,\n",
    "    heads=heads,\n",
    "    mlp_dim=mlp_dim,\n",
    "    emb_dropout=emb_dropout\n",
    ")\n",
    "if pretrained_model_path is not None:\n",
    "    model.load_state_dict(torch.load(pretrained_model_path))\n",
    "\n",
    "train_dataset = ImageQualityDataset(train_csv_file,train_dataset_root, transform=transform)\n",
    "val_dataset = ImageQualityDataset(val_csv_file,val_dataset_root, transform=transform)"
   ]
  },
  {
   "cell_type": "code",
   "execution_count": null,
   "id": "f89ec170",
   "metadata": {},
   "outputs": [],
   "source": [
    "optimizer = optim.Adam(model.parameters(), lr=learning_rate)\n",
    "criterion = nn.CrossEntropyLoss()\n",
    "mse_criterion = nn.MSELoss()\n",
    "scheduler = ReduceLROnPlateau(optimizer, mode='min', factor=0.5, patience=5, verbose=True)\n",
    "\n",
    "# KL-Divergence\n",
    "kl_div_criterion = nn.KLDivLoss(reduction='batchmean')"
   ]
  },
  {
   "cell_type": "code",
   "execution_count": null,
   "id": "8af9bbdc",
   "metadata": {},
   "outputs": [],
   "source": [
    "train_dataloader = DataLoader(train_dataset, batch_size=batch_size, shuffle=True, num_workers=4)\n",
    "val_dataloader = DataLoader(val_dataset, batch_size=batch_size, shuffle=False, num_workers=4)"
   ]
  },
  {
   "cell_type": "code",
   "execution_count": null,
   "id": "e3bb969a",
   "metadata": {},
   "outputs": [],
   "source": [
    "device = torch.device('cuda' if torch.cuda.is_available() else 'cpu')\n",
    "model.to(device)\n",
    "best_val_loss = float('inf')\n",
    "best_model_weights = None"
   ]
  },
  {
   "cell_type": "markdown",
   "id": "da52a548",
   "metadata": {},
   "source": [
    "### 4.2 Train AIO"
   ]
  },
  {
   "cell_type": "code",
   "execution_count": null,
   "id": "bec19f5e",
   "metadata": {},
   "outputs": [],
   "source": [
    "train_losses = []\n",
    "val_losses = []\n",
    "    \n",
    "# Initialize a list to store model results\n",
    "model_results = []\n",
    "print(\"Starting training...\")\n",
    "for epoch in range(num_epochs):\n",
    "    # Training\n",
    "    model.train()\n",
    "    train_loss = 0.0\n",
    "    train_preds = []\n",
    "    train_labels = []\n",
    "\n",
    "    for _, (images, _, labels) in enumerate(train_dataloader):\n",
    "        images = images.to(device)\n",
    "        labels = labels.to(device)\n",
    "\n",
    "        optimizer.zero_grad()\n",
    "        outputs = model(images)\n",
    "        \n",
    "        true_distributions = calculate_label_distributions(labels, device=device)\n",
    "        # true_distributions = labels\n",
    "\n",
    "        # loss = criterion(outputs, labels)\n",
    "        loss = criterion(outputs, true_distributions)\n",
    "\n",
    "        # log_model_dist = torch.nn.functional.log_softmax(outputs, dim=1)\n",
    "        # loss = kl_div_criterion(log_model_dist, true_distributions)\n",
    "\n",
    "        loss.backward()\n",
    "        optimizer.step()\n",
    "\n",
    "        train_loss += loss.item() * images.size(0)\n",
    "        _, preds = torch.max(outputs, 1)  # Get predicted labels\n",
    "        train_preds.extend(preds.cpu().numpy())  # Extend the list of predictions\n",
    "        train_labels.extend(labels.cpu().numpy())  # Extend the list of true labels\n",
    "    train_accuracy = accuracy_score(train_labels, train_preds)\n",
    "\n",
    "    # Validation\n",
    "    model.eval()\n",
    "    val_loss = 0.0\n",
    "    val_preds = []\n",
    "    val_labels = []\n",
    "\n",
    "    with torch.no_grad():\n",
    "        for _, (images, _, labels) in enumerate(val_dataloader):\n",
    "            images = images.to(device)\n",
    "            labels = labels.to(device)\n",
    "\n",
    "            true_distributions = calculate_label_distributions(labels=labels, device=device)\n",
    "            # true_distributions = labels\n",
    "            # CROSS-ENTROPY\n",
    "            outputs = model(images)\n",
    "            loss = criterion(outputs, true_distributions)\n",
    "\n",
    "            # log_model_dist = torch.nn.functional.log_softmax(outputs, dim=1)\n",
    "            # loss = kl_div_criterion(log_model_dist, true_distributions)\n",
    "\n",
    "            # loss = criterion(outputs, labels)\n",
    "            val_loss += loss.item() * images.size(0)\n",
    "            _, preds = torch.max(outputs, 1)  # Get predicted labels\n",
    "            val_preds.extend(preds.cpu().numpy())  # Extend the list of predictions\n",
    "            val_labels.extend(labels.cpu().numpy())  # Extend the list of true labels\n",
    "\n",
    "\n",
    "\n",
    "    val_accuracy = accuracy_score(val_labels, val_preds)\n",
    "    train_loss /= len(train_dataset)\n",
    "    val_loss /= len(val_dataset)\n",
    "    print(f'Epoch [{epoch+1}/{num_epochs}], Training Loss: {train_loss:.4f}, Training Acc: {train_accuracy:.4f}, Validation Loss: {val_loss:.4f}, Validation Acc: {val_accuracy:.4f}')\n",
    "    # Step the ReduceLROnPlateau scheduler with the validation loss\n",
    "    scheduler.step(val_loss)\n",
    "    # Calculate and store the losses\n",
    "    train_losses.append(train_loss)\n",
    "    val_losses.append(val_loss)\n",
    "    \n",
    "    \n",
    "    # Save the weights with the best validation loss\n",
    "    if val_loss < best_val_loss:\n",
    "        # Delete the previously saved best model\n",
    "        #if best_model_weights is not None:\n",
    "        #    os.remove(best_model_path)\n",
    "\n",
    "        # Update the best validation loss and save the new best model\n",
    "        best_val_loss = val_loss\n",
    "        best_model_weights = model.state_dict().copy()\n",
    "\n",
    "        # Get the current timestamp\n",
    "        timestamp = datetime.datetime.now().strftime(\"%Y%m%d_%H%M%S\")\n",
    "        last_folder = os.path.basename(train_dataset_root)\n",
    "        # Use the timestamp and transfer learning information as a name extension\n",
    "        model_name = f\"vit_model_{timestamp}_epoch_{epoch+1}of{num_epochs}_valLoss_{best_val_loss:.3f}_valAcc_{val_accuracy:.3f}_batchsize_{batch_size}_lr_{learning_rate:.1f}_{last_folder}.pth\"\n",
    "        best_model_path = os.path.join(results_path, model_name)\n",
    "        torch.save(best_model_weights, best_model_path)\n",
    "        \n",
    "        # After saving the best model\n",
    "        model_info = {\n",
    "            'model_name': model_name,\n",
    "            'validation_loss': val_loss,\n",
    "            'validation_accuracy': val_accuracy,\n",
    "            'batch_size': batch_size,\n",
    "            'learning_rate': learning_rate,\n",
    "            'epoch': epoch + 1\n",
    "        }\n",
    "        model_results.append(model_info)"
   ]
  },
  {
   "cell_type": "markdown",
   "id": "dda75b71",
   "metadata": {},
   "source": [
    "Save results"
   ]
  },
  {
   "cell_type": "code",
   "execution_count": null,
   "id": "aae4b70d",
   "metadata": {},
   "outputs": [],
   "source": [
    "# Extract the digit from the CSV file name\n",
    "digit = ''.join(filter(str.isdigit, train_csv_file))\n",
    "\n",
    "# Create a DataFrame from model_results\n",
    "results_df = pd.DataFrame(model_results)\n",
    "\n",
    "# Save the results as a CSV file\n",
    "results_csv_path = os.path.join(results_path, f'training_results_AIO{digit}.csv')\n",
    "results_df.to_csv(results_csv_path, index=False)\n",
    "\n",
    "\n",
    "# Save the Matplotlib figure with the same basename as the saved model\n",
    "figure_name =  f'Train_Val_Curve_AIO{digit}.png'\n",
    "figure_path = os.path.join(results_path, figure_name)\n",
    "# Plot the losses\n",
    "plt.plot(range(1, num_epochs + 1), train_losses, label='Training Loss')\n",
    "plt.plot(range(1, num_epochs + 1), val_losses, label='Validation Loss')\n",
    "plt.xlabel('Epoch')\n",
    "plt.ylabel('Loss')\n",
    "plt.title('Training and Validation Loss')\n",
    "plt.legend()\n",
    "plt.savefig(figure_path)\n",
    "plt.show()"
   ]
  }
 ],
 "metadata": {
  "kernelspec": {
   "display_name": "Python 3 (ipykernel)",
   "language": "python",
   "name": "python3"
  },
  "language_info": {
   "codemirror_mode": {
    "name": "ipython",
    "version": 3
   },
   "file_extension": ".py",
   "mimetype": "text/x-python",
   "name": "python",
   "nbconvert_exporter": "python",
   "pygments_lexer": "ipython3",
   "version": "3.11.4"
  }
 },
 "nbformat": 4,
 "nbformat_minor": 5
}
