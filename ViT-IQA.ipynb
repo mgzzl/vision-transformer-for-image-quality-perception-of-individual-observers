{
 "cells": [
  {
   "cell_type": "markdown",
   "id": "8a688702",
   "metadata": {},
   "source": [
    "# 0. Setup"
   ]
  },
  {
   "cell_type": "code",
   "execution_count": 2,
   "id": "571d84b7",
   "metadata": {},
   "outputs": [
    {
     "name": "stdout",
     "output_type": "stream",
     "text": [
      "GPU 0: NVIDIA GeForce RTX 4090 (UUID: GPU-8e58684c-33e7-69fa-082f-8fae0e4c5077)\n",
      "GPU 1: NVIDIA GeForce RTX 4090 (UUID: GPU-82fefc93-382a-0b5a-fec6-f3b57cd9185f)\n"
     ]
    }
   ],
   "source": [
    "!nvidia-smi -L"
   ]
  },
  {
   "cell_type": "code",
   "execution_count": 6,
   "id": "3036095e",
   "metadata": {},
   "outputs": [],
   "source": [
    "import os\n",
    "import datetime\n",
    "import matplotlib.pyplot as plt\n",
    "import torch\n",
    "import torch.nn as nn\n",
    "import torch.optim as optim\n",
    "import torchvision.transforms as transforms\n",
    "from torch.utils.data import DataLoader\n",
    "from sklearn.metrics import accuracy_score\n",
    "import numpy as np\n",
    "import pandas as pd\n",
    "\n",
    "\n",
    "from model.vit_for_small_dataset import ViT\n",
    "from utils.imageset_handler import ImageQualityDataset"
   ]
  },
  {
   "cell_type": "markdown",
   "id": "f28b2b95",
   "metadata": {},
   "source": [
    "# 1. Build Model"
   ]
  },
  {
   "cell_type": "markdown",
   "id": "71892202",
   "metadata": {},
   "source": [
    "### 1.1 Define Variables"
   ]
  },
  {
   "cell_type": "code",
   "execution_count": 126,
   "id": "5bfb894a",
   "metadata": {},
   "outputs": [],
   "source": [
    "image_size=256\n",
    "patch_size=16\n",
    "num_classes=5  # Number of classes for image quality levels\n",
    "dim=1024\n",
    "depth=6\n",
    "heads=16\n",
    "mlp_dim=2048\n",
    "emb_dropout=0.1\n",
    "\n",
    "\n",
<<<<<<< HEAD
    "pretrained_model_path = 'C:/Users/SilverFear/Desktop/vision-transformer-for-image-quality-perception-of-individual-observers/results/weights/all_distored_imgs/vit_model_20230824_101434_epoch_50of50_valLoss_0.171_valAcc_0.925_batchsize_128_lr_0.0_allDistorted.pth'\n",
    "num_epochs = 15\n",
    "results_path = 'results/weights/Person_2_nictac'\n",
    "dataset_root = 'assets/DatasetSubjective/Persons/Person_2_nictac/imgs'\n",
    "csv_file = 'assets/DatasetSubjective/Persons/Person_2_nictac/img_scores.csv'\n",
    "\n",
    "os.makedirs(results_path, exist_ok=True)"
=======
    "pretrained_model_path = None\n",
    "num_epochs = 50\n",
    "results_path = '/home/maxgan/WORKSPACE/UNI/BA/vision-transformer-for-image-quality-perception-of-individual-observers/results/weights/all_distored_imgs'\n",
    "\n",
    "dataset_root = '/home/maxgan/WORKSPACE/UNI/BA/vision-transformer-for-image-quality-perception-of-individual-observers/assets/DatasetObjective/allDistorted'\n",
    "csv_file = '/home/maxgan/WORKSPACE/UNI/BA/vision-transformer-for-image-quality-perception-of-individual-observers/assets/DatasetObjective/objective_imagesquality_scores.csv'"
>>>>>>> 1a8e161ea79fbbc193531bbbcd46eccb72d77893
   ]
  },
  {
   "cell_type": "markdown",
   "id": "cc12028a",
   "metadata": {},
   "source": [
    "### 1.2 Compile"
   ]
  },
  {
   "cell_type": "code",
   "execution_count": 127,
   "id": "b63f59b9",
   "metadata": {},
   "outputs": [
    {
     "name": "stdout",
     "output_type": "stream",
     "text": [
      "ViT(\n",
      "  (to_patch_embedding): SPT(\n",
      "    (to_patch_tokens): Sequential(\n",
      "      (0): Rearrange('b c (h p1) (w p2) -> b (h w) (p1 p2 c)', p1=16, p2=16)\n",
      "      (1): LayerNorm((3840,), eps=1e-05, elementwise_affine=True)\n",
      "      (2): Linear(in_features=3840, out_features=1024, bias=True)\n",
      "    )\n",
      "  )\n",
      "  (dropout): Dropout(p=0.1, inplace=False)\n",
      "  (transformer): Transformer(\n",
      "    (layers): ModuleList(\n",
      "      (0-5): 6 x ModuleList(\n",
      "        (0): PreNorm(\n",
      "          (norm): LayerNorm((1024,), eps=1e-05, elementwise_affine=True)\n",
      "          (fn): LSA(\n",
      "            (attend): Softmax(dim=-1)\n",
      "            (dropout): Dropout(p=0.0, inplace=False)\n",
      "            (to_qkv): Linear(in_features=1024, out_features=3072, bias=False)\n",
      "            (to_out): Sequential(\n",
      "              (0): Linear(in_features=1024, out_features=1024, bias=True)\n",
      "              (1): Dropout(p=0.0, inplace=False)\n",
      "            )\n",
      "          )\n",
      "        )\n",
      "        (1): PreNorm(\n",
      "          (norm): LayerNorm((1024,), eps=1e-05, elementwise_affine=True)\n",
      "          (fn): FeedForward(\n",
      "            (net): Sequential(\n",
      "              (0): Linear(in_features=1024, out_features=2048, bias=True)\n",
      "              (1): GELU(approximate='none')\n",
      "              (2): Dropout(p=0.0, inplace=False)\n",
      "              (3): Linear(in_features=2048, out_features=1024, bias=True)\n",
      "              (4): Dropout(p=0.0, inplace=False)\n",
      "            )\n",
      "          )\n",
      "        )\n",
      "      )\n",
      "    )\n",
      "  )\n",
      "  (to_latent): Identity()\n",
      "  (mlp_head): Sequential(\n",
      "    (0): LayerNorm((1024,), eps=1e-05, elementwise_affine=True)\n",
      "    (1): Linear(in_features=1024, out_features=5, bias=True)\n",
      "  )\n",
      ")\n"
     ]
    }
   ],
   "source": [
    "model = ViT(\n",
    "    image_size=image_size,\n",
    "    patch_size=patch_size,\n",
    "    num_classes=num_classes,\n",
    "    dim=dim,\n",
    "    depth=depth,\n",
    "    heads=heads,\n",
    "    mlp_dim=mlp_dim,\n",
    "    emb_dropout=emb_dropout\n",
    ")\n",
    "print(model)"
   ]
  },
  {
   "cell_type": "markdown",
   "id": "604df880",
   "metadata": {},
   "source": [
    "### 1.3 Load pretrained weights"
   ]
  },
  {
   "cell_type": "code",
   "execution_count": 128,
   "id": "81516f82",
   "metadata": {},
   "outputs": [],
   "source": [
    "if pretrained_model_path:\n",
    "    model.load_state_dict(torch.load(pretrained_model_path))"
   ]
  },
  {
   "cell_type": "markdown",
   "id": "de80426c",
   "metadata": {},
   "source": [
    "# 2 Load Dataset"
   ]
  },
  {
   "cell_type": "markdown",
   "id": "7cd353bf",
   "metadata": {},
   "source": [
    "### 2.1 Add Augmentation (Transformation)"
   ]
  },
  {
   "cell_type": "code",
   "execution_count": 129,
   "id": "c172fd9c",
   "metadata": {},
   "outputs": [],
   "source": [
    "transform = transforms.Compose([\n",
    "    transforms.RandomResizedCrop(256),\n",
    "    transforms.RandomHorizontalFlip(),\n",
    "    transforms.ToTensor(),\n",
    "    transforms.Normalize(mean=[0.485, 0.456, 0.406], std=[0.229, 0.224, 0.225])  # Normalize with ImageNet mean and std\n",
    "])"
   ]
  },
  {
   "cell_type": "markdown",
   "id": "becc15fa",
   "metadata": {},
   "source": [
    "### 2.2 Create Dataset"
   ]
  },
  {
   "cell_type": "code",
   "execution_count": 130,
   "id": "b91f950f",
   "metadata": {
    "scrolled": false
   },
<<<<<<< HEAD
   "outputs": [
    {
     "name": "stdout",
     "output_type": "stream",
     "text": [
      "Number of images in the dataset: 898\n"
     ]
    }
   ],
=======
   "outputs": [],
>>>>>>> 1a8e161ea79fbbc193531bbbcd46eccb72d77893
   "source": [
    "dataset = ImageQualityDataset(csv_file,dataset_root,transform=transform)"
   ]
  },
  {
   "cell_type": "markdown",
   "id": "ae9128a4",
   "metadata": {},
   "source": [
    "### 2.3 Split the dataset into training and validation sets"
   ]
  },
  {
   "cell_type": "code",
   "execution_count": 132,
   "id": "febe0d8c",
   "metadata": {},
   "outputs": [
    {
     "name": "stdout",
     "output_type": "stream",
     "text": [
      "Splitting Dataset..\n",
      "Number of Data to train: 718\n",
      "Number of Data to validate: 180\n"
     ]
    }
   ],
   "source": [
    "test_size = 0.2\n",
    "num_train = int(len(dataset)* (1-test_size))\n",
    "num_val = len(dataset) - num_train\n",
    "\n",
    "print('Splitting Dataset..')\n",
    "train_dataset, val_dataset = torch.utils.data.random_split(dataset, [num_train, num_val])\n",
    "\n",
    "print(f\"Number of Data to train: {num_train}\")\n",
    "print(f\"Number of Data to validate: {num_val}\")"
   ]
  },
  {
   "cell_type": "markdown",
   "id": "96485153",
   "metadata": {},
   "source": [
    "# 3. Train"
   ]
  },
  {
   "cell_type": "markdown",
   "id": "a040a46b",
   "metadata": {},
   "source": [
    "### 3.1 Define Training Parameters"
   ]
  },
  {
   "cell_type": "code",
   "execution_count": 133,
   "id": "8f882af4",
   "metadata": {},
   "outputs": [],
   "source": [
    "learning_rate = 1e-4/2\n",
    "batch_size = 128"
   ]
  },
  {
   "cell_type": "markdown",
   "id": "3f98fa91",
   "metadata": {},
   "source": [
    "### 3.2 Init Optimizer, loss function and dataloader"
   ]
  },
  {
   "cell_type": "code",
   "execution_count": 134,
   "id": "3aaf304e",
   "metadata": {},
   "outputs": [],
   "source": [
    "optimizer = optim.Adam(model.parameters(), lr=learning_rate)\n",
    "criterion = nn.CrossEntropyLoss()\n",
    "mse_criterion = nn.MSELoss()"
   ]
  },
  {
   "cell_type": "code",
   "execution_count": 135,
   "id": "eb92b701",
   "metadata": {},
   "outputs": [],
   "source": [
    "train_dataloader = DataLoader(train_dataset, batch_size=batch_size, shuffle=True, num_workers=4)\n",
    "val_dataloader = DataLoader(val_dataset, batch_size=batch_size, shuffle=False, num_workers=4)"
   ]
  },
  {
   "cell_type": "markdown",
   "id": "9fda88fb",
   "metadata": {},
   "source": [
    "### 3.3 Train-Loop"
   ]
  },
  {
   "cell_type": "code",
   "execution_count": 136,
   "id": "3d03ad2c",
   "metadata": {},
   "outputs": [],
   "source": [
    "device = torch.device('cuda' if torch.cuda.is_available() else 'cpu')\n",
    "model.to(device)\n",
    "best_val_loss = float('inf')\n",
    "best_model_weights = None"
   ]
  },
  {
   "cell_type": "code",
   "execution_count": 137,
   "id": "a116623e",
   "metadata": {
    "scrolled": true
   },
<<<<<<< HEAD
   "outputs": [
    {
     "name": "stdout",
     "output_type": "stream",
     "text": [
      "Starting training...\n",
      "Epoch [1/15], Training Loss: 2.4792, Training Acc: 0.5446, Validation Loss: 1.5526, Validation Acc: 0.5167\n",
      "Epoch [2/15], Training Loss: 1.1368, Training Acc: 0.5557, Validation Loss: 1.1760, Validation Acc: 0.5056\n",
      "Epoch [3/15], Training Loss: 0.9359, Training Acc: 0.6003, Validation Loss: 1.0458, Validation Acc: 0.5500\n",
      "Epoch [4/15], Training Loss: 0.8517, Training Acc: 0.6476, Validation Loss: 1.0238, Validation Acc: 0.6167\n",
      "Epoch [5/15], Training Loss: 0.8323, Training Acc: 0.6337, Validation Loss: 0.9719, Validation Acc: 0.6333\n",
      "Epoch [6/15], Training Loss: 0.7857, Training Acc: 0.6727, Validation Loss: 1.0400, Validation Acc: 0.6222\n",
      "Epoch [7/15], Training Loss: 0.7856, Training Acc: 0.6630, Validation Loss: 1.0510, Validation Acc: 0.5944\n",
      "Epoch [8/15], Training Loss: 0.7523, Training Acc: 0.6713, Validation Loss: 0.9799, Validation Acc: 0.6000\n",
      "Epoch [9/15], Training Loss: 0.7340, Training Acc: 0.6755, Validation Loss: 1.0043, Validation Acc: 0.6389\n",
      "Epoch [10/15], Training Loss: 0.7093, Training Acc: 0.6825, Validation Loss: 1.0501, Validation Acc: 0.6167\n",
      "Epoch [11/15], Training Loss: 0.7087, Training Acc: 0.7089, Validation Loss: 1.0331, Validation Acc: 0.5722\n",
      "Epoch [12/15], Training Loss: 0.6947, Training Acc: 0.6950, Validation Loss: 1.0982, Validation Acc: 0.5556\n",
      "Epoch [13/15], Training Loss: 0.6786, Training Acc: 0.7173, Validation Loss: 1.0433, Validation Acc: 0.6111\n",
      "Epoch [14/15], Training Loss: 0.6591, Training Acc: 0.7396, Validation Loss: 1.1147, Validation Acc: 0.6111\n",
      "Epoch [15/15], Training Loss: 0.6237, Training Acc: 0.7688, Validation Loss: 1.1612, Validation Acc: 0.6000\n"
     ]
    }
   ],
=======
   "outputs": [],
>>>>>>> 1a8e161ea79fbbc193531bbbcd46eccb72d77893
   "source": [
    "train_losses = []\n",
    "val_losses = []\n",
    "    \n",
    "# Initialize a list to store model results\n",
    "model_results = []\n",
    "print(\"Starting training...\")\n",
    "for epoch in range(num_epochs):\n",
    "    # Training\n",
    "    model.train()\n",
    "    train_loss = 0.0\n",
    "    train_preds = []\n",
    "    train_labels = []\n",
    "\n",
    "    for _, (images, labels) in enumerate(train_dataloader):\n",
    "        images = images.to(device)\n",
    "        labels = labels.to(device)\n",
    "\n",
    "        optimizer.zero_grad()\n",
    "        outputs = model(images)\n",
    "        \n",
    "        loss = criterion(outputs, labels)\n",
    "        loss.backward()\n",
    "        optimizer.step()\n",
    "\n",
    "        train_loss += loss.item() * images.size(0)\n",
    "        _, preds = torch.max(outputs, 1)  # Get predicted labels\n",
    "        train_preds.extend(preds.cpu().numpy())  # Extend the list of predictions\n",
    "        train_labels.extend(labels.cpu().numpy())  # Extend the list of true labels\n",
    "        train_accuracy = accuracy_score(train_labels, train_preds)\n",
    "\n",
    "    # Validation\n",
    "    model.eval()\n",
    "    val_loss = 0.0\n",
    "    val_preds = []\n",
    "    val_labels = []\n",
    "\n",
    "    with torch.no_grad():\n",
    "        for _, (images, labels) in enumerate(val_dataloader):\n",
    "            images = images.to(device)\n",
    "            labels = labels.to(device)\n",
    "            \n",
    "            \n",
    "            #MSE\n",
    "            #outputs = model(images)\n",
    "            #labels = labels.unsqueeze(0)\n",
    "            #labels = labels.float()\n",
    "            #print(\"Validation:\",outputs.shape,labels.shape)\n",
    "            #mse_loss = mse_criterion(outputs, labels)\n",
    "            #val_loss += mse_loss.item() * images.size(0)\n",
    "\n",
    "            \n",
    "            #CROSS-ENTROPY\n",
    "            outputs = model(images)\n",
    "            loss = criterion(outputs, labels)\n",
    "            val_loss += loss.item() * images.size(0)\n",
<<<<<<< HEAD
    "            \n",
    "            \n",
    "            \n",
=======
>>>>>>> 1a8e161ea79fbbc193531bbbcd46eccb72d77893
    "            _, preds = torch.max(outputs, 1)  # Get predicted labels\n",
    "            val_preds.extend(preds.cpu().numpy())  # Extend the list of predictions\n",
    "            val_labels.extend(labels.cpu().numpy())  # Extend the list of true labels\n",
    "\n",
    "\n",
    "\n",
    "    val_accuracy = accuracy_score(val_labels, val_preds)\n",
    "    train_loss /= len(train_dataset)\n",
    "    val_loss /= len(val_dataset)\n",
    "    print(f'Epoch [{epoch+1}/{num_epochs}], Training Loss: {train_loss:.4f}, Training Acc: {train_accuracy:.4f}, Validation Loss: {val_loss:.4f}, Validation Acc: {val_accuracy:.4f}')\n",
    "\n",
    "    # Calculate and store the losses\n",
    "    train_losses.append(train_loss)\n",
    "    val_losses.append(val_loss)\n",
    "    \n",
    "    \n",
    "    # Save the weights with the best validation loss\n",
    "    if val_loss < best_val_loss:\n",
    "        # Delete the previously saved best model\n",
    "        #if best_model_weights is not None:\n",
    "        #    os.remove(best_model_path)\n",
    "\n",
    "        # Update the best validation loss and save the new best model\n",
    "        best_val_loss = val_loss\n",
    "        best_model_weights = model.state_dict().copy()\n",
    "\n",
    "        # Get the current timestamp\n",
    "        timestamp = datetime.datetime.now().strftime(\"%Y%m%d_%H%M%S\")\n",
    "        last_folder = os.path.basename(dataset_root)\n",
    "        # Use the timestamp and transfer learning information as a name extension\n",
    "        model_name = f\"vit_model_{timestamp}_epoch_{epoch+1}of{num_epochs}_valLoss_{best_val_loss:.3f}_valAcc_{val_accuracy:.3f}_batchsize_{batch_size}_lr_{learning_rate:.1f}_{last_folder}.pth\"\n",
    "        best_model_path = os.path.join(results_path, model_name)\n",
    "        torch.save(best_model_weights, best_model_path)\n",
    "        \n",
    "        # After saving the best model\n",
    "        model_info = {\n",
    "            'model_name': model_name,\n",
    "            'validation_loss': val_loss,\n",
    "            'validation_accuracy': val_accuracy,\n",
    "            'batch_size': batch_size,\n",
    "            'learning_rate': learning_rate,\n",
    "            'epoch': epoch + 1\n",
    "        }\n",
    "        model_results.append(model_info)"
   ]
  },
  {
   "cell_type": "code",
<<<<<<< HEAD
   "execution_count": 138,
=======
   "execution_count": null,
>>>>>>> 1a8e161ea79fbbc193531bbbcd46eccb72d77893
   "id": "b69c2f26",
   "metadata": {},
   "outputs": [
    {
     "data": {
      "image/png": "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",
      "text/plain": [
       "<Figure size 640x480 with 1 Axes>"
      ]
     },
     "metadata": {},
     "output_type": "display_data"
    }
   ],
   "source": [
    "# Create a DataFrame from model_results\n",
    "results_df = pd.DataFrame(model_results)\n",
    "\n",
    "# Save the results as a CSV file\n",
    "results_csv_path = os.path.join(results_path, f'model_results_{last_folder}.csv')\n",
    "results_df.to_csv(results_csv_path, index=False)\n",
    "\n",
    "# Save the Matplotlib figure with the same basename as the saved model\n",
    "figure_name = os.path.splitext(model_name)[0] + '.png'\n",
    "figure_path = os.path.join(results_path, figure_name)\n",
    "# Plot the losses\n",
    "plt.plot(range(1, num_epochs + 1), train_losses, label='Training Loss')\n",
    "plt.plot(range(1, num_epochs + 1), val_losses, label='Validation Loss')\n",
    "plt.xlabel('Epoch')\n",
    "plt.ylabel('Loss')\n",
    "plt.title('Training and Validation Loss')\n",
    "plt.legend()\n",
    "plt.savefig(figure_path)\n",
    "plt.show()"
   ]
  },
  {
<<<<<<< HEAD
   "cell_type": "markdown",
   "id": "3b21fe32",
=======
   "cell_type": "code",
   "execution_count": null,
   "id": "e17bd1d3",
>>>>>>> 1a8e161ea79fbbc193531bbbcd46eccb72d77893
   "metadata": {},
   "outputs": [],
   "source": [
<<<<<<< HEAD
    "# 4. Plotting and Evaluating"
=======
    "%%bash\n",
    "sudo shutdown -h now"
>>>>>>> 1a8e161ea79fbbc193531bbbcd46eccb72d77893
   ]
  },
  {
   "cell_type": "markdown",
<<<<<<< HEAD
   "id": "43ebb8c5",
   "metadata": {},
   "source": [
    "### 4.1 Define Model and Dataset to evaluat"
=======
   "id": "3b21fe32",
   "metadata": {},
   "source": [
    "# 4. Plotting and Evaluating"
   ]
  },
  {
   "cell_type": "markdown",
   "id": "43ebb8c5",
   "metadata": {},
   "source": [
    "### 4.1 Define Model and Dataset to evaluat"
   ]
  },
  {
   "cell_type": "code",
   "execution_count": null,
   "id": "6873d8c7",
   "metadata": {},
   "outputs": [],
   "source": [
    "#weights_path = f'{results_path}/vit_model_20230821_121731_epoch_2of20_valLoss_1.572_valAcc_0.267_batchsize_64_lr_0.0_TestImg.pth'\n",
    "weights_path = f'/home/maxgan/WORKSPACE/UNI/BA/vision-transformer-for-image-quality-perception-of-individual-observers/results/weights/TEST/vit_model_20230821_120855_epoch_16of20_valLoss_7.457_valAcc_0.233_batchsize_64_lr_0.0_TestImg.pth'\n",
    "\n",
    "csv_file = '/home/maxgan/WORKSPACE/UNI/BA/vision-transformer-for-image-quality-perception-of-individual-observers/assets/Test/TestImg'\n",
    "dataset_root = '/home/maxgan/WORKSPACE/UNI/BA/vision-transformer-for-image-quality-perception-of-individual-observers/assets/Test/AccTestCsv/objectiveAccTest.csv'"
>>>>>>> 1a8e161ea79fbbc193531bbbcd46eccb72d77893
   ]
  },
  {
   "cell_type": "code",
   "execution_count": 150,
   "id": "6873d8c7",
   "metadata": {},
   "outputs": [],
   "source": [
    "# weights_path = f'{results_path}/vit_model_20230821_121731_epoch_2of20_valLoss_1.572_valAcc_0.267_batchsize_64_lr_0.0_TestImg.pth'\n",
    "weights_path = f'results/weights/Person_1_shinyx/vit_model_20230831_184829_epoch_4of15_valLoss_0.718_valAcc_0.706_batchsize_64_lr_0.0_imgs.pth'\n",
    "results_path = 'results/weights/Person_1_shinyx'\n",
    "\n",
    "dataset_root = 'C:/Users/SilverFear/Desktop/vision-transformer-for-image-quality-perception-of-individual-observers/assets/Test/TestImg'\n",
    "csv_file = 'assets/Test/AccTestCsv/shinyxAccTest20-01-2023.csv'"
   ]
  },
  {
   "cell_type": "code",
   "execution_count": 151,
   "id": "a22ca582",
   "metadata": {},
   "outputs": [
    {
     "name": "stdout",
     "output_type": "stream",
     "text": [
      "ViT(\n",
      "  (to_patch_embedding): SPT(\n",
      "    (to_patch_tokens): Sequential(\n",
      "      (0): Rearrange('b c (h p1) (w p2) -> b (h w) (p1 p2 c)', p1=16, p2=16)\n",
      "      (1): LayerNorm((3840,), eps=1e-05, elementwise_affine=True)\n",
      "      (2): Linear(in_features=3840, out_features=1024, bias=True)\n",
      "    )\n",
      "  )\n",
      "  (dropout): Dropout(p=0.1, inplace=False)\n",
      "  (transformer): Transformer(\n",
      "    (layers): ModuleList(\n",
      "      (0-5): 6 x ModuleList(\n",
      "        (0): PreNorm(\n",
      "          (norm): LayerNorm((1024,), eps=1e-05, elementwise_affine=True)\n",
      "          (fn): LSA(\n",
      "            (attend): Softmax(dim=-1)\n",
      "            (dropout): Dropout(p=0.0, inplace=False)\n",
      "            (to_qkv): Linear(in_features=1024, out_features=3072, bias=False)\n",
      "            (to_out): Sequential(\n",
      "              (0): Linear(in_features=1024, out_features=1024, bias=True)\n",
      "              (1): Dropout(p=0.0, inplace=False)\n",
      "            )\n",
      "          )\n",
      "        )\n",
      "        (1): PreNorm(\n",
      "          (norm): LayerNorm((1024,), eps=1e-05, elementwise_affine=True)\n",
      "          (fn): FeedForward(\n",
      "            (net): Sequential(\n",
      "              (0): Linear(in_features=1024, out_features=2048, bias=True)\n",
      "              (1): GELU(approximate='none')\n",
      "              (2): Dropout(p=0.0, inplace=False)\n",
      "              (3): Linear(in_features=2048, out_features=1024, bias=True)\n",
      "              (4): Dropout(p=0.0, inplace=False)\n",
      "            )\n",
      "          )\n",
      "        )\n",
      "      )\n",
      "    )\n",
      "  )\n",
      "  (to_latent): Identity()\n",
      "  (mlp_head): Sequential(\n",
      "    (0): LayerNorm((1024,), eps=1e-05, elementwise_affine=True)\n",
      "    (1): Linear(in_features=1024, out_features=5, bias=True)\n",
      "  )\n",
      ")\n",
      "Number of images in the dataset: 300\n"
     ]
    }
   ],
   "source": [
    "model = ViT(\n",
    "    image_size=image_size,\n",
    "    patch_size=patch_size,\n",
    "    num_classes=num_classes,\n",
    "    dim=dim,\n",
    "    depth=depth,\n",
    "    heads=heads,\n",
    "    mlp_dim=mlp_dim,\n",
    "    emb_dropout=emb_dropout\n",
    ")\n",
    "model.load_state_dict(torch.load(weights_path))\n",
<<<<<<< HEAD
    "print(model)\n",
=======
    "\n",
>>>>>>> 1a8e161ea79fbbc193531bbbcd46eccb72d77893
    "dataset = ImageQualityDataset(csv_file,dataset_root)"
   ]
  },
  {
   "cell_type": "markdown",
   "id": "5bee2c51",
   "metadata": {},
   "source": [
    "### 4.2 Plot Confusion Matrix"
   ]
  },
  {
   "cell_type": "code",
   "execution_count": 152,
   "id": "ba4731cd",
   "metadata": {},
   "outputs": [],
   "source": [
    "from sklearn.metrics import confusion_matrix\n",
    "def prediction_quality(image_path, model):\n",
    "    # Define the image augmentation transformations\n",
    "    transform = transforms.Compose([\n",
    "        transforms.RandomResizedCrop(256),\n",
    "        transforms.RandomHorizontalFlip(),\n",
    "        transforms.ToTensor(),\n",
    "        transforms.Normalize(mean=[0.485, 0.456, 0.406], std=[0.229, 0.224, 0.225])  # Normalize with ImageNet mean and std\n",
    "    ])\n",
    "\n",
    "    # image = Image.open(image_path).convert('RGB')\n",
    "    image_tensor = transform(image_path).unsqueeze(0)\n",
    "\n",
    "    device = torch.device('cuda' if torch.cuda.is_available() else 'cpu')\n",
    "    model.to(device)\n",
    "    model.eval()\n",
    "    with torch.no_grad():\n",
    "        image_tensor = image_tensor.to(device)\n",
    "        outputs = model(image_tensor)\n",
    "        _, predicted_label = torch.max(outputs, 1)\n",
    "        predicted_rating = predicted_label.item() + 1  # Adding 1 to convert 0-based index to 1-based rating\n",
    "    return predicted_rating\n",
    "\n",
    "def compare(dataset, model):\n",
    "    device = torch.device('cuda' if torch.cuda.is_available() else 'cpu')\n",
    "    model.to(device)\n",
    "    model.eval()\n",
    "\n",
    "    predictions = []\n",
    "    ground_truth_ratings = []\n",
    "\n",
    "    with torch.no_grad():\n",
    "        for image_path, rating in dataset:\n",
    "            # image_path = os.path.join(dataset_root, image_path)\n",
    "            predicted_rating = prediction_quality(image_path, model)\n",
    "\n",
    "            predictions.append(predicted_rating)\n",
    "            ground_truth_ratings.append(rating + 1)\n",
    "\n",
    "    return predictions, ground_truth_ratings"
   ]
  },
  {
   "cell_type": "code",
   "execution_count": 153,
   "id": "a7c93143",
   "metadata": {},
   "outputs": [],
   "source": [
    "# Compare model predictions with ground truth ratings for the subjective datasets\n",
    "predictions, ground_truth_ratings = compare(dataset, model)\n",
    "\n",
    "# Create the confusion matrix\n",
    "conf_matrix = confusion_matrix(ground_truth_ratings, predictions)"
   ]
  },
  {
   "cell_type": "code",
   "execution_count": 154,
   "id": "cf3f0bf8",
   "metadata": {},
   "outputs": [
    {
     "data": {
      "image/png": "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",
      "text/plain": [
       "<Figure size 600x600 with 2 Axes>"
      ]
     },
     "metadata": {},
     "output_type": "display_data"
    }
   ],
   "source": [
    "# figure_name = f\"Confusion_Matrix_{os.path.splitext(model_name)[0]}.png\"\n",
    "figure_name = f\"Confusion_Matrix_{os.path.splitext(os.path.basename(weights_path))[0] + '.png'}\"\n",
    "figure_path = os.path.join(results_path, figure_name)\n",
    "\n",
    "# Plot the confusion matrix as a heatmap with annotations\n",
    "plt.figure(figsize=(6, 6))\n",
    "plt.imshow(conf_matrix, cmap='Blues', interpolation='nearest')\n",
    "plt.colorbar()\n",
    "plt.xlabel('Predicted Ratings')\n",
    "plt.ylabel('Ground Truth Ratings')\n",
    "plt.title('Confusion Matrix')\n",
    "plt.xticks(np.arange(5), np.arange(1, 6))\n",
    "plt.yticks(np.arange(5), np.arange(1, 6))\n",
    "\n",
    "# Add text annotations for true positives and false positives\n",
    "for i in range(conf_matrix.shape[0]):\n",
    "    for j in range(conf_matrix.shape[1]):\n",
    "        # Customize text color for light blue boxes (when the value is high)\n",
    "        if conf_matrix[i, j] > conf_matrix.max() / 2:\n",
    "            plt.text(j, i, str(conf_matrix[i, j]), ha='center', va='center', color='white')\n",
    "        else:\n",
    "            plt.text(j, i, str(conf_matrix[i, j]), ha='center', va='center', color='black')\n",
    "plt.savefig(figure_path)\n",
    "plt.show()"
   ]
  },
  {
   "cell_type": "markdown",
   "id": "55cdb6fa",
   "metadata": {},
   "source": [
    "### 4.3 Plot Distribution"
   ]
  },
  {
   "cell_type": "code",
   "execution_count": 30,
   "id": "06c40497",
   "metadata": {},
   "outputs": [],
   "source": [
<<<<<<< HEAD
    "# csv_file = \"/home/maxgan/WORKSPACE/UNI/BA/TIQ/assets/Test/AccTestCsv/shinyxAccTest20-01-2023.csv\"\n",
    "output_image_path = \"C:/Users/SilverFear/Desktop/vision-transformer-for-image-quality-perception-of-individual-observers/assets/Test/AccTestCsv/rating_distribution_objectiveAccTest.png\""
=======
    "csv_file = \"/home/maxgan/WORKSPACE/UNI/BA/TIQ/assets/Test/AccTestCsv/shinyxAccTest20-01-2023.csv\"\n",
    "output_image_path = \"/home/maxgan/WORKSPACE/UNI/BA/TIQ/assets/Test/AccTestCsv/rating_distribution_shinyxAccTest.png\""
>>>>>>> 1a8e161ea79fbbc193531bbbcd46eccb72d77893
   ]
  },
  {
   "cell_type": "code",
   "execution_count": 31,
   "id": "6d74ad82",
   "metadata": {},
   "outputs": [],
   "source": [
    "data = pd.read_csv(csv_file, header=None, skiprows=1)\n",
    "\n",
    "# Map rating values to their corresponding labels\n",
    "rating_labels = {\n",
    "    1: \"Bad\",\n",
    "    2: \"Insufficient\",\n",
    "    3: \"Fair\",\n",
    "    4: \"Good\",\n",
    "    5: \"Excellent\"\n",
    "}\n",
    "data[\"Rating_Label\"] = data[1].map(rating_labels)\n",
    "\n",
    "# Group data by Rating_Label and count occurrences\n",
    "class_counts = data[\"Rating_Label\"].value_counts().sort_index()\n",
    "# Calculate total number of images\n",
    "total_images = class_counts.sum()"
   ]
  },
  {
   "cell_type": "code",
   "execution_count": 32,
   "id": "0ee564bc",
   "metadata": {
    "scrolled": true
   },
<<<<<<< HEAD
   "outputs": [
    {
     "data": {
      "image/png": "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",
      "text/plain": [
       "<Figure size 1000x600 with 1 Axes>"
      ]
     },
     "metadata": {},
     "output_type": "display_data"
    },
    {
     "name": "stdout",
     "output_type": "stream",
     "text": [
      "Rating Distribution Table:\n",
      "Rating_Label\n",
      "Bad             60\n",
      "Excellent       60\n",
      "Fair            60\n",
      "Good            60\n",
      "Insufficient    60\n",
      "Name: count, dtype: int64\n"
     ]
    }
   ],
=======
   "outputs": [],
>>>>>>> 1a8e161ea79fbbc193531bbbcd46eccb72d77893
   "source": [
    "# Create a bar chart\n",
    "plt.figure(figsize=(10, 6))\n",
    "class_counts.plot(kind=\"bar\", color='skyblue')\n",
    "plt.title(\"Image Rating Distribution Person1 (shinyx)\")\n",
    "plt.xlabel(\"Rating\")\n",
    "plt.ylabel(\"Number of Images\")\n",
    "plt.xticks(rotation=45)\n",
    "plt.tight_layout()\n",
    "plt.savefig(output_image_path)\n",
    "plt.show()\n",
    "# Display the table\n",
    "print(\"Rating Distribution Table:\")\n",
    "print(class_counts)"
   ]
  },
  {
   "cell_type": "markdown",
   "id": "6872214c",
   "metadata": {},
   "source": [
    "### 4.4 Plot SSMI"
   ]
  },
  {
   "cell_type": "code",
   "execution_count": null,
   "id": "ff4ac19f",
   "metadata": {},
   "outputs": [],
   "source": [
    "image_path1 = \"/home/maxgan/WORKSPACE/UNI/BA/TIQ/assets/Test/TestImg/4359ILSVRC2013_train_00022365.JPEG_I1_Q8.jpeg\"  # Replace with your image file path\n",
    "image_path2 = \"/home/maxgan/WORKSPACE/UNI/BA/TIQ/assets/DatasetObjective/allDistorted/4359ILSVRC2013_train_00022365.JPEG_I5_Q67.jpeg\"  # Replace with your image file path"
   ]
  },
  {
   "cell_type": "code",
   "execution_count": null,
   "id": "b284264b",
   "metadata": {},
   "outputs": [],
   "source": [
    "from PIL import Image\n",
    "from skimage.metrics import structural_similarity as ssim\n",
    "\n",
    "def compare_ssim(image_path1, image_path2):\n",
    "    # Open the images using PIL\n",
    "    img1 = Image.open(image_path1)\n",
    "    img2 = Image.open(image_path2)\n",
    "\n",
    "    # Convert images to grayscale (if they are not already)\n",
    "    if img1.mode != 'L':\n",
    "        img1 = img1.convert('L')\n",
    "    if img2.mode != 'L':\n",
    "        img2 = img2.convert('L')\n",
    "\n",
    "    # Convert PIL Images to numpy arrays for skimage's ssim function\n",
    "    img1_array = np.array(img1)\n",
    "    img2_array = np.array(img2)\n",
    "\n",
    "    # Calculate SSIM\n",
    "    ssim_value = ssim(img1_array, img2_array)\n",
    "\n",
    "    return img1, img2, ssim_value"
   ]
  },
  {
   "cell_type": "code",
   "execution_count": null,
   "id": "79d5d63b",
   "metadata": {
    "scrolled": false
   },
   "outputs": [],
   "source": [
    "img1, img2, similarity = compare_ssim(image_path1, image_path2)\n",
    "print(f\"SSIM between the images: {similarity:.4f}\")\n",
    "\n",
    "# Plotting\n",
    "fig, axs = plt.subplots(1, 3, figsize=(12, 4))\n",
    "\n",
    "axs[0].imshow(img1, cmap='gray')\n",
    "axs[0].set_title('Image 1')\n",
    "\n",
    "axs[1].imshow(img2, cmap='gray')\n",
    "axs[1].set_title('Image 2')\n",
    "\n",
    "axs[2].text(0.5, 0.5, f\"SSIM: {similarity:.4f}\", fontsize=12,\n",
    "            horizontalalignment='center', verticalalignment='center')\n",
    "axs[2].axis('off')\n",
    "axs[2].set_title('SSIM')\n",
    "\n",
    "plt.tight_layout()\n",
    "plt.show()"
   ]
  },
  {
   "cell_type": "markdown",
   "id": "be565be5",
   "metadata": {},
   "source": [
    "### 4.4 Plot Attentionmap"
   ]
  },
  {
   "cell_type": "code",
<<<<<<< HEAD
   "execution_count": 33,
=======
   "execution_count": null,
>>>>>>> 1a8e161ea79fbbc193531bbbcd46eccb72d77893
   "id": "cd62c4ac",
   "metadata": {},
   "outputs": [],
   "source": [
<<<<<<< HEAD
    "image_path = \"./assets/Test/TestImg/802ILSVRC2013_train_00013401.JPEG_I2_Q15.jpeg\""
=======
    "image_path = \"/home/maxgan/WORKSPACE/UNI/BA/vision-transformer-for-image-quality-perception-of-individual-observers/assets/Test/TestImg/802ILSVRC2013_train_00013401.JPEG_I2_Q15.jpeg\""
>>>>>>> 1a8e161ea79fbbc193531bbbcd46eccb72d77893
   ]
  },
  {
   "cell_type": "code",
<<<<<<< HEAD
   "execution_count": 35,
   "id": "587fb5dd",
   "metadata": {},
   "outputs": [
    {
     "name": "stdout",
     "output_type": "stream",
     "text": [
      "Collecting captum\n",
      "  Downloading captum-0.6.0-py3-none-any.whl (1.3 MB)\n",
      "     ---------------------------------------- 0.0/1.3 MB ? eta -:--:--\n",
      "     ---------------------------------------- 0.0/1.3 MB ? eta -:--:--\n",
      "     - -------------------------------------- 0.1/1.3 MB 1.1 MB/s eta 0:00:02\n",
      "     -------- ------------------------------- 0.3/1.3 MB 2.9 MB/s eta 0:00:01\n",
      "     ----------------------- ---------------- 0.8/1.3 MB 5.3 MB/s eta 0:00:01\n",
      "     ---------------------------------------- 1.3/1.3 MB 7.0 MB/s eta 0:00:00\n",
      "Requirement already satisfied: matplotlib in c:\\users\\silverfear\\anaconda3\\envs\\vit_iqa\\lib\\site-packages (from captum) (3.7.2)\n",
      "Requirement already satisfied: numpy in c:\\users\\silverfear\\anaconda3\\envs\\vit_iqa\\lib\\site-packages (from captum) (1.25.2)\n",
      "Requirement already satisfied: torch>=1.6 in c:\\users\\silverfear\\anaconda3\\envs\\vit_iqa\\lib\\site-packages (from captum) (2.0.1+cu117)\n",
      "Requirement already satisfied: filelock in c:\\users\\silverfear\\anaconda3\\envs\\vit_iqa\\lib\\site-packages (from torch>=1.6->captum) (3.9.0)\n",
      "Requirement already satisfied: typing-extensions in c:\\users\\silverfear\\anaconda3\\envs\\vit_iqa\\lib\\site-packages (from torch>=1.6->captum) (4.7.1)\n",
      "Requirement already satisfied: sympy in c:\\users\\silverfear\\anaconda3\\envs\\vit_iqa\\lib\\site-packages (from torch>=1.6->captum) (1.11.1)\n",
      "Requirement already satisfied: networkx in c:\\users\\silverfear\\anaconda3\\envs\\vit_iqa\\lib\\site-packages (from torch>=1.6->captum) (3.0)\n",
      "Requirement already satisfied: jinja2 in c:\\users\\silverfear\\anaconda3\\envs\\vit_iqa\\lib\\site-packages (from torch>=1.6->captum) (3.1.2)\n",
      "Requirement already satisfied: contourpy>=1.0.1 in c:\\users\\silverfear\\anaconda3\\envs\\vit_iqa\\lib\\site-packages (from matplotlib->captum) (1.1.0)\n",
      "Requirement already satisfied: cycler>=0.10 in c:\\users\\silverfear\\anaconda3\\envs\\vit_iqa\\lib\\site-packages (from matplotlib->captum) (0.11.0)\n",
      "Requirement already satisfied: fonttools>=4.22.0 in c:\\users\\silverfear\\anaconda3\\envs\\vit_iqa\\lib\\site-packages (from matplotlib->captum) (4.42.1)\n",
      "Requirement already satisfied: kiwisolver>=1.0.1 in c:\\users\\silverfear\\anaconda3\\envs\\vit_iqa\\lib\\site-packages (from matplotlib->captum) (1.4.5)\n",
      "Requirement already satisfied: packaging>=20.0 in c:\\users\\silverfear\\anaconda3\\envs\\vit_iqa\\lib\\site-packages (from matplotlib->captum) (23.0)\n",
      "Requirement already satisfied: pillow>=6.2.0 in c:\\users\\silverfear\\anaconda3\\envs\\vit_iqa\\lib\\site-packages (from matplotlib->captum) (10.0.0)\n",
      "Requirement already satisfied: pyparsing<3.1,>=2.3.1 in c:\\users\\silverfear\\anaconda3\\envs\\vit_iqa\\lib\\site-packages (from matplotlib->captum) (3.0.9)\n",
      "Requirement already satisfied: python-dateutil>=2.7 in c:\\users\\silverfear\\anaconda3\\envs\\vit_iqa\\lib\\site-packages (from matplotlib->captum) (2.8.2)\n",
      "Requirement already satisfied: six>=1.5 in c:\\users\\silverfear\\anaconda3\\envs\\vit_iqa\\lib\\site-packages (from python-dateutil>=2.7->matplotlib->captum) (1.16.0)\n",
      "Requirement already satisfied: MarkupSafe>=2.0 in c:\\users\\silverfear\\anaconda3\\envs\\vit_iqa\\lib\\site-packages (from jinja2->torch>=1.6->captum) (2.1.1)\n",
      "Requirement already satisfied: mpmath>=0.19 in c:\\users\\silverfear\\anaconda3\\envs\\vit_iqa\\lib\\site-packages (from sympy->torch>=1.6->captum) (1.2.1)\n",
      "Installing collected packages: captum\n",
      "Successfully installed captum-0.6.0\n"
     ]
    }
   ],
   "source": [
    "!pip install captum"
   ]
  },
  {
   "cell_type": "code",
   "execution_count": 48,
   "id": "189af80c",
   "metadata": {},
   "outputs": [
    {
     "ename": "NameError",
     "evalue": "name 'length' is not defined",
     "output_type": "error",
     "traceback": [
      "\u001b[1;31m---------------------------------------------------------------------------\u001b[0m",
      "\u001b[1;31mNameError\u001b[0m                                 Traceback (most recent call last)",
      "Cell \u001b[1;32mIn[48], line 38\u001b[0m\n\u001b[0;32m     35\u001b[0m \u001b[39mfor\u001b[39;00m i \u001b[39min\u001b[39;00m \u001b[39mrange\u001b[39m(\u001b[39m0\u001b[39m,\u001b[39m4\u001b[39m):\n\u001b[0;32m     36\u001b[0m     attributions\u001b[39m.\u001b[39mappend(layer_cond\u001b[39m.\u001b[39mattribute(image_tensor, target\u001b[39m=\u001b[39mi))  \u001b[39m# Modify the target class index\u001b[39;00m\n\u001b[1;32m---> 38\u001b[0m \u001b[39mprint\u001b[39m(length(attributions))\n",
      "\u001b[1;31mNameError\u001b[0m: name 'length' is not defined"
     ]
    }
   ],
   "source": [
    "import torch\n",
    "from captum.attr import LayerConductance\n",
    "from PIL import Image\n",
=======
   "execution_count": null,
   "id": "189af80c",
   "metadata": {},
   "outputs": [],
   "source": [
    "import torch\n",
    "from captum.attr import LayerConductance\n",
>>>>>>> 1a8e161ea79fbbc193531bbbcd46eccb72d77893
    "\n",
    "# Load your trained ViT model\n",
    "model = ViT(\n",
    "    image_size=image_size,\n",
    "    patch_size=patch_size,\n",
    "    num_classes=num_classes,\n",
    "    dim=dim,\n",
    "    depth=depth,\n",
    "    heads=heads,\n",
    "    mlp_dim=mlp_dim,\n",
    "    emb_dropout=emb_dropout\n",
    ")\n",
    "model.load_state_dict(torch.load(weights_path))\n",
    "\n",
    "# Load a sample image tensor (single image)\n",
    "image = Image.open(image_path)\n",
<<<<<<< HEAD
    "image_tensor = transform(image).unsqueeze(0)\n",
=======
    "image_tensor = transform(image)\n",
>>>>>>> 1a8e161ea79fbbc193531bbbcd46eccb72d77893
    "\n",
    "# Set the model to evaluation mode\n",
    "model.eval()\n",
    "\n",
    "# Calculate the attention maps using LayerConductance\n",
    "# Choose a layer to visualize (e.g., the last layer or a specific layer)\n",
<<<<<<< HEAD
    "# layer = model.transformer.encoder[-1].norm2\n",
    "layer = model.transformer.layers[-1][-1].norm\n",
=======
    "layer = model.transformer.encoder[-1].norm2\n",
>>>>>>> 1a8e161ea79fbbc193531bbbcd46eccb72d77893
    "\n",
    "# Instantiate the LayerConductance\n",
    "layer_cond = LayerConductance(model, layer)\n",
    "\n",
    "# Compute attention maps for the image\n",
<<<<<<< HEAD
    "attributions = []\n",
    "for i in range(0,4):\n",
    "    attributions.append(layer_cond.attribute(image_tensor, target=i))  # Modify the target class index\n",
    "\n",
    "# You can modify this code to visualize the attention maps for different layers and images\n",
    "# plt.figure(figsize=(10, 10))\n",
    "# for i in range(attributions.shape[1]):\n",
    "#     plt.subplot(4, 4, i + 1)\n",
    "#     plt.imshow(attributions[0, i].detach().cpu().numpy(), cmap='viridis')\n",
    "#     plt.axis('off')\n",
    "#     plt.title(f'Attention Map {i}')\n",
    "# plt.tight_layout()\n",
    "# plt.show()\n"
   ]
  },
  {
   "cell_type": "code",
   "execution_count": 53,
   "id": "eeeab543",
   "metadata": {},
   "outputs": [
    {
     "name": "stdout",
     "output_type": "stream",
     "text": [
      "tensor([[-0.0025, -0.0006, -0.0061,  ..., -0.0037, -0.0022,  0.0067],\n",
      "        [ 0.0000,  0.0000,  0.0000,  ...,  0.0000,  0.0000,  0.0000],\n",
      "        [ 0.0000,  0.0000,  0.0000,  ...,  0.0000,  0.0000,  0.0000],\n",
      "        ...,\n",
      "        [ 0.0000,  0.0000,  0.0000,  ...,  0.0000,  0.0000,  0.0000],\n",
      "        [ 0.0000,  0.0000,  0.0000,  ...,  0.0000,  0.0000,  0.0000],\n",
      "        [ 0.0000,  0.0000,  0.0000,  ...,  0.0000,  0.0000,  0.0000]],\n",
      "       grad_fn=<SelectBackward0>)\n"
     ]
    },
    {
     "data": {
      "image/png": "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",
      "text/plain": [
       "<Figure size 640x480 with 1 Axes>"
      ]
     },
     "metadata": {},
     "output_type": "display_data"
    }
   ],
   "source": [
    "print(attributions[0][0])\n",
    "import numpy as np\n",
    "\n",
    "# Assuming attributions[0] is the attention map for the first target class\n",
    "attention_map = attributions[0][0].detach().cpu().numpy()\n",
    "\n",
    "# Normalize the attention map to range [0, 1]\n",
    "attention_map = (attention_map - attention_map.min()) / (attention_map.max() - attention_map.min() + 1e-6)\n",
    "\n",
    "# Visualize the attention map\n",
    "plt.imshow(attention_map, cmap='viridis', vmin=0, vmax=1)\n",
    "plt.axis('off')\n",
    "plt.title('Attention Map for Target Class 0')\n",
    "plt.show()\n",
    "\n"
=======
    "attributions = layer_cond.attribute(image_tensor, target=1)  # Modify the target class index\n",
    "\n",
    "# You can modify this code to visualize the attention maps for different layers and images\n",
    "plt.figure(figsize=(10, 10))\n",
    "for i in range(attributions.shape[1]):\n",
    "    plt.subplot(4, 4, i + 1)\n",
    "    plt.imshow(attributions[0, i].detach().cpu().numpy(), cmap='viridis')\n",
    "    plt.axis('off')\n",
    "    plt.title(f'Attention Map {i}')\n",
    "plt.tight_layout()\n",
    "plt.show()\n"
>>>>>>> 1a8e161ea79fbbc193531bbbcd46eccb72d77893
   ]
  },
  {
   "cell_type": "markdown",
   "id": "104267d9",
   "metadata": {},
   "source": [
    "# 5. Run Model"
   ]
  },
  {
   "cell_type": "markdown",
   "id": "dbeec894",
   "metadata": {},
   "source": [
    "# 6. Testing"
   ]
  },
  {
   "cell_type": "code",
   "execution_count": null,
   "id": "92ae45cd",
   "metadata": {},
   "outputs": [],
   "source": [
    "from sklearn.model_selection import cross_val_score\n",
    "\n",
    "best_score = 0.0\n",
    "best_params = None\n",
    "\n",
    "# Create and configure your model with the current parameters\n",
    "model = ViT(\n",
    "    image_size=image_size,\n",
    "    patch_size=patch_size,\n",
    "    num_classes=num_classes,\n",
    "    dim=dim,\n",
    "    depth=depth,\n",
    "    heads=heads,\n",
    "    mlp_dim=mlp_dim,\n",
    "    emb_dropout=emb_dropout\n",
    ")\n",
    "\n",
    "# Train and evaluate the model using cross-validation\n",
    "scores = cross_val_score(model, X_train, y_train, cv=3, scoring='accuracy')  # Replace X_train and y_train\n",
    "\n",
    "# Calculate the mean score\n",
    "mean_score = np.mean(scores)\n"
   ]
  }
 ],
 "metadata": {
  "kernelspec": {
   "display_name": "Python 3 (ipykernel)",
   "language": "python",
   "name": "python3"
  },
  "language_info": {
   "codemirror_mode": {
    "name": "ipython",
    "version": 3
   },
   "file_extension": ".py",
   "mimetype": "text/x-python",
   "name": "python",
   "nbconvert_exporter": "python",
   "pygments_lexer": "ipython3",
   "version": "3.11.4"
  }
 },
 "nbformat": 4,
 "nbformat_minor": 5
}
