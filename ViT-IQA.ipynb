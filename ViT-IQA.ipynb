{
 "cells": [
  {
   "cell_type": "markdown",
   "id": "8a688702",
   "metadata": {},
   "source": [
    "# 0. Setup"
   ]
  },
  {
   "cell_type": "code",
   "execution_count": null,
   "id": "571d84b7",
   "metadata": {},
   "outputs": [],
   "source": [
    "!nvidia-smi -L"
   ]
  },
  {
   "cell_type": "code",
   "execution_count": null,
   "id": "3036095e",
   "metadata": {},
   "outputs": [],
   "source": [
    "import os\n",
    "import datetime\n",
    "import matplotlib.pyplot as plt\n",
    "import torch\n",
    "import torch.nn as nn\n",
    "import torch.optim as optim\n",
    "import torchvision.transforms as transforms\n",
    "from torch.utils.data import DataLoader\n",
    "from sklearn.metrics import accuracy_score\n",
    "import numpy as np\n",
    "import pandas as pd\n",
    "\n",
    "\n",
    "from model.vit_for_small_dataset import ViT\n",
    "from utils.imageset_handler import ImageQualityDataset"
   ]
  },
  {
   "cell_type": "markdown",
   "id": "f28b2b95",
   "metadata": {},
   "source": [
    "# 1. Build Model"
   ]
  },
  {
   "cell_type": "markdown",
   "id": "71892202",
   "metadata": {},
   "source": [
    "### 1.1 Define Variables"
   ]
  },
  {
   "cell_type": "code",
   "execution_count": null,
   "id": "5bfb894a",
   "metadata": {},
   "outputs": [],
   "source": [
    "image_size=256\n",
    "patch_size=16\n",
    "num_classes=5  # Number of classes for image quality levels\n",
    "dim=1024\n",
    "depth=6\n",
    "heads=16\n",
    "mlp_dim=2048\n",
    "emb_dropout=0.1\n",
    "\n",
    "\n",
    "pretrained_model_path = None\n",
    "num_epochs = 50\n",
    "results_path = '/home/maxgan/WORKSPACE/UNI/BA/vision-transformer-for-image-quality-perception-of-individual-observers/results/weights/all_distored_imgs'\n",
    "\n",
    "dataset_root = '/home/maxgan/WORKSPACE/UNI/BA/vision-transformer-for-image-quality-perception-of-individual-observers/assets/DatasetObjective/allDistorted'\n",
    "csv_file = '/home/maxgan/WORKSPACE/UNI/BA/vision-transformer-for-image-quality-perception-of-individual-observers/assets/DatasetObjective/objective_imagesquality_scores.csv'"
   ]
  },
  {
   "cell_type": "markdown",
   "id": "cc12028a",
   "metadata": {},
   "source": [
    "### 1.2 Compile"
   ]
  },
  {
   "cell_type": "code",
   "execution_count": null,
   "id": "b63f59b9",
   "metadata": {},
   "outputs": [],
   "source": [
    "model = ViT(\n",
    "    image_size=image_size,\n",
    "    patch_size=patch_size,\n",
    "    num_classes=num_classes,\n",
    "    dim=dim,\n",
    "    depth=depth,\n",
    "    heads=heads,\n",
    "    mlp_dim=mlp_dim,\n",
    "    emb_dropout=emb_dropout\n",
    ")\n",
    "print(model)"
   ]
  },
  {
   "cell_type": "markdown",
   "id": "604df880",
   "metadata": {},
   "source": [
    "### 1.3 Load pretrained weights"
   ]
  },
  {
   "cell_type": "code",
   "execution_count": null,
   "id": "81516f82",
   "metadata": {},
   "outputs": [],
   "source": [
    "if pretrained_model_path:\n",
    "    model.load_state_dict(torch.load(pretrained_model_path))\n",
    "    print(model)"
   ]
  },
  {
   "cell_type": "markdown",
   "id": "de80426c",
   "metadata": {},
   "source": [
    "# 2 Load Dataset"
   ]
  },
  {
   "cell_type": "markdown",
   "id": "7cd353bf",
   "metadata": {},
   "source": [
    "### 2.1 Add Augmentation (Transformation)"
   ]
  },
  {
   "cell_type": "code",
   "execution_count": null,
   "id": "c172fd9c",
   "metadata": {},
   "outputs": [],
   "source": [
    "transform = transforms.Compose([\n",
    "    transforms.RandomResizedCrop(256),\n",
    "    transforms.RandomHorizontalFlip(),\n",
    "    transforms.ToTensor(),\n",
    "    transforms.Normalize(mean=[0.485, 0.456, 0.406], std=[0.229, 0.224, 0.225])  # Normalize with ImageNet mean and std\n",
    "])"
   ]
  },
  {
   "cell_type": "markdown",
   "id": "becc15fa",
   "metadata": {},
   "source": [
    "### 2.2 Create Dataset"
   ]
  },
  {
   "cell_type": "code",
   "execution_count": null,
   "id": "b91f950f",
   "metadata": {
    "scrolled": false
   },
   "outputs": [],
   "source": [
    "dataset = ImageQualityDataset(csv_file,dataset_root,transform=transform)"
   ]
  },
  {
   "cell_type": "markdown",
   "id": "ae9128a4",
   "metadata": {},
   "source": [
    "### 2.3 Split the dataset into training and validation sets"
   ]
  },
  {
   "cell_type": "code",
   "execution_count": null,
   "id": "febe0d8c",
   "metadata": {},
   "outputs": [],
   "source": [
    "test_size = 0.2\n",
    "num_train = int(len(dataset)* (1-test_size))\n",
    "num_val = len(dataset) - num_train\n",
    "\n",
    "print('Splitting Dataset..')\n",
    "train_dataset, val_dataset = torch.utils.data.random_split(dataset, [num_train, num_val])\n",
    "\n",
    "print(f\"Number of Data to train: {num_train}\")\n",
    "print(f\"Number of Data to validate: {num_val}\")"
   ]
  },
  {
   "cell_type": "markdown",
   "id": "96485153",
   "metadata": {},
   "source": [
    "# 3. Train"
   ]
  },
  {
   "cell_type": "markdown",
   "id": "a040a46b",
   "metadata": {},
   "source": [
    "### 3.1 Define Training Parameters"
   ]
  },
  {
   "cell_type": "code",
   "execution_count": null,
   "id": "8f882af4",
   "metadata": {},
   "outputs": [],
   "source": [
    "learning_rate = 1e-4/2\n",
    "batch_size = 128"
   ]
  },
  {
   "cell_type": "markdown",
   "id": "3f98fa91",
   "metadata": {},
   "source": [
    "### 3.2 Init Optimizer, loss function and dataloader"
   ]
  },
  {
   "cell_type": "code",
   "execution_count": null,
   "id": "3aaf304e",
   "metadata": {},
   "outputs": [],
   "source": [
    "optimizer = optim.Adam(model.parameters(), lr=learning_rate)\n",
    "criterion = nn.CrossEntropyLoss()\n",
    "mse_criterion = nn.MSELoss()"
   ]
  },
  {
   "cell_type": "code",
   "execution_count": null,
   "id": "eb92b701",
   "metadata": {},
   "outputs": [],
   "source": [
    "train_dataloader = DataLoader(train_dataset, batch_size=batch_size, shuffle=True, num_workers=4)\n",
    "val_dataloader = DataLoader(val_dataset, batch_size=batch_size, shuffle=False, num_workers=4)"
   ]
  },
  {
   "cell_type": "markdown",
   "id": "9fda88fb",
   "metadata": {},
   "source": [
    "### 3.3 Train-Loop"
   ]
  },
  {
   "cell_type": "code",
   "execution_count": null,
   "id": "3d03ad2c",
   "metadata": {},
   "outputs": [],
   "source": [
    "device = torch.device('cuda' if torch.cuda.is_available() else 'cpu')\n",
    "model.to(device)\n",
    "best_val_loss = float('inf')\n",
    "best_model_weights = None"
   ]
  },
  {
   "cell_type": "code",
   "execution_count": null,
   "id": "a116623e",
   "metadata": {
    "scrolled": true
   },
   "outputs": [],
   "source": [
    "train_losses = []\n",
    "val_losses = []\n",
    "    \n",
    "# Initialize a list to store model results\n",
    "model_results = []\n",
    "print(\"Starting training...\")\n",
    "for epoch in range(num_epochs):\n",
    "    # Training\n",
    "    model.train()\n",
    "    train_loss = 0.0\n",
    "    train_preds = []\n",
    "    train_labels = []\n",
    "\n",
    "    for _, (images, labels) in enumerate(train_dataloader):\n",
    "        images = images.to(device)\n",
    "        labels = labels.to(device)\n",
    "\n",
    "        optimizer.zero_grad()\n",
    "        outputs = model(images)\n",
    "        \n",
    "        print(\"Training:\", outputs.shape,labels.shape)\n",
    "        loss = criterion(outputs, labels)\n",
    "        loss.backward()\n",
    "        optimizer.step()\n",
    "\n",
    "        train_loss += loss.item() * images.size(0)\n",
    "        _, preds = torch.max(outputs, 1)  # Get predicted labels\n",
    "        train_preds.extend(preds.cpu().numpy())  # Extend the list of predictions\n",
    "        train_labels.extend(labels.cpu().numpy())  # Extend the list of true labels\n",
    "        train_accuracy = accuracy_score(train_labels, train_preds)\n",
    "\n",
    "    # Validation\n",
    "    model.eval()\n",
    "    val_loss = 0.0\n",
    "    val_preds = []\n",
    "    val_labels = []\n",
    "\n",
    "    with torch.no_grad():\n",
    "        for _, (images, labels) in enumerate(val_dataloader):\n",
    "            images = images.to(device)\n",
    "            labels = labels.to(device)\n",
    "            \n",
    "            \n",
    "            #MSE\n",
    "            #outputs = model(images)\n",
    "            #labels = labels.unsqueeze(0)\n",
    "            #labels = labels.float()\n",
    "            #print(\"Validation:\",outputs.shape,labels.shape)\n",
    "            #mse_loss = mse_criterion(outputs, labels)\n",
    "            #val_loss += mse_loss.item() * images.size(0)\n",
    "\n",
    "            \n",
    "            #CROSS-ENTROPY\n",
    "            outputs = model(images)\n",
    "            print(\"Validation:\",outputs.shape,labels.shape)\n",
    "            loss = criterion(outputs, labels)\n",
    "            val_loss += loss.item() * images.size(0)\n",
    "            \n",
    "            \n",
    "            \n",
    "            _, preds = torch.max(outputs, 1)  # Get predicted labels\n",
    "            val_preds.extend(preds.cpu().numpy())  # Extend the list of predictions\n",
    "            val_labels.extend(labels.cpu().numpy())  # Extend the list of true labels\n",
    "\n",
    "\n",
    "\n",
    "    val_accuracy = accuracy_score(val_labels, val_preds)\n",
    "    train_loss /= len(train_dataset)\n",
    "    val_loss /= len(val_dataset)\n",
    "    print(f'Epoch [{epoch+1}/{num_epochs}], Training Loss: {train_loss:.4f}, Training Acc: {train_accuracy:.4f}, Validation Loss: {val_loss:.4f}, Validation Acc: {val_accuracy:.4f}')\n",
    "\n",
    "    # Calculate and store the losses\n",
    "    train_losses.append(train_loss)\n",
    "    val_losses.append(val_loss)\n",
    "    \n",
    "    \n",
    "    # Save the weights with the best validation loss\n",
    "    if val_loss < best_val_loss:\n",
    "        # Delete the previously saved best model\n",
    "        #if best_model_weights is not None:\n",
    "        #    os.remove(best_model_path)\n",
    "\n",
    "        # Update the best validation loss and save the new best model\n",
    "        best_val_loss = val_loss\n",
    "        best_model_weights = model.state_dict().copy()\n",
    "\n",
    "        # Get the current timestamp\n",
    "        timestamp = datetime.datetime.now().strftime(\"%Y%m%d_%H%M%S\")\n",
    "        last_folder = os.path.basename(dataset_root)\n",
    "        # Use the timestamp and transfer learning information as a name extension\n",
    "        model_name = f\"vit_model_{timestamp}_epoch_{epoch+1}of{num_epochs}_valLoss_{best_val_loss:.3f}_valAcc_{val_accuracy:.3f}_batchsize_{batch_size}_lr_{learning_rate:.1f}_{last_folder}.pth\"\n",
    "        best_model_path = os.path.join(results_path, model_name)\n",
    "        torch.save(best_model_weights, best_model_path)\n",
    "        \n",
    "        # After saving the best model\n",
    "        model_info = {\n",
    "            'model_name': model_name,\n",
    "            'validation_loss': val_loss,\n",
    "            'validation_accuracy': val_accuracy,\n",
    "            'batch_size': batch_size,\n",
    "            'learning_rate': learning_rate,\n",
    "            'epoch': epoch + 1\n",
    "        }\n",
    "        model_results.append(model_info)"
   ]
  },
  {
   "cell_type": "code",
   "execution_count": null,
   "id": "b69c2f26",
   "metadata": {},
   "outputs": [],
   "source": [
    "# Create a DataFrame from model_results\n",
    "results_df = pd.DataFrame(model_results)\n",
    "\n",
    "# Save the results as a CSV file\n",
    "results_csv_path = os.path.join(results_path, f'model_results_{last_folder}.csv')\n",
    "results_df.to_csv(results_csv_path, index=False)\n",
    "\n",
    "# Save the Matplotlib figure with the same basename as the saved model\n",
    "figure_name = os.path.splitext(model_name)[0] + '.png'\n",
    "figure_path = os.path.join(results_path, figure_name)\n",
    "# Plot the losses\n",
    "plt.plot(range(1, num_epochs + 1), train_losses, label='Training Loss')\n",
    "plt.plot(range(1, num_epochs + 1), val_losses, label='Validation Loss')\n",
    "plt.xlabel('Epoch')\n",
    "plt.ylabel('Loss')\n",
    "plt.title('Training and Validation Loss')\n",
    "plt.legend()\n",
    "plt.savefig(figure_path)\n",
    "plt.show()"
   ]
  },
  {
   "cell_type": "code",
   "execution_count": null,
   "id": "e17bd1d3",
   "metadata": {},
   "outputs": [],
   "source": [
    "%%bash\n",
    "sudo shutdown -h now"
   ]
  },
  {
   "cell_type": "markdown",
   "id": "3b21fe32",
   "metadata": {},
   "source": [
    "# 4. Plotting and Evaluating"
   ]
  },
  {
   "cell_type": "markdown",
   "id": "43ebb8c5",
   "metadata": {},
   "source": [
    "### 4.1 Define Model and Dataset to evaluat"
   ]
  },
  {
   "cell_type": "code",
   "execution_count": null,
   "id": "6873d8c7",
   "metadata": {},
   "outputs": [],
   "source": [
    "#weights_path = f'{results_path}/vit_model_20230821_121731_epoch_2of20_valLoss_1.572_valAcc_0.267_batchsize_64_lr_0.0_TestImg.pth'\n",
    "weights_path = f'/home/maxgan/WORKSPACE/UNI/BA/vision-transformer-for-image-quality-perception-of-individual-observers/results/weights/TEST/vit_model_20230821_120855_epoch_16of20_valLoss_7.457_valAcc_0.233_batchsize_64_lr_0.0_TestImg.pth'\n",
    "\n",
    "csv_file = '/home/maxgan/WORKSPACE/UNI/BA/vision-transformer-for-image-quality-perception-of-individual-observers/assets/Test/TestImg'\n",
    "dataset_root = '/home/maxgan/WORKSPACE/UNI/BA/vision-transformer-for-image-quality-perception-of-individual-observers/assets/Test/AccTestCsv/objectiveAccTest.csv'"
   ]
  },
  {
   "cell_type": "code",
   "execution_count": null,
   "id": "a22ca582",
   "metadata": {},
   "outputs": [],
   "source": [
    "model = ViT(\n",
    "    image_size=image_size,\n",
    "    patch_size=patch_size,\n",
    "    num_classes=num_classes,\n",
    "    dim=dim,\n",
    "    depth=depth,\n",
    "    heads=heads,\n",
    "    mlp_dim=mlp_dim,\n",
    "    emb_dropout=emb_dropout\n",
    ")\n",
    "model.load_state_dict(torch.load(weights_path))\n",
    "\n",
    "dataset = ImageQualityDataset(csv_file,dataset_root)"
   ]
  },
  {
   "cell_type": "markdown",
   "id": "5bee2c51",
   "metadata": {},
   "source": [
    "### 4.2 Plot Confusion Matrix"
   ]
  },
  {
   "cell_type": "code",
   "execution_count": null,
   "id": "ba4731cd",
   "metadata": {},
   "outputs": [],
   "source": [
    "from sklearn.metrics import confusion_matrix\n",
    "def prediction_quality(image_path, model):\n",
    "    # Define the image augmentation transformations\n",
    "    transform = transforms.Compose([\n",
    "        transforms.RandomResizedCrop(256),\n",
    "        transforms.RandomHorizontalFlip(),\n",
    "        transforms.ToTensor(),\n",
    "        transforms.Normalize(mean=[0.485, 0.456, 0.406], std=[0.229, 0.224, 0.225])  # Normalize with ImageNet mean and std\n",
    "    ])\n",
    "\n",
    "    # image = Image.open(image_path).convert('RGB')\n",
    "    image_tensor = transform(image_path).unsqueeze(0)\n",
    "\n",
    "    device = torch.device('cuda' if torch.cuda.is_available() else 'cpu')\n",
    "    model.to(device)\n",
    "    model.eval()\n",
    "    with torch.no_grad():\n",
    "        image_tensor = image_tensor.to(device)\n",
    "        outputs = model(image_tensor)\n",
    "        _, predicted_label = torch.max(outputs, 1)\n",
    "        predicted_rating = predicted_label.item() + 1  # Adding 1 to convert 0-based index to 1-based rating\n",
    "    return predicted_rating\n",
    "\n",
    "def compare(dataset, model):\n",
    "    device = torch.device('cuda' if torch.cuda.is_available() else 'cpu')\n",
    "    model.to(device)\n",
    "    model.eval()\n",
    "\n",
    "    predictions = []\n",
    "    ground_truth_ratings = []\n",
    "\n",
    "    with torch.no_grad():\n",
    "        for image_path, rating in dataset:\n",
    "            # image_path = os.path.join(dataset_root, image_path)\n",
    "            predicted_rating = prediction_quality(image_path, model)\n",
    "\n",
    "            predictions.append(predicted_rating)\n",
    "            ground_truth_ratings.append(rating + 1)\n",
    "\n",
    "    return predictions, ground_truth_ratings"
   ]
  },
  {
   "cell_type": "code",
   "execution_count": null,
   "id": "a7c93143",
   "metadata": {},
   "outputs": [],
   "source": [
    "# Compare model predictions with ground truth ratings for the subjective datasets\n",
    "predictions, ground_truth_ratings = compare(dataset, model)\n",
    "\n",
    "# Create the confusion matrix\n",
    "conf_matrix = confusion_matrix(ground_truth_ratings, predictions)"
   ]
  },
  {
   "cell_type": "code",
   "execution_count": null,
   "id": "cf3f0bf8",
   "metadata": {},
   "outputs": [],
   "source": [
    "# figure_name = f\"Confusion_Matrix_{os.path.splitext(model_name)[0]}.png\"\n",
    "figure_name = f\"Confusion_Matrix_{os.path.splitext(os.path.basename(weights_path))[0] + '.png'}\"\n",
    "figure_path = os.path.join(results_path, figure_name)\n",
    "\n",
    "# Plot the confusion matrix as a heatmap with annotations\n",
    "plt.figure(figsize=(6, 6))\n",
    "plt.imshow(conf_matrix, cmap='Blues', interpolation='nearest')\n",
    "plt.colorbar()\n",
    "plt.xlabel('Predicted Ratings')\n",
    "plt.ylabel('Ground Truth Ratings')\n",
    "plt.title('Confusion Matrix')\n",
    "plt.xticks(np.arange(5), np.arange(1, 6))\n",
    "plt.yticks(np.arange(5), np.arange(1, 6))\n",
    "\n",
    "# Add text annotations for true positives and false positives\n",
    "for i in range(conf_matrix.shape[0]):\n",
    "    for j in range(conf_matrix.shape[1]):\n",
    "        # Customize text color for light blue boxes (when the value is high)\n",
    "        if conf_matrix[i, j] > conf_matrix.max() / 2:\n",
    "            plt.text(j, i, str(conf_matrix[i, j]), ha='center', va='center', color='white')\n",
    "        else:\n",
    "            plt.text(j, i, str(conf_matrix[i, j]), ha='center', va='center', color='black')\n",
    "plt.savefig(figure_path)\n",
    "plt.show()"
   ]
  },
  {
   "cell_type": "markdown",
   "id": "55cdb6fa",
   "metadata": {},
   "source": [
    "### 4.3 Plot Distribution"
   ]
  },
  {
   "cell_type": "code",
   "execution_count": null,
   "id": "06c40497",
   "metadata": {},
   "outputs": [],
   "source": [
    "csv_file = \"/home/maxgan/WORKSPACE/UNI/BA/TIQ/assets/Test/AccTestCsv/shinyxAccTest20-01-2023.csv\"\n",
    "output_image_path = \"/home/maxgan/WORKSPACE/UNI/BA/TIQ/assets/Test/AccTestCsv/rating_distribution_shinyxAccTest.png\""
   ]
  },
  {
   "cell_type": "code",
   "execution_count": null,
   "id": "6d74ad82",
   "metadata": {},
   "outputs": [],
   "source": [
    "data = pd.read_csv(csv_file, header=None, skiprows=1)\n",
    "\n",
    "# Map rating values to their corresponding labels\n",
    "rating_labels = {\n",
    "    1: \"Bad\",\n",
    "    2: \"Insufficient\",\n",
    "    3: \"Fair\",\n",
    "    4: \"Good\",\n",
    "    5: \"Excellent\"\n",
    "}\n",
    "data[\"Rating_Label\"] = data[1].map(rating_labels)\n",
    "\n",
    "# Group data by Rating_Label and count occurrences\n",
    "class_counts = data[\"Rating_Label\"].value_counts().sort_index()\n",
    "# Calculate total number of images\n",
    "total_images = class_counts.sum()"
   ]
  },
  {
   "cell_type": "code",
   "execution_count": null,
   "id": "0ee564bc",
   "metadata": {
    "scrolled": true
   },
   "outputs": [],
   "source": [
    "# Create a bar chart\n",
    "plt.figure(figsize=(10, 6))\n",
    "class_counts.plot(kind=\"bar\", color='skyblue')\n",
    "plt.title(\"Image Rating Distribution Person1 (shinyx)\")\n",
    "plt.xlabel(\"Rating\")\n",
    "plt.ylabel(\"Number of Images\")\n",
    "plt.xticks(rotation=45)\n",
    "plt.tight_layout()\n",
    "plt.savefig(output_image_path)\n",
    "plt.show()\n",
    "# Display the table\n",
    "print(\"Rating Distribution Table:\")\n",
    "print(class_counts)"
   ]
  },
  {
   "cell_type": "markdown",
   "id": "6872214c",
   "metadata": {},
   "source": [
    "### 4.4 Plot SSMI"
   ]
  },
  {
   "cell_type": "code",
   "execution_count": null,
   "id": "ff4ac19f",
   "metadata": {},
   "outputs": [],
   "source": [
    "image_path1 = \"/home/maxgan/WORKSPACE/UNI/BA/TIQ/assets/Test/TestImg/4359ILSVRC2013_train_00022365.JPEG_I1_Q8.jpeg\"  # Replace with your image file path\n",
    "image_path2 = \"/home/maxgan/WORKSPACE/UNI/BA/TIQ/assets/DatasetObjective/allDistorted/4359ILSVRC2013_train_00022365.JPEG_I5_Q67.jpeg\"  # Replace with your image file path"
   ]
  },
  {
   "cell_type": "code",
   "execution_count": null,
   "id": "b284264b",
   "metadata": {},
   "outputs": [],
   "source": [
    "from PIL import Image\n",
    "from skimage.metrics import structural_similarity as ssim\n",
    "\n",
    "def compare_ssim(image_path1, image_path2):\n",
    "    # Open the images using PIL\n",
    "    img1 = Image.open(image_path1)\n",
    "    img2 = Image.open(image_path2)\n",
    "\n",
    "    # Convert images to grayscale (if they are not already)\n",
    "    if img1.mode != 'L':\n",
    "        img1 = img1.convert('L')\n",
    "    if img2.mode != 'L':\n",
    "        img2 = img2.convert('L')\n",
    "\n",
    "    # Convert PIL Images to numpy arrays for skimage's ssim function\n",
    "    img1_array = np.array(img1)\n",
    "    img2_array = np.array(img2)\n",
    "\n",
    "    # Calculate SSIM\n",
    "    ssim_value = ssim(img1_array, img2_array)\n",
    "\n",
    "    return img1, img2, ssim_value"
   ]
  },
  {
   "cell_type": "code",
   "execution_count": null,
   "id": "79d5d63b",
   "metadata": {
    "scrolled": false
   },
   "outputs": [],
   "source": [
    "img1, img2, similarity = compare_ssim(image_path1, image_path2)\n",
    "print(f\"SSIM between the images: {similarity:.4f}\")\n",
    "\n",
    "# Plotting\n",
    "fig, axs = plt.subplots(1, 3, figsize=(12, 4))\n",
    "\n",
    "axs[0].imshow(img1, cmap='gray')\n",
    "axs[0].set_title('Image 1')\n",
    "\n",
    "axs[1].imshow(img2, cmap='gray')\n",
    "axs[1].set_title('Image 2')\n",
    "\n",
    "axs[2].text(0.5, 0.5, f\"SSIM: {similarity:.4f}\", fontsize=12,\n",
    "            horizontalalignment='center', verticalalignment='center')\n",
    "axs[2].axis('off')\n",
    "axs[2].set_title('SSIM')\n",
    "\n",
    "plt.tight_layout()\n",
    "plt.show()"
   ]
  },
  {
   "cell_type": "markdown",
   "id": "be565be5",
   "metadata": {},
   "source": [
    "### 4.4 Plot Attentionmap"
   ]
  },
  {
   "cell_type": "code",
   "execution_count": null,
   "id": "cd62c4ac",
   "metadata": {},
   "outputs": [],
   "source": [
    "image_path = \"/home/maxgan/WORKSPACE/UNI/BA/vision-transformer-for-image-quality-perception-of-individual-observers/assets/Test/TestImg/802ILSVRC2013_train_00013401.JPEG_I2_Q15.jpeg\""
   ]
  },
  {
   "cell_type": "code",
   "execution_count": null,
   "id": "189af80c",
   "metadata": {},
   "outputs": [],
   "source": [
    "import torch\n",
    "from captum.attr import LayerConductance\n",
    "\n",
    "# Load your trained ViT model\n",
    "model = ViT(\n",
    "    image_size=image_size,\n",
    "    patch_size=patch_size,\n",
    "    num_classes=num_classes,\n",
    "    dim=dim,\n",
    "    depth=depth,\n",
    "    heads=heads,\n",
    "    mlp_dim=mlp_dim,\n",
    "    emb_dropout=emb_dropout\n",
    ")\n",
    "model.load_state_dict(torch.load(weights_path))\n",
    "\n",
    "# Load a sample image tensor (single image)\n",
    "image = Image.open(image_path)\n",
    "image_tensor = transform(image)\n",
    "\n",
    "# Set the model to evaluation mode\n",
    "model.eval()\n",
    "\n",
    "# Calculate the attention maps using LayerConductance\n",
    "# Choose a layer to visualize (e.g., the last layer or a specific layer)\n",
    "layer = model.transformer.encoder[-1].norm2\n",
    "\n",
    "# Instantiate the LayerConductance\n",
    "layer_cond = LayerConductance(model, layer)\n",
    "\n",
    "# Compute attention maps for the image\n",
    "attributions = layer_cond.attribute(image_tensor, target=1)  # Modify the target class index\n",
    "\n",
    "# You can modify this code to visualize the attention maps for different layers and images\n",
    "plt.figure(figsize=(10, 10))\n",
    "for i in range(attributions.shape[1]):\n",
    "    plt.subplot(4, 4, i + 1)\n",
    "    plt.imshow(attributions[0, i].detach().cpu().numpy(), cmap='viridis')\n",
    "    plt.axis('off')\n",
    "    plt.title(f'Attention Map {i}')\n",
    "plt.tight_layout()\n",
    "plt.show()\n"
   ]
  },
  {
   "cell_type": "markdown",
   "id": "104267d9",
   "metadata": {},
   "source": [
    "# 5. Run Model"
   ]
  },
  {
   "cell_type": "code",
   "execution_count": null,
   "id": "92ae45cd",
   "metadata": {},
   "outputs": [],
   "source": []
  }
 ],
 "metadata": {
  "kernelspec": {
   "display_name": "Python 3 (ipykernel)",
   "language": "python",
   "name": "python3"
  },
  "language_info": {
   "codemirror_mode": {
    "name": "ipython",
    "version": 3
   },
   "file_extension": ".py",
   "mimetype": "text/x-python",
   "name": "python",
   "nbconvert_exporter": "python",
   "pygments_lexer": "ipython3",
   "version": "3.11.4"
  }
 },
 "nbformat": 4,
 "nbformat_minor": 5
}
