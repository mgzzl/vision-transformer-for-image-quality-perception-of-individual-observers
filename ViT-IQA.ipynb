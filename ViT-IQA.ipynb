{
 "cells": [
  {
   "cell_type": "markdown",
   "id": "8a688702",
   "metadata": {},
   "source": [
    "# 0. Setup"
   ]
  },
  {
   "cell_type": "code",
   "execution_count": 1,
   "id": "571d84b7",
   "metadata": {},
   "outputs": [
    {
     "name": "stdout",
     "output_type": "stream",
     "text": [
      "/bin/bash: /home/maxgan/anaconda3/envs/triq/lib/libtinfo.so.6: no version information available (required by /bin/bash)\n",
      "GPU 0: NVIDIA GeForce RTX 3090 (UUID: GPU-9d5e4f83-3f58-2974-ee70-21df15226f84)\n"
     ]
    }
   ],
   "source": [
    "!nvidia-smi -L"
   ]
  },
  {
   "cell_type": "code",
   "execution_count": 4,
   "id": "3036095e",
   "metadata": {},
   "outputs": [],
   "source": [
    "import os\n",
    "import datetime\n",
    "import matplotlib.pyplot as plt\n",
    "import torch\n",
    "import torch.nn as nn\n",
    "import torch.optim as optim\n",
    "import torchvision.transforms as transforms\n",
    "from torch.utils.data import DataLoader\n",
    "from sklearn.metrics import accuracy_score\n",
    "import numpy as np\n",
    "import pandas as pd\n",
    "\n",
    "\n",
    "from model.vit_for_small_dataset import ViT\n",
    "from utils.imageset_handler import ImageQualityDataset"
   ]
  },
  {
   "cell_type": "markdown",
   "id": "f28b2b95",
   "metadata": {},
   "source": [
    "# 1. Build Model"
   ]
  },
  {
   "cell_type": "markdown",
   "id": "71892202",
   "metadata": {},
   "source": [
    "### 1.1 Define Variables"
   ]
  },
  {
   "cell_type": "code",
   "execution_count": 5,
   "id": "5bfb894a",
   "metadata": {},
   "outputs": [],
   "source": [
    "image_size=256\n",
    "patch_size=16\n",
    "num_classes=5  # Number of classes for image quality levels\n",
    "dim=1024\n",
    "depth=6\n",
    "heads=16\n",
    "mlp_dim=2048\n",
    "emb_dropout=0.1\n",
    "\n",
    "\n",
    "pretrained_model_path = None\n",
    "num_epochs = 20\n",
    "results_path = '/home/maxgan/WORKSPACE/UNI/BA/TIQ/results'"
   ]
  },
  {
   "cell_type": "markdown",
   "id": "cc12028a",
   "metadata": {},
   "source": [
    "### 1.2 Compile"
   ]
  },
  {
   "cell_type": "code",
   "execution_count": null,
   "id": "b63f59b9",
   "metadata": {},
   "outputs": [],
   "source": [
    "model = ViT(\n",
    "    image_size=image_size,\n",
    "    patch_size=patch_size,\n",
    "    num_classes=num_classes,\n",
    "    dim=dim,\n",
    "    depth=depth,\n",
    "    heads=heads,\n",
    "    mlp_dim=mlp_dim,\n",
    "    emb_dropout=emb_dropout\n",
    ")"
   ]
  },
  {
   "cell_type": "markdown",
   "id": "604df880",
   "metadata": {},
   "source": [
    "### 1.3 Load pretrained weights"
   ]
  },
  {
   "cell_type": "code",
   "execution_count": null,
   "id": "81516f82",
   "metadata": {},
   "outputs": [],
   "source": [
    "if pretrained_model_path:\n",
    "    model.load_state_dict(torch.load(pretrained_model_path))\n",
    "    print(model)"
   ]
  },
  {
   "cell_type": "markdown",
   "id": "de80426c",
   "metadata": {},
   "source": [
    "# 2 Load Dataset"
   ]
  },
  {
   "cell_type": "markdown",
   "id": "7cd353bf",
   "metadata": {},
   "source": [
    "### 2.1 Add Augmentation (Transformation)"
   ]
  },
  {
   "cell_type": "code",
   "execution_count": null,
   "id": "c172fd9c",
   "metadata": {},
   "outputs": [],
   "source": [
    "transform = transforms.Compose([\n",
    "    transforms.RandomResizedCrop(256),\n",
    "    transforms.RandomHorizontalFlip(),\n",
    "    transforms.ToTensor(),\n",
    "    transforms.Normalize(mean=[0.485, 0.456, 0.406], std=[0.229, 0.224, 0.225])  # Normalize with ImageNet mean and std\n",
    "])"
   ]
  },
  {
   "cell_type": "markdown",
   "id": "becc15fa",
   "metadata": {},
   "source": [
    "### 2.2 Create Dataset"
   ]
  },
  {
   "cell_type": "code",
   "execution_count": null,
   "id": "78bddaf8",
   "metadata": {},
   "outputs": [],
   "source": [
    "dataset_root = '/home/maxgan/WORKSPACE/UNI/BA/TIQ/assets/DatasetSubjective/Persons/Person_1_shinyx/imgs'\n",
    "csv_file = '/home/maxgan/WORKSPACE/UNI/BA/TIQ/assets/DatasetSubjective/Persons/Person_1_shinyx/img_scores.csv'"
   ]
  },
  {
   "cell_type": "code",
   "execution_count": null,
   "id": "b91f950f",
   "metadata": {},
   "outputs": [],
   "source": [
    "dataset = ImageQualityDataset(csv_file,dataset_root,transform=transform)"
   ]
  },
  {
   "cell_type": "markdown",
   "id": "ae9128a4",
   "metadata": {},
   "source": [
    "### 2.3 Split the dataset into training and validation sets"
   ]
  },
  {
   "cell_type": "code",
   "execution_count": null,
   "id": "febe0d8c",
   "metadata": {},
   "outputs": [],
   "source": [
    "test_size = 0.2\n",
    "num_train = int(len(dataset)* (1-test_size))\n",
    "num_val = len(dataset) - num_train\n",
    "\n",
    "print('Splitting Dataset..')\n",
    "train_dataset, val_dataset = torch.utils.data.random_split(dataset, [num_train, num_val])\n",
    "\n",
    "print(f\"Number of Data to train: {num_train}\")\n",
    "print(f\"Number of Data to validate: {num_val}\")"
   ]
  },
  {
   "cell_type": "markdown",
   "id": "96485153",
   "metadata": {},
   "source": [
    "# 3. Train"
   ]
  },
  {
   "cell_type": "markdown",
   "id": "a040a46b",
   "metadata": {},
   "source": [
    "### 3.1 Define Training Parameters"
   ]
  },
  {
   "cell_type": "code",
   "execution_count": null,
   "id": "8f882af4",
   "metadata": {},
   "outputs": [],
   "source": [
    "learning_rate = 1e-4/2\n",
    "batch_size = 64"
   ]
  },
  {
   "cell_type": "markdown",
   "id": "3f98fa91",
   "metadata": {},
   "source": [
    "### 3.2 Init Optimizer, loss function and dataloader"
   ]
  },
  {
   "cell_type": "code",
   "execution_count": null,
   "id": "3aaf304e",
   "metadata": {},
   "outputs": [],
   "source": [
    "optimizer = optim.Adam(model.parameters(), lr=learning_rate)\n",
    "criterion = nn.CrossEntropyLoss()"
   ]
  },
  {
   "cell_type": "code",
   "execution_count": null,
   "id": "eb92b701",
   "metadata": {},
   "outputs": [],
   "source": [
    "train_dataloader = DataLoader(train_dataset, batch_size=batch_size, shuffle=True, num_workers=4)\n",
    "val_dataloader = DataLoader(val_dataset, batch_size=batch_size, shuffle=False, num_workers=4)"
   ]
  },
  {
   "cell_type": "markdown",
   "id": "9fda88fb",
   "metadata": {},
   "source": [
    "### 3.3 Train-Loop"
   ]
  },
  {
   "cell_type": "code",
   "execution_count": null,
   "id": "3d03ad2c",
   "metadata": {},
   "outputs": [],
   "source": [
    "device = torch.device('cuda' if torch.cuda.is_available() else 'cpu')\n",
    "model.to(device)\n",
    "best_val_loss = float('inf')\n",
    "best_model_weights = None"
   ]
  },
  {
   "cell_type": "code",
   "execution_count": null,
   "id": "a116623e",
   "metadata": {},
   "outputs": [],
   "source": [
    "train_losses = []\n",
    "val_losses = []\n",
    "print(\"Starting training...\")\n",
    "for epoch in range(num_epochs):\n",
    "    # Training\n",
    "    model.train()\n",
    "    train_loss = 0.0\n",
    "    train_preds = []\n",
    "    train_labels = []\n",
    "\n",
    "    for _, (images, labels) in enumerate(train_dataloader):\n",
    "        images = images.to(device)\n",
    "        labels = labels.to(device)\n",
    "\n",
    "        optimizer.zero_grad()\n",
    "        outputs = model(images)\n",
    "\n",
    "        loss = criterion(outputs, labels)\n",
    "        loss.backward()\n",
    "        optimizer.step()\n",
    "\n",
    "        train_loss += loss.item() * images.size(0)\n",
    "        _, preds = torch.max(outputs, 1)  # Get predicted labels\n",
    "        train_preds.extend(preds.cpu().numpy())  # Extend the list of predictions\n",
    "        train_labels.extend(labels.cpu().numpy())  # Extend the list of true labels\n",
    "        train_accuracy = accuracy_score(train_labels, train_preds)\n",
    "\n",
    "    # Validation\n",
    "    model.eval()\n",
    "    val_loss = 0.0\n",
    "    val_preds = []\n",
    "    val_labels = []\n",
    "\n",
    "    with torch.no_grad():\n",
    "        for _, (images, labels) in enumerate(val_dataloader):\n",
    "            images = images.to(device)\n",
    "            labels = labels.to(device)\n",
    "\n",
    "            outputs = model(images)\n",
    "            loss = criterion(outputs, labels)\n",
    "\n",
    "            _, preds = torch.max(outputs, 1)  # Get predicted labels\n",
    "            val_preds.extend(preds.cpu().numpy())  # Extend the list of predictions\n",
    "            val_labels.extend(labels.cpu().numpy())  # Extend the list of true labels\n",
    "\n",
    "\n",
    "            val_loss += loss.item() * images.size(0)\n",
    "\n",
    "    val_accuracy = accuracy_score(val_labels, val_preds)\n",
    "    train_loss /= len(train_dataset)\n",
    "    val_loss /= len(val_dataset)\n",
    "    print(f'Epoch [{epoch+1}/{num_epochs}], Training Loss: {train_loss:.4f}, Training Acc: {train_accuracy:.4f}, Validation Loss: {val_loss:.4f}, Validation Acc: {val_accuracy:.4f}')\n",
    "\n",
    "    # Calculate and store the losses\n",
    "    train_losses.append(train_loss)\n",
    "    val_losses.append(val_loss)\n",
    "\n",
    "    if val_loss < best_val_loss:\n",
    "        # Delete the previously saved best model\n",
    "        if best_model_weights is not None:\n",
    "            os.remove(best_model_path)\n",
    "\n",
    "        # Update the best validation loss and save the new best model\n",
    "        best_val_loss = val_loss\n",
    "        best_model_weights = model.state_dict().copy()\n",
    "\n",
    "        # Get the current timestamp\n",
    "        timestamp = datetime.datetime.now().strftime(\"%Y%m%d_%H%M%S\")\n",
    "        last_folder = os.path.basename(dataset_root)\n",
    "        # Use the timestamp and transfer learning information as a name extension\n",
    "        model_name = f\"vit_model_{timestamp}_epoch_{epoch+1}of{num_epochs}_valLoss_{best_val_loss:.3f}_valAcc_{val_accuracy:.3f}_batchsize_{batch_size}_lr_{learning_rate:.1f}_{last_folder}.pth\"\n",
    "        best_model_path = os.path.join(results_path, model_name)\n",
    "        torch.save(best_model_weights, best_model_path)"
   ]
  },
  {
   "cell_type": "markdown",
   "id": "3b21fe32",
   "metadata": {},
   "source": [
    "# 4. Plotting and Evaluating"
   ]
  },
  {
   "cell_type": "markdown",
   "id": "d2f8ccf8",
   "metadata": {},
   "source": [
    "### 4.1 Plot Training"
   ]
  },
  {
   "cell_type": "code",
   "execution_count": null,
   "id": "c2850e0c",
   "metadata": {},
   "outputs": [],
   "source": [
    "# Save the Matplotlib figure with the same basename as the saved model\n",
    "figure_name = os.path.splitext(model_name)[0] + '.png'\n",
    "figure_path = os.path.join(results_path, figure_name)"
   ]
  },
  {
   "cell_type": "code",
   "execution_count": null,
   "id": "24cfb7dd",
   "metadata": {},
   "outputs": [],
   "source": [
    "# Plot the losses\n",
    "plt.plot(range(1, num_epochs + 1), train_losses, label='Training Loss')\n",
    "plt.plot(range(1, num_epochs + 1), val_losses, label='Validation Loss')\n",
    "plt.xlabel('Epoch')\n",
    "plt.ylabel('Loss')\n",
    "plt.title('Training and Validation Loss')\n",
    "plt.legend()\n",
    "plt.savefig(figure_path)\n",
    "plt.show()"
   ]
  },
  {
   "cell_type": "markdown",
   "id": "5bee2c51",
   "metadata": {},
   "source": [
    "### 4.2 Plot Confusion Matrix"
   ]
  },
  {
   "cell_type": "markdown",
   "id": "4034cf26",
   "metadata": {},
   "source": [
    "Load model if neccessary"
   ]
  },
  {
   "cell_type": "code",
   "execution_count": 6,
   "id": "a22ca582",
   "metadata": {},
   "outputs": [
    {
     "name": "stdout",
     "output_type": "stream",
     "text": [
      "Number of images in the dataset: 300\n"
     ]
    }
   ],
   "source": [
    "model_path = f'{results_path}/vit_model_20230801_131421_epoch_12of20_valLoss_0.680_batchsize_64_lr_0.00_imgs.pth'\n",
    "\n",
    "\n",
    "dataset_root = '/home/maxgan/WORKSPACE/UNI/BA/TIQ/assets/Test/TestImg'\n",
    "csv_file = '/home/maxgan/WORKSPACE/UNI/BA/TIQ/assets/Test/AccTestCsv/shinyxAccTest20-01-2023.csv'\n",
    "\n",
    "model = ViT(\n",
    "    image_size=image_size,\n",
    "    patch_size=patch_size,\n",
    "    num_classes=num_classes,\n",
    "    dim=dim,\n",
    "    depth=depth,\n",
    "    heads=heads,\n",
    "    mlp_dim=mlp_dim,\n",
    "    emb_dropout=emb_dropout\n",
    ")\n",
    "model.load_state_dict(torch.load(model_path))\n",
    "\n",
    "dataset = ImageQualityDataset(csv_file,dataset_root)"
   ]
  },
  {
   "cell_type": "code",
   "execution_count": 7,
   "id": "ba4731cd",
   "metadata": {},
   "outputs": [],
   "source": [
    "from sklearn.metrics import confusion_matrix\n",
    "def prediction_quality(image_path, model):\n",
    "    # Define the image augmentation transformations\n",
    "    transform = transforms.Compose([\n",
    "        transforms.RandomResizedCrop(256),\n",
    "        transforms.RandomHorizontalFlip(),\n",
    "        transforms.ToTensor(),\n",
    "        transforms.Normalize(mean=[0.485, 0.456, 0.406], std=[0.229, 0.224, 0.225])  # Normalize with ImageNet mean and std\n",
    "    ])\n",
    "\n",
    "    # image = Image.open(image_path).convert('RGB')\n",
    "    image_tensor = transform(image_path).unsqueeze(0)\n",
    "\n",
    "    device = torch.device('cuda' if torch.cuda.is_available() else 'cpu')\n",
    "    model.to(device)\n",
    "    model.eval()\n",
    "    with torch.no_grad():\n",
    "        image_tensor = image_tensor.to(device)\n",
    "        outputs = model(image_tensor)\n",
    "        _, predicted_label = torch.max(outputs, 1)\n",
    "        predicted_rating = predicted_label.item() + 1  # Adding 1 to convert 0-based index to 1-based rating\n",
    "    return predicted_rating\n",
    "\n",
    "def compare(dataset, model):\n",
    "    device = torch.device('cuda' if torch.cuda.is_available() else 'cpu')\n",
    "    model.to(device)\n",
    "    model.eval()\n",
    "\n",
    "    predictions = []\n",
    "    ground_truth_ratings = []\n",
    "\n",
    "    with torch.no_grad():\n",
    "        for image_path, rating in dataset:\n",
    "            # image_path = os.path.join(dataset_root, image_path)\n",
    "            predicted_rating = prediction_quality(image_path, model)\n",
    "\n",
    "            predictions.append(predicted_rating)\n",
    "            ground_truth_ratings.append(rating + 1)\n",
    "\n",
    "    return predictions, ground_truth_ratings"
   ]
  },
  {
   "cell_type": "code",
   "execution_count": 8,
   "id": "a7c93143",
   "metadata": {},
   "outputs": [],
   "source": [
    "# Compare model predictions with ground truth ratings for the subjective datasets\n",
    "predictions, ground_truth_ratings = compare(dataset, model)\n",
    "\n",
    "# Create the confusion matrix\n",
    "conf_matrix = confusion_matrix(ground_truth_ratings, predictions)"
   ]
  },
  {
   "cell_type": "code",
   "execution_count": 11,
   "id": "cf3f0bf8",
   "metadata": {},
   "outputs": [
    {
     "data": {
      "image/png": "[encoded data removed]",
      "text/plain": [
       "<Figure size 600x600 with 2 Axes>"
      ]
     },
     "metadata": {},
     "output_type": "display_data"
    }
   ],
   "source": [
    "# figure_name = f\"Confusion_Matrix_{os.path.splitext(model_name)[0]}.png\"\n",
    "figure_name = f\"Confusion_Matrix_{os.path.splitext(os.path.basename(model_path))[0] + '.png'}\"\n",
    "figure_path = os.path.join(results_path, figure_name)\n",
    "\n",
    "# Plot the confusion matrix as a heatmap with annotations\n",
    "plt.figure(figsize=(6, 6))\n",
    "plt.imshow(conf_matrix, cmap='Blues', interpolation='nearest')\n",
    "plt.colorbar()\n",
    "plt.xlabel('Predicted Ratings')\n",
    "plt.ylabel('Ground Truth Ratings')\n",
    "plt.title('Confusion Matrix')\n",
    "plt.xticks(np.arange(5), np.arange(1, 6))\n",
    "plt.yticks(np.arange(5), np.arange(1, 6))\n",
    "\n",
    "# Add text annotations for true positives and false positives\n",
    "for i in range(conf_matrix.shape[0]):\n",
    "    for j in range(conf_matrix.shape[1]):\n",
    "        # Customize text color for light blue boxes (when the value is high)\n",
    "        if conf_matrix[i, j] > conf_matrix.max() / 2:\n",
    "            plt.text(j, i, str(conf_matrix[i, j]), ha='center', va='center', color='white')\n",
    "        else:\n",
    "            plt.text(j, i, str(conf_matrix[i, j]), ha='center', va='center', color='black')\n",
    "plt.savefig(figure_path)\n",
    "plt.show()"
   ]
  },
  {
   "cell_type": "markdown",
   "id": "55cdb6fa",
   "metadata": {},
   "source": [
    "### 4.3 Plot Distribution"
   ]
  },
  {
   "cell_type": "code",
   "execution_count": 26,
   "id": "06c40497",
   "metadata": {},
   "outputs": [],
   "source": [
    "csv_file = \"/home/maxgan/WORKSPACE/UNI/BA/TIQ/assets/DatasetSubjective/Persons/Person_5_arktip/img_scores.csv\"\n",
    "output_image_path = \"/home/maxgan/WORKSPACE/UNI/BA/TIQ/assets/DatasetSubjective/Persons/Person_5_arktip/rating_distribution.png\""
   ]
  },
  {
   "cell_type": "code",
   "execution_count": 27,
   "id": "6d74ad82",
   "metadata": {},
   "outputs": [
    {
     "name": "stdout",
     "output_type": "stream",
     "text": [
      "                                                   0  1         2  \\\n",
      "0     1011ILSVRC2013_train_00012231.JPEG_I3_Q21.jpeg  1  0.137100   \n",
      "1      1018ILSVRC2013_train_00006324.JPEG_I1_Q3.jpeg  1  0.000876   \n",
      "2    10110ILSVRC2013_train_00057322.JPEG_I3_Q21.jpeg  3  0.000866   \n",
      "3     10102ILSVRC2013_train_00057295.JPEG_I1_Q7.jpeg  1  0.000862   \n",
      "4     1005ILSVRC2013_train_00016725.JPEG_I5_Q90.jpeg  4  0.001266   \n",
      "..                                               ... ..       ...   \n",
      "893   1031ILSVRC2013_train_00045698.JPEG_I4_Q37.jpeg  4  0.250790   \n",
      "894  10265ILSVRC2013_train_00057859.JPEG_I2_Q11.jpeg  2  0.326890   \n",
      "895  10277ILSVRC2013_train_00052727.JPEG_I4_Q30.jpeg  3  0.295630   \n",
      "896    1043ILSVRC2013_train_00012531.JPEG_I1_Q5.jpeg  1  0.300650   \n",
      "897   1023ILSVRC2013_train_00015533.JPEG_I4_Q40.jpeg  3  0.713830   \n",
      "\n",
      "                        3  \n",
      "0    24-Jan-2023 12:03:13  \n",
      "1    24-Jan-2023 12:03:22  \n",
      "2    24-Jan-2023 12:03:30  \n",
      "3    24-Jan-2023 12:03:39  \n",
      "4    24-Jan-2023 12:03:47  \n",
      "..                    ...  \n",
      "893  19-Jan-2023 17:58:41  \n",
      "894  19-Jan-2023 17:58:50  \n",
      "895  19-Jan-2023 17:58:59  \n",
      "896  19-Jan-2023 17:59:08  \n",
      "897  19-Jan-2023 17:59:18  \n",
      "\n",
      "[898 rows x 4 columns]\n",
      "5\n"
     ]
    }
   ],
   "source": [
    "data = pd.read_csv(csv_file, header=None, skiprows=1)\n",
    "\n",
    "print(data)\n",
    "# Map rating values to their corresponding labels\n",
    "rating_labels = {\n",
    "    1: \"Bad\",\n",
    "    2: \"Insufficient\",\n",
    "    3: \"Fair\",\n",
    "    4: \"Good\",\n",
    "    5: \"Excellent\"\n",
    "}\n",
    "data[\"Rating_Label\"] = data[1].map(rating_labels)\n",
    "\n",
    "# Group data by Rating_Label and count occurrences\n",
    "class_counts = data[\"Rating_Label\"].value_counts().sort_index()\n",
    "print(len(class_counts))\n",
    "# Calculate total number of images\n",
    "total_images = class_counts.sum()"
   ]
  },
  {
   "cell_type": "code",
   "execution_count": 28,
   "id": "0ee564bc",
   "metadata": {},
   "outputs": [
    {
     "data": {
      "image/png": "[encoded data removed]",
      "text/plain": [
       "<Figure size 1000x600 with 1 Axes>"
      ]
     },
     "metadata": {},
     "output_type": "display_data"
    },
    {
     "name": "stdout",
     "output_type": "stream",
     "text": [
      "Rating Distribution Table:\n",
      "Rating_Label\n",
      "Bad             193\n",
      "Excellent        30\n",
      "Fair            272\n",
      "Good            176\n",
      "Insufficient    227\n",
      "Name: count, dtype: int64\n"
     ]
    }
   ],
   "source": [
    "# Create a bar chart\n",
    "plt.figure(figsize=(10, 6))\n",
    "class_counts.plot(kind=\"bar\", color='skyblue')\n",
    "plt.title(\"Image Rating Distribution\")\n",
    "plt.xlabel(\"Rating\")\n",
    "plt.ylabel(\"Number of Images\")\n",
    "plt.xticks(rotation=45)\n",
    "plt.tight_layout()\n",
    "# plt.savefig(output_image_path)\n",
    "plt.show()\n",
    "# Display the table\n",
    "print(\"Rating Distribution Table:\")\n",
    "print(class_counts)"
   ]
  },
  {
   "cell_type": "markdown",
   "id": "104267d9",
   "metadata": {},
   "source": [
    "# 5. Run Model"
   ]
  },
  {
   "cell_type": "code",
   "execution_count": null,
   "id": "92ae45cd",
   "metadata": {},
   "outputs": [],
   "source": []
  }
 ],
 "metadata": {
  "kernelspec": {
   "display_name": "Python 3 (ipykernel)",
   "language": "python",
   "name": "python3"
  },
  "language_info": {
   "codemirror_mode": {
    "name": "ipython",
    "version": 3
   },
   "file_extension": ".py",
   "mimetype": "text/x-python",
   "name": "python",
   "nbconvert_exporter": "python",
   "pygments_lexer": "ipython3",
   "version": "3.11.4"
  }
 },
 "nbformat": 4,
 "nbformat_minor": 5
}
