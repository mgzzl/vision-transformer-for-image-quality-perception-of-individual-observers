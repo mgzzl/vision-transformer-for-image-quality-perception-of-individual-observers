{
 "cells": [
  {
   "cell_type": "markdown",
   "id": "8a688702",
   "metadata": {},
   "source": [
    "# 0. Setup"
   ]
  },
  {
   "cell_type": "code",
   "execution_count": 1,
   "id": "571d84b7",
   "metadata": {},
   "outputs": [
    {
     "name": "stdout",
     "output_type": "stream",
     "text": [
      "GPU 0: NVIDIA GeForce RTX 3090 (UUID: GPU-9d5e4f83-3f58-2974-ee70-21df15226f84)\n"
     ]
    }
   ],
   "source": [
    "!nvidia-smi -L"
   ]
  },
  {
   "cell_type": "code",
   "execution_count": 1,
   "id": "3036095e",
   "metadata": {},
   "outputs": [],
   "source": [
    "import os\n",
    "import datetime\n",
    "import matplotlib.pyplot as plt\n",
    "import torch\n",
    "import torch.nn as nn\n",
    "import torch.optim as optim\n",
    "from torch.optim.lr_scheduler import ReduceLROnPlateau\n",
    "import torchvision.transforms as transforms\n",
    "from torch.utils.data import DataLoader\n",
    "from sklearn.metrics import accuracy_score\n",
    "from misc.helpers import calculate_true_distributions\n",
    "import numpy as np\n",
    "import pandas as pd\n",
    "\n",
    "\n",
    "from model.vit_for_small_dataset import ViT\n",
    "from utils.imageset_handler import ImageQualityDataset"
   ]
  },
  {
   "cell_type": "markdown",
   "id": "f28b2b95",
   "metadata": {},
   "source": [
    "# 1. Build Model"
   ]
  },
  {
   "cell_type": "markdown",
   "id": "71892202",
   "metadata": {},
   "source": [
    "### 1.1 Define Variables"
   ]
  },
  {
   "cell_type": "code",
   "execution_count": 2,
   "id": "5bfb894a",
   "metadata": {},
   "outputs": [],
   "source": [
    "image_size=256\n",
    "patch_size=16\n",
    "num_classes=5  # Number of classes for image quality levels\n",
    "dim=1024\n",
    "depth=6\n",
    "heads=16\n",
    "mlp_dim=2048\n",
    "emb_dropout=0.1\n",
    "\n",
    "\n",
    "pretrained_model_path = None\n",
    "# pretrained_model_path = 'results/weights/all_distored_imgs_1/vit_model_20230911_064440_epoch_148of150_valLoss_0.108_valAcc_0.953_batchsize_128_lr_0.0_allDistorted.pth'\n",
    "num_epochs = 100\n",
    "results_path = './results/weights/AIO0'\n",
    "os.makedirs(results_path, exist_ok=True)\n",
    "\n",
    "dataset_root = 'assets/Dataset/DS0'\n",
    "csv_file = 'assets/Dataset/Obs0.csv'"
   ]
  },
  {
   "cell_type": "markdown",
   "id": "cc12028a",
   "metadata": {},
   "source": [
    "### 1.2 Compile"
   ]
  },
  {
   "cell_type": "code",
   "execution_count": 18,
   "id": "b63f59b9",
   "metadata": {},
   "outputs": [
    {
     "name": "stdout",
     "output_type": "stream",
     "text": [
      "ViT(\n",
      "  (to_patch_embedding): SPT(\n",
      "    (to_patch_tokens): Sequential(\n",
      "      (0): Rearrange('b c (h p1) (w p2) -> b (h w) (p1 p2 c)', p1=16, p2=16)\n",
      "      (1): LayerNorm((3840,), eps=1e-05, elementwise_affine=True)\n",
      "      (2): Linear(in_features=3840, out_features=1024, bias=True)\n",
      "    )\n",
      "  )\n",
      "  (dropout): Dropout(p=0.1, inplace=False)\n",
      "  (transformer): Transformer(\n",
      "    (layers): ModuleList(\n",
      "      (0-5): 6 x ModuleList(\n",
      "        (0): PreNorm(\n",
      "          (norm): LayerNorm((1024,), eps=1e-05, elementwise_affine=True)\n",
      "          (fn): LSA(\n",
      "            (attend): Softmax(dim=-1)\n",
      "            (dropout): Dropout(p=0.0, inplace=False)\n",
      "            (to_qkv): Linear(in_features=1024, out_features=3072, bias=False)\n",
      "            (to_out): Sequential(\n",
      "              (0): Linear(in_features=1024, out_features=1024, bias=True)\n",
      "              (1): Dropout(p=0.0, inplace=False)\n",
      "            )\n",
      "          )\n",
      "        )\n",
      "        (1): PreNorm(\n",
      "          (norm): LayerNorm((1024,), eps=1e-05, elementwise_affine=True)\n",
      "          (fn): FeedForward(\n",
      "            (net): Sequential(\n",
      "              (0): Linear(in_features=1024, out_features=2048, bias=True)\n",
      "              (1): GELU(approximate='none')\n",
      "              (2): Dropout(p=0.0, inplace=False)\n",
      "              (3): Linear(in_features=2048, out_features=1024, bias=True)\n",
      "              (4): Dropout(p=0.0, inplace=False)\n",
      "            )\n",
      "          )\n",
      "        )\n",
      "      )\n",
      "    )\n",
      "  )\n",
      "  (to_latent): Identity()\n",
      "  (mlp_head): Sequential(\n",
      "    (0): LayerNorm((1024,), eps=1e-05, elementwise_affine=True)\n",
      "    (1): Linear(in_features=1024, out_features=5, bias=True)\n",
      "  )\n",
      ")\n"
     ]
    }
   ],
   "source": [
    "model = ViT(\n",
    "    image_size=image_size,\n",
    "    patch_size=patch_size,\n",
    "    num_classes=num_classes,\n",
    "    dim=dim,\n",
    "    depth=depth,\n",
    "    heads=heads,\n",
    "    mlp_dim=mlp_dim,\n",
    "    emb_dropout=emb_dropout\n",
    ")\n",
    "print(model)"
   ]
  },
  {
   "cell_type": "markdown",
   "id": "604df880",
   "metadata": {},
   "source": [
    "### 1.3 Load pretrained weights"
   ]
  },
  {
   "cell_type": "code",
   "execution_count": 19,
   "id": "81516f82",
   "metadata": {},
   "outputs": [
    {
     "name": "stdout",
     "output_type": "stream",
     "text": [
      "ViT(\n",
      "  (to_patch_embedding): SPT(\n",
      "    (to_patch_tokens): Sequential(\n",
      "      (0): Rearrange('b c (h p1) (w p2) -> b (h w) (p1 p2 c)', p1=16, p2=16)\n",
      "      (1): LayerNorm((3840,), eps=1e-05, elementwise_affine=True)\n",
      "      (2): Linear(in_features=3840, out_features=1024, bias=True)\n",
      "    )\n",
      "  )\n",
      "  (dropout): Dropout(p=0.1, inplace=False)\n",
      "  (transformer): Transformer(\n",
      "    (layers): ModuleList(\n",
      "      (0-5): 6 x ModuleList(\n",
      "        (0): PreNorm(\n",
      "          (norm): LayerNorm((1024,), eps=1e-05, elementwise_affine=True)\n",
      "          (fn): LSA(\n",
      "            (attend): Softmax(dim=-1)\n",
      "            (dropout): Dropout(p=0.0, inplace=False)\n",
      "            (to_qkv): Linear(in_features=1024, out_features=3072, bias=False)\n",
      "            (to_out): Sequential(\n",
      "              (0): Linear(in_features=1024, out_features=1024, bias=True)\n",
      "              (1): Dropout(p=0.0, inplace=False)\n",
      "            )\n",
      "          )\n",
      "        )\n",
      "        (1): PreNorm(\n",
      "          (norm): LayerNorm((1024,), eps=1e-05, elementwise_affine=True)\n",
      "          (fn): FeedForward(\n",
      "            (net): Sequential(\n",
      "              (0): Linear(in_features=1024, out_features=2048, bias=True)\n",
      "              (1): GELU(approximate='none')\n",
      "              (2): Dropout(p=0.0, inplace=False)\n",
      "              (3): Linear(in_features=2048, out_features=1024, bias=True)\n",
      "              (4): Dropout(p=0.0, inplace=False)\n",
      "            )\n",
      "          )\n",
      "        )\n",
      "      )\n",
      "    )\n",
      "  )\n",
      "  (to_latent): Identity()\n",
      "  (mlp_head): Sequential(\n",
      "    (0): LayerNorm((1024,), eps=1e-05, elementwise_affine=True)\n",
      "    (1): Linear(in_features=1024, out_features=5, bias=True)\n",
      "  )\n",
      ")\n"
     ]
    }
   ],
   "source": [
    "if pretrained_model_path:\n",
    "    model.load_state_dict(torch.load(pretrained_model_path))\n",
    "    print(model)"
   ]
  },
  {
   "cell_type": "markdown",
   "id": "de80426c",
   "metadata": {},
   "source": [
    "# 2 Load Dataset"
   ]
  },
  {
   "cell_type": "markdown",
   "id": "7cd353bf",
   "metadata": {},
   "source": [
    "### 2.1 Add Augmentation (Transformation)"
   ]
  },
  {
   "cell_type": "code",
   "execution_count": 3,
   "id": "c172fd9c",
   "metadata": {},
   "outputs": [],
   "source": [
    "transform = transforms.Compose([\n",
    "    transforms.RandomResizedCrop(256),\n",
    "    transforms.RandomHorizontalFlip(),\n",
    "    transforms.ToTensor(),\n",
    "    transforms.Normalize(mean=[0.485, 0.456, 0.406], std=[0.229, 0.224, 0.225])  # Normalize with ImageNet mean and std\n",
    "])"
   ]
  },
  {
   "cell_type": "markdown",
   "id": "becc15fa",
   "metadata": {},
   "source": [
    "### 2.2 Create Dataset"
   ]
  },
  {
   "cell_type": "code",
   "execution_count": 21,
   "id": "b91f950f",
   "metadata": {
    "scrolled": false
   },
   "outputs": [
    {
     "name": "stdout",
     "output_type": "stream",
     "text": [
      "Number of images in the dataset: 898\n"
     ]
    }
   ],
   "source": [
    "dataset = ImageQualityDataset(csv_file,dataset_root,transform=transform)"
   ]
  },
  {
   "cell_type": "markdown",
   "id": "ae9128a4",
   "metadata": {},
   "source": [
    "### 2.3 Split the dataset into training and validation sets"
   ]
  },
  {
   "cell_type": "code",
   "execution_count": 22,
   "id": "febe0d8c",
   "metadata": {},
   "outputs": [
    {
     "name": "stdout",
     "output_type": "stream",
     "text": [
      "Splitting Dataset..\n",
      "Number of Data to train: 718\n",
      "Number of Data to validate: 180\n"
     ]
    }
   ],
   "source": [
    "test_size = 0.2\n",
    "num_train = int(len(dataset)* (1-test_size))\n",
    "num_val = len(dataset) - num_train\n",
    "\n",
    "print('Splitting Dataset..')\n",
    "train_dataset, val_dataset = torch.utils.data.random_split(dataset, [num_train, num_val])\n",
    "\n",
    "print(f\"Number of Data to train: {num_train}\")\n",
    "print(f\"Number of Data to validate: {num_val}\")"
   ]
  },
  {
   "cell_type": "markdown",
   "id": "96485153",
   "metadata": {},
   "source": [
    "# 3. Train"
   ]
  },
  {
   "cell_type": "markdown",
   "id": "a040a46b",
   "metadata": {},
   "source": [
    "### 3.1 Define Training Parameters"
   ]
  },
  {
   "cell_type": "code",
   "execution_count": 23,
   "id": "8f882af4",
   "metadata": {},
   "outputs": [],
   "source": [
    "learning_rate = 5e-5\n",
    "batch_size = 128"
   ]
  },
  {
   "cell_type": "markdown",
   "id": "3f98fa91",
   "metadata": {},
   "source": [
    "### 3.2 Init Optimizer, loss function and dataloader"
   ]
  },
  {
   "cell_type": "code",
   "execution_count": 24,
   "id": "3aaf304e",
   "metadata": {},
   "outputs": [],
   "source": [
    "optimizer = optim.Adam(model.parameters(), lr=learning_rate)\n",
    "criterion = nn.CrossEntropyLoss()\n",
    "mse_criterion = nn.MSELoss()\n",
    "scheduler = ReduceLROnPlateau(optimizer, mode='min', factor=0.5, patience=5, verbose=True)"
   ]
  },
  {
   "cell_type": "code",
   "execution_count": 25,
   "id": "eb92b701",
   "metadata": {},
   "outputs": [],
   "source": [
    "train_dataloader = DataLoader(train_dataset, batch_size=batch_size, shuffle=True, num_workers=4)\n",
    "val_dataloader = DataLoader(val_dataset, batch_size=batch_size, shuffle=False, num_workers=4)"
   ]
  },
  {
   "cell_type": "markdown",
   "id": "9fda88fb",
   "metadata": {},
   "source": [
    "### 3.3 Train-Loop"
   ]
  },
  {
   "cell_type": "code",
   "execution_count": 26,
   "id": "3d03ad2c",
   "metadata": {},
   "outputs": [],
   "source": [
    "device = torch.device('cuda' if torch.cuda.is_available() else 'cpu')\n",
    "model.to(device)\n",
    "best_val_loss = float('inf')\n",
    "best_model_weights = None"
   ]
  },
  {
   "cell_type": "code",
   "execution_count": 27,
   "id": "a116623e",
   "metadata": {
    "scrolled": true
   },
   "outputs": [
    {
     "name": "stdout",
     "output_type": "stream",
     "text": [
      "Starting training...\n",
      "Epoch [1/100], Training Loss: 6.0586, Training Acc: 0.4345, Validation Loss: 4.6085, Validation Acc: 0.3778\n",
      "Epoch [2/100], Training Loss: 3.3078, Training Acc: 0.4791, Validation Loss: 2.2978, Validation Acc: 0.4222\n",
      "Epoch [3/100], Training Loss: 1.8998, Training Acc: 0.5195, Validation Loss: 1.5026, Validation Acc: 0.5222\n",
      "Epoch [4/100], Training Loss: 1.4238, Training Acc: 0.5084, Validation Loss: 1.1974, Validation Acc: 0.4778\n",
      "Epoch [5/100], Training Loss: 1.1939, Training Acc: 0.5000, Validation Loss: 1.0651, Validation Acc: 0.5000\n",
      "Epoch [6/100], Training Loss: 1.0222, Training Acc: 0.5446, Validation Loss: 0.9540, Validation Acc: 0.6000\n",
      "Epoch [7/100], Training Loss: 0.9709, Training Acc: 0.5724, Validation Loss: 0.9606, Validation Acc: 0.6000\n",
      "Epoch [8/100], Training Loss: 0.9524, Training Acc: 0.5738, Validation Loss: 0.9470, Validation Acc: 0.5667\n",
      "Epoch [9/100], Training Loss: 0.9304, Training Acc: 0.5780, Validation Loss: 0.9453, Validation Acc: 0.5889\n",
      "Epoch [10/100], Training Loss: 0.9015, Training Acc: 0.6017, Validation Loss: 0.9169, Validation Acc: 0.6056\n",
      "Epoch [11/100], Training Loss: 0.8992, Training Acc: 0.5864, Validation Loss: 0.9295, Validation Acc: 0.5667\n",
      "Epoch [12/100], Training Loss: 0.8740, Training Acc: 0.5947, Validation Loss: 0.9094, Validation Acc: 0.5722\n",
      "Epoch [13/100], Training Loss: 0.8660, Training Acc: 0.6058, Validation Loss: 0.9100, Validation Acc: 0.6111\n",
      "Epoch [14/100], Training Loss: 0.8430, Training Acc: 0.6100, Validation Loss: 0.8797, Validation Acc: 0.6056\n",
      "Epoch [15/100], Training Loss: 0.8510, Training Acc: 0.6267, Validation Loss: 0.8904, Validation Acc: 0.6111\n",
      "Epoch [16/100], Training Loss: 0.8397, Training Acc: 0.6240, Validation Loss: 0.8949, Validation Acc: 0.5722\n",
      "Epoch [17/100], Training Loss: 0.8075, Training Acc: 0.6351, Validation Loss: 0.9082, Validation Acc: 0.6167\n",
      "Epoch [18/100], Training Loss: 0.8015, Training Acc: 0.6504, Validation Loss: 0.8993, Validation Acc: 0.6056\n",
      "Epoch [19/100], Training Loss: 0.8139, Training Acc: 0.6462, Validation Loss: 0.8754, Validation Acc: 0.6222\n",
      "Epoch [20/100], Training Loss: 0.7841, Training Acc: 0.6462, Validation Loss: 0.9271, Validation Acc: 0.5611\n",
      "Epoch [21/100], Training Loss: 0.7706, Training Acc: 0.6713, Validation Loss: 0.9315, Validation Acc: 0.5722\n",
      "Epoch [22/100], Training Loss: 0.7630, Training Acc: 0.6755, Validation Loss: 0.8944, Validation Acc: 0.6056\n",
      "Epoch [23/100], Training Loss: 0.7558, Training Acc: 0.6783, Validation Loss: 0.9164, Validation Acc: 0.5611\n",
      "Epoch [24/100], Training Loss: 0.7153, Training Acc: 0.6950, Validation Loss: 0.9267, Validation Acc: 0.6111\n",
      "Epoch [25/100], Training Loss: 0.7255, Training Acc: 0.6741, Validation Loss: 0.8900, Validation Acc: 0.6056\n",
      "Epoch 00025: reducing learning rate of group 0 to 2.5000e-05.\n",
      "Epoch [26/100], Training Loss: 0.6931, Training Acc: 0.7019, Validation Loss: 0.8734, Validation Acc: 0.6222\n",
      "Epoch [27/100], Training Loss: 0.6963, Training Acc: 0.7019, Validation Loss: 0.9376, Validation Acc: 0.6056\n",
      "Epoch [28/100], Training Loss: 0.7040, Training Acc: 0.7103, Validation Loss: 0.9169, Validation Acc: 0.6222\n",
      "Epoch [29/100], Training Loss: 0.6806, Training Acc: 0.7117, Validation Loss: 0.9437, Validation Acc: 0.5833\n",
      "Epoch [30/100], Training Loss: 0.6882, Training Acc: 0.7061, Validation Loss: 0.9270, Validation Acc: 0.5667\n",
      "Epoch [31/100], Training Loss: 0.6895, Training Acc: 0.7047, Validation Loss: 0.8628, Validation Acc: 0.5944\n",
      "Epoch [32/100], Training Loss: 0.6337, Training Acc: 0.7312, Validation Loss: 0.9191, Validation Acc: 0.5778\n",
      "Epoch [33/100], Training Loss: 0.6625, Training Acc: 0.7354, Validation Loss: 0.9624, Validation Acc: 0.5667\n",
      "Epoch [34/100], Training Loss: 0.6526, Training Acc: 0.7187, Validation Loss: 0.9918, Validation Acc: 0.5722\n",
      "Epoch [35/100], Training Loss: 0.6618, Training Acc: 0.7312, Validation Loss: 0.9404, Validation Acc: 0.5889\n",
      "Epoch [36/100], Training Loss: 0.6389, Training Acc: 0.7340, Validation Loss: 0.9772, Validation Acc: 0.6111\n",
      "Epoch [37/100], Training Loss: 0.6397, Training Acc: 0.7256, Validation Loss: 0.9687, Validation Acc: 0.5944\n",
      "Epoch 00037: reducing learning rate of group 0 to 1.2500e-05.\n",
      "Epoch [38/100], Training Loss: 0.5957, Training Acc: 0.7535, Validation Loss: 0.9540, Validation Acc: 0.5500\n",
      "Epoch [39/100], Training Loss: 0.6288, Training Acc: 0.7563, Validation Loss: 0.9667, Validation Acc: 0.5222\n",
      "Epoch [40/100], Training Loss: 0.6006, Training Acc: 0.7493, Validation Loss: 0.9166, Validation Acc: 0.6056\n",
      "Epoch [41/100], Training Loss: 0.5757, Training Acc: 0.7702, Validation Loss: 0.9388, Validation Acc: 0.5667\n",
      "Epoch [42/100], Training Loss: 0.5853, Training Acc: 0.7688, Validation Loss: 0.8986, Validation Acc: 0.6167\n",
      "Epoch [43/100], Training Loss: 0.5896, Training Acc: 0.7702, Validation Loss: 1.0220, Validation Acc: 0.5833\n",
      "Epoch 00043: reducing learning rate of group 0 to 6.2500e-06.\n",
      "Epoch [44/100], Training Loss: 0.5757, Training Acc: 0.7604, Validation Loss: 0.8964, Validation Acc: 0.6056\n",
      "Epoch [45/100], Training Loss: 0.5908, Training Acc: 0.7451, Validation Loss: 1.0151, Validation Acc: 0.5444\n",
      "Epoch [46/100], Training Loss: 0.5754, Training Acc: 0.7507, Validation Loss: 1.0509, Validation Acc: 0.5389\n",
      "Epoch [47/100], Training Loss: 0.5803, Training Acc: 0.7660, Validation Loss: 0.9592, Validation Acc: 0.5778\n",
      "Epoch [48/100], Training Loss: 0.6010, Training Acc: 0.7354, Validation Loss: 1.0344, Validation Acc: 0.5444\n",
      "Epoch [49/100], Training Loss: 0.5580, Training Acc: 0.7549, Validation Loss: 0.9752, Validation Acc: 0.5611\n",
      "Epoch 00049: reducing learning rate of group 0 to 3.1250e-06.\n",
      "Epoch [50/100], Training Loss: 0.5734, Training Acc: 0.7702, Validation Loss: 0.9495, Validation Acc: 0.5500\n",
      "Epoch [51/100], Training Loss: 0.5722, Training Acc: 0.7758, Validation Loss: 0.9706, Validation Acc: 0.5944\n",
      "Epoch [52/100], Training Loss: 0.5984, Training Acc: 0.7507, Validation Loss: 0.9848, Validation Acc: 0.5611\n",
      "Epoch [53/100], Training Loss: 0.5667, Training Acc: 0.7688, Validation Loss: 0.9995, Validation Acc: 0.5500\n",
      "Epoch [54/100], Training Loss: 0.5377, Training Acc: 0.7967, Validation Loss: 0.9988, Validation Acc: 0.5833\n",
      "Epoch [55/100], Training Loss: 0.5719, Training Acc: 0.7493, Validation Loss: 1.0435, Validation Acc: 0.5722\n",
      "Epoch 00055: reducing learning rate of group 0 to 1.5625e-06.\n",
      "Epoch [56/100], Training Loss: 0.5695, Training Acc: 0.7437, Validation Loss: 0.9403, Validation Acc: 0.5611\n",
      "Epoch [57/100], Training Loss: 0.5627, Training Acc: 0.7730, Validation Loss: 0.9812, Validation Acc: 0.5778\n",
      "Epoch [58/100], Training Loss: 0.5384, Training Acc: 0.7758, Validation Loss: 1.0310, Validation Acc: 0.5556\n",
      "Epoch [59/100], Training Loss: 0.5324, Training Acc: 0.7758, Validation Loss: 1.0524, Validation Acc: 0.5111\n",
      "Epoch [60/100], Training Loss: 0.5653, Training Acc: 0.7618, Validation Loss: 0.9941, Validation Acc: 0.5444\n",
      "Epoch [61/100], Training Loss: 0.5584, Training Acc: 0.7702, Validation Loss: 1.0205, Validation Acc: 0.5278\n",
      "Epoch 00061: reducing learning rate of group 0 to 7.8125e-07.\n",
      "Epoch [62/100], Training Loss: 0.5680, Training Acc: 0.7660, Validation Loss: 1.0208, Validation Acc: 0.5611\n",
      "Epoch [63/100], Training Loss: 0.5706, Training Acc: 0.7799, Validation Loss: 0.9560, Validation Acc: 0.6056\n",
      "Epoch [64/100], Training Loss: 0.5731, Training Acc: 0.7688, Validation Loss: 0.9667, Validation Acc: 0.5444\n",
      "Epoch [65/100], Training Loss: 0.5773, Training Acc: 0.7507, Validation Loss: 0.9230, Validation Acc: 0.5500\n",
      "Epoch [66/100], Training Loss: 0.5643, Training Acc: 0.7772, Validation Loss: 0.9963, Validation Acc: 0.5833\n",
      "Epoch [67/100], Training Loss: 0.5944, Training Acc: 0.7604, Validation Loss: 0.9847, Validation Acc: 0.5333\n",
      "Epoch 00067: reducing learning rate of group 0 to 3.9063e-07.\n",
      "Epoch [68/100], Training Loss: 0.5550, Training Acc: 0.7744, Validation Loss: 1.0302, Validation Acc: 0.5278\n",
      "Epoch [69/100], Training Loss: 0.5312, Training Acc: 0.7869, Validation Loss: 1.0018, Validation Acc: 0.5556\n",
      "Epoch [70/100], Training Loss: 0.5512, Training Acc: 0.7744, Validation Loss: 1.0046, Validation Acc: 0.5944\n",
      "Epoch [71/100], Training Loss: 0.5761, Training Acc: 0.7577, Validation Loss: 1.0010, Validation Acc: 0.5444\n",
      "Epoch [72/100], Training Loss: 0.5549, Training Acc: 0.7744, Validation Loss: 0.9628, Validation Acc: 0.6000\n",
      "Epoch [73/100], Training Loss: 0.5736, Training Acc: 0.7674, Validation Loss: 0.9962, Validation Acc: 0.5944\n",
      "Epoch 00073: reducing learning rate of group 0 to 1.9531e-07.\n",
      "Epoch [74/100], Training Loss: 0.5836, Training Acc: 0.7521, Validation Loss: 0.9708, Validation Acc: 0.5778\n",
      "Epoch [75/100], Training Loss: 0.5370, Training Acc: 0.7813, Validation Loss: 0.9820, Validation Acc: 0.5500\n",
      "Epoch [76/100], Training Loss: 0.5810, Training Acc: 0.7535, Validation Loss: 0.9443, Validation Acc: 0.5611\n",
      "Epoch [77/100], Training Loss: 0.5511, Training Acc: 0.7730, Validation Loss: 0.9415, Validation Acc: 0.5833\n",
      "Epoch [78/100], Training Loss: 0.5376, Training Acc: 0.7911, Validation Loss: 1.0689, Validation Acc: 0.5444\n",
      "Epoch [79/100], Training Loss: 0.5481, Training Acc: 0.7799, Validation Loss: 0.9051, Validation Acc: 0.6056\n",
      "Epoch 00079: reducing learning rate of group 0 to 9.7656e-08.\n",
      "Epoch [80/100], Training Loss: 0.5785, Training Acc: 0.7632, Validation Loss: 0.9831, Validation Acc: 0.5278\n",
      "Epoch [81/100], Training Loss: 0.5680, Training Acc: 0.7507, Validation Loss: 1.0306, Validation Acc: 0.5444\n",
      "Epoch [82/100], Training Loss: 0.5727, Training Acc: 0.7521, Validation Loss: 1.0304, Validation Acc: 0.5556\n",
      "Epoch [83/100], Training Loss: 0.5372, Training Acc: 0.7758, Validation Loss: 0.9627, Validation Acc: 0.5611\n",
      "Epoch [84/100], Training Loss: 0.5444, Training Acc: 0.7786, Validation Loss: 0.9767, Validation Acc: 0.5778\n",
      "Epoch [85/100], Training Loss: 0.5797, Training Acc: 0.7591, Validation Loss: 1.0347, Validation Acc: 0.5833\n",
      "Epoch 00085: reducing learning rate of group 0 to 4.8828e-08.\n",
      "Epoch [86/100], Training Loss: 0.5324, Training Acc: 0.8050, Validation Loss: 0.9572, Validation Acc: 0.5722\n",
      "Epoch [87/100], Training Loss: 0.5681, Training Acc: 0.7730, Validation Loss: 0.9608, Validation Acc: 0.5889\n",
      "Epoch [88/100], Training Loss: 0.5482, Training Acc: 0.7827, Validation Loss: 0.9892, Validation Acc: 0.5722\n",
      "Epoch [89/100], Training Loss: 0.5585, Training Acc: 0.7869, Validation Loss: 1.0468, Validation Acc: 0.5167\n",
      "Epoch [90/100], Training Loss: 0.5688, Training Acc: 0.7758, Validation Loss: 0.9793, Validation Acc: 0.6056\n",
      "Epoch [91/100], Training Loss: 0.5617, Training Acc: 0.7744, Validation Loss: 1.0677, Validation Acc: 0.5111\n",
      "Epoch 00091: reducing learning rate of group 0 to 2.4414e-08.\n",
      "Epoch [92/100], Training Loss: 0.5597, Training Acc: 0.7953, Validation Loss: 1.0242, Validation Acc: 0.5556\n",
      "Epoch [93/100], Training Loss: 0.5622, Training Acc: 0.7799, Validation Loss: 0.9748, Validation Acc: 0.5778\n",
      "Epoch [94/100], Training Loss: 0.5605, Training Acc: 0.7716, Validation Loss: 0.9486, Validation Acc: 0.5667\n",
      "Epoch [95/100], Training Loss: 0.5657, Training Acc: 0.7688, Validation Loss: 0.9647, Validation Acc: 0.5722\n",
      "Epoch [96/100], Training Loss: 0.5487, Training Acc: 0.7702, Validation Loss: 0.9392, Validation Acc: 0.5667\n",
      "Epoch [97/100], Training Loss: 0.5718, Training Acc: 0.7702, Validation Loss: 0.9992, Validation Acc: 0.5444\n",
      "Epoch 00097: reducing learning rate of group 0 to 1.2207e-08.\n",
      "Epoch [98/100], Training Loss: 0.5329, Training Acc: 0.7953, Validation Loss: 0.9535, Validation Acc: 0.5778\n",
      "Epoch [99/100], Training Loss: 0.5753, Training Acc: 0.7577, Validation Loss: 0.9656, Validation Acc: 0.5722\n",
      "Epoch [100/100], Training Loss: 0.5381, Training Acc: 0.7813, Validation Loss: 0.9512, Validation Acc: 0.5833\n"
     ]
    }
   ],
   "source": [
    "train_losses = []\n",
    "val_losses = []\n",
    "    \n",
    "# Initialize a list to store model results\n",
    "model_results = []\n",
    "print(\"Starting training...\")\n",
    "for epoch in range(num_epochs):\n",
    "    # Training\n",
    "    model.train()\n",
    "    train_loss = 0.0\n",
    "    train_preds = []\n",
    "    train_labels = []\n",
    "\n",
    "    for _, (images, labels) in enumerate(train_dataloader):\n",
    "        images = images.to(device)\n",
    "        labels = labels.to(device)\n",
    "\n",
    "        optimizer.zero_grad()\n",
    "        outputs = model(images)\n",
    "\n",
    "        loss = criterion(outputs, labels)\n",
    "        loss.backward()\n",
    "        optimizer.step()\n",
    "\n",
    "        train_loss += loss.item() * images.size(0)\n",
    "        _, preds = torch.max(outputs, 1)  # Get predicted labels\n",
    "        train_preds.extend(preds.cpu().numpy())  # Extend the list of predictions\n",
    "        train_labels.extend(labels.cpu().numpy())  # Extend the list of true labels\n",
    "    train_accuracy = accuracy_score(train_labels, train_preds)\n",
    "\n",
    "    # Validation\n",
    "    model.eval()\n",
    "    val_loss = 0.0\n",
    "    val_preds = []\n",
    "    val_labels = []\n",
    "\n",
    "    with torch.no_grad():\n",
    "        for _, (images, labels) in enumerate(val_dataloader):\n",
    "            images = images.to(device)\n",
    "            labels = labels.to(device)\n",
    "            \n",
    "            # CROSS-ENTROPY\n",
    "            outputs = model(images)\n",
    "            loss = criterion(outputs, labels)\n",
    "            val_loss += loss.item() * images.size(0)\n",
    "            _, preds = torch.max(outputs, 1)  # Get predicted labels\n",
    "            val_preds.extend(preds.cpu().numpy())  # Extend the list of predictions\n",
    "            val_labels.extend(labels.cpu().numpy())  # Extend the list of true labels\n",
    "\n",
    "\n",
    "\n",
    "    val_accuracy = accuracy_score(val_labels, val_preds)\n",
    "    train_loss /= len(train_dataset)\n",
    "    val_loss /= len(val_dataset)\n",
    "    print(f'Epoch [{epoch+1}/{num_epochs}], Training Loss: {train_loss:.4f}, Training Acc: {train_accuracy:.4f}, Validation Loss: {val_loss:.4f}, Validation Acc: {val_accuracy:.4f}')\n",
    "    # Step the ReduceLROnPlateau scheduler with the validation loss\n",
    "    scheduler.step(val_loss)\n",
    "    # Calculate and store the losses\n",
    "    train_losses.append(train_loss)\n",
    "    val_losses.append(val_loss)\n",
    "    \n",
    "    \n",
    "    # Save the weights with the best validation loss\n",
    "    if val_loss < best_val_loss:\n",
    "        # Delete the previously saved best model\n",
    "        #if best_model_weights is not None:\n",
    "        #    os.remove(best_model_path)\n",
    "\n",
    "        # Update the best validation loss and save the new best model\n",
    "        best_val_loss = val_loss\n",
    "        best_model_weights = model.state_dict().copy()\n",
    "\n",
    "        # Get the current timestamp\n",
    "        timestamp = datetime.datetime.now().strftime(\"%Y%m%d_%H%M%S\")\n",
    "        last_folder = os.path.basename(dataset_root)\n",
    "        # Use the timestamp and transfer learning information as a name extension\n",
    "        model_name = f\"vit_model_{timestamp}_epoch_{epoch+1}of{num_epochs}_valLoss_{best_val_loss:.3f}_valAcc_{val_accuracy:.3f}_batchsize_{batch_size}_lr_{learning_rate:.1f}_{last_folder}.pth\"\n",
    "        best_model_path = os.path.join(results_path, model_name)\n",
    "        torch.save(best_model_weights, best_model_path)\n",
    "        \n",
    "        # After saving the best model\n",
    "        model_info = {\n",
    "            'model_name': model_name,\n",
    "            'validation_loss': val_loss,\n",
    "            'validation_accuracy': val_accuracy,\n",
    "            'batch_size': batch_size,\n",
    "            'learning_rate': learning_rate,\n",
    "            'epoch': epoch + 1\n",
    "        }\n",
    "        model_results.append(model_info)"
   ]
  },
  {
   "cell_type": "markdown",
   "id": "7c2b915e",
   "metadata": {},
   "source": [
    "Save results"
   ]
  },
  {
   "cell_type": "code",
   "execution_count": 28,
   "id": "b69c2f26",
   "metadata": {},
   "outputs": [
    {
     "data": {
      "image/png": "[encoded data removed]",
      "text/plain": [
       "<Figure size 640x480 with 1 Axes>"
      ]
     },
     "metadata": {},
     "output_type": "display_data"
    }
   ],
   "source": [
    "# Create a DataFrame from model_results\n",
    "results_df = pd.DataFrame(model_results)\n",
    "\n",
    "# Save the results as a CSV file\n",
    "results_csv_path = os.path.join(results_path, f'model_results_{last_folder}.csv')\n",
    "results_df.to_csv(results_csv_path, index=False)\n",
    "\n",
    "# Save the Matplotlib figure with the same basename as the saved model\n",
    "figure_name =  f'Train_Val_Curve_{last_folder}.png'\n",
    "figure_path = os.path.join(results_path, figure_name)\n",
    "# Plot the losses\n",
    "plt.plot(range(1, num_epochs + 1), train_losses, label='Training Loss')\n",
    "plt.plot(range(1, num_epochs + 1), val_losses, label='Validation Loss')\n",
    "plt.xlabel('Epoch')\n",
    "plt.ylabel('Loss')\n",
    "plt.title('Training and Validation Loss')\n",
    "plt.legend()\n",
    "plt.savefig(figure_path)\n",
    "plt.show()"
   ]
  },
  {
   "cell_type": "markdown",
   "id": "3b21fe32",
   "metadata": {},
   "source": [
    "# 4 Train Persons AIO"
   ]
  },
  {
   "cell_type": "markdown",
   "id": "43ebb8c5",
   "metadata": {},
   "source": [
    "### 4.1 Define Model, Dataset and Parameters"
   ]
  },
  {
   "cell_type": "code",
   "execution_count": 137,
   "id": "6873d8c7",
   "metadata": {},
   "outputs": [],
   "source": [
    "image_size=256\n",
    "patch_size=16\n",
    "num_classes=5  # Number of classes for image quality levels\n",
    "dim=1024\n",
    "depth=6\n",
    "heads=16\n",
    "mlp_dim=2048\n",
    "emb_dropout=0.1\n",
    "\n",
    "# pretrained_model_path = None\n",
    "# pretrained_model_path = 'results/weights/AIO0/vit_model_20230911_064440_epoch_148of150_valLoss_0.108_valAcc_0.953_batchsize_128_lr_0.0_allDistorted.pth'\n",
    "pretrained_model_path = 'results/weights/FINAL/AIO5/AIO5_2/vit_model_20231204_153455_epoch_16of100_valLoss_1.094_valAcc_0.600_batchsize_128_lr_0.0_DS5.pth'\n",
    "num_epochs = 100\n",
    "results_path = 'results/weights/FINAL/AIO5/AIO5_3'\n",
    "os.makedirs(results_path, exist_ok=True)\n",
    "\n",
    "train_dataset_root  = 'assets/Dataset/DS5'\n",
    "val_dataset_root  = 'assets/Test/DSX'\n",
    "train_csv_file = 'assets/Obs_iterative/Obs5/Obs5_3.csv'\n",
    "val_csv_file = 'assets/Test/Obs5.csv'"
   ]
  },
  {
   "cell_type": "code",
   "execution_count": 138,
   "id": "ed0b4bfe",
   "metadata": {},
   "outputs": [],
   "source": [
    "learning_rate = 2.5e-5\n",
    "batch_size = 128"
   ]
  },
  {
   "cell_type": "code",
   "execution_count": 139,
   "id": "2c7819c8",
   "metadata": {},
   "outputs": [],
   "source": [
    "transform = transforms.Compose([\n",
    "    transforms.Resize(256),\n",
    "    transforms.CenterCrop(256),\n",
    "    transforms.RandomHorizontalFlip(),\n",
    "    transforms.ToTensor(),\n",
    "    transforms.Normalize(mean=[0.485, 0.456, 0.406], std=[0.229, 0.224, 0.225])  # Normalize with ImageNet mean and std\n",
    "])"
   ]
  },
  {
   "cell_type": "code",
   "execution_count": 140,
   "id": "a22ca582",
   "metadata": {},
   "outputs": [
    {
     "name": "stdout",
     "output_type": "stream",
     "text": [
      "Number of images in class 0: 87\n",
      "Number of images in class 1: 91\n",
      "Number of images in class 2: 78\n",
      "Number of images in class 3: 39\n",
      "Number of images in class 4: 5\n",
      "\n",
      "Number of images in the dataset: 300\n",
      "Number of images in class 0: 77\n",
      "Number of images in class 1: 89\n",
      "Number of images in class 2: 89\n",
      "Number of images in class 3: 37\n",
      "Number of images in class 4: 8\n",
      "\n",
      "Number of images in the dataset: 300\n"
     ]
    }
   ],
   "source": [
    "model = ViT(\n",
    "    image_size=image_size,\n",
    "    patch_size=patch_size,\n",
    "    num_classes=num_classes,\n",
    "    dim=dim,\n",
    "    depth=depth,\n",
    "    heads=heads,\n",
    "    mlp_dim=mlp_dim,\n",
    "    emb_dropout=emb_dropout\n",
    ")\n",
    "if pretrained_model_path is not None:\n",
    "    model.load_state_dict(torch.load(pretrained_model_path))\n",
    "\n",
    "train_dataset = ImageQualityDataset(train_csv_file,train_dataset_root, transform=transform)\n",
    "val_dataset = ImageQualityDataset(val_csv_file,val_dataset_root, transform=transform)"
   ]
  },
  {
   "cell_type": "code",
   "execution_count": 141,
   "id": "f89ec170",
   "metadata": {},
   "outputs": [],
   "source": [
    "optimizer = optim.Adam(model.parameters(), lr=learning_rate)\n",
    "criterion = nn.CrossEntropyLoss()\n",
    "mse_criterion = nn.MSELoss()\n",
    "scheduler = ReduceLROnPlateau(optimizer, mode='min', factor=0.5, patience=5, verbose=True)\n",
    "\n",
    "# KL-Divergence\n",
    "kl_div_criterion = nn.KLDivLoss(reduction='batchmean')"
   ]
  },
  {
   "cell_type": "code",
   "execution_count": 142,
   "id": "8af9bbdc",
   "metadata": {},
   "outputs": [],
   "source": [
    "train_dataloader = DataLoader(train_dataset, batch_size=batch_size, shuffle=True, num_workers=4)\n",
    "val_dataloader = DataLoader(val_dataset, batch_size=batch_size, shuffle=False, num_workers=4)"
   ]
  },
  {
   "cell_type": "code",
   "execution_count": 143,
   "id": "e3bb969a",
   "metadata": {},
   "outputs": [],
   "source": [
    "device = torch.device('cuda' if torch.cuda.is_available() else 'cpu')\n",
    "model.to(device)\n",
    "best_val_loss = float('inf')\n",
    "best_model_weights = None"
   ]
  },
  {
   "cell_type": "markdown",
   "id": "da52a548",
   "metadata": {},
   "source": [
    "### 4.2 Train AIO"
   ]
  },
  {
   "cell_type": "code",
   "execution_count": 144,
   "id": "bec19f5e",
   "metadata": {},
   "outputs": [
    {
     "name": "stdout",
     "output_type": "stream",
     "text": [
      "Starting training...\n",
      "Epoch [1/100], Training Loss: 1.1224, Training Acc: 0.5633, Validation Loss: 1.0948, Validation Acc: 0.5900\n",
      "Epoch [2/100], Training Loss: 1.0256, Training Acc: 0.6100, Validation Loss: 1.0838, Validation Acc: 0.5833\n",
      "Epoch [3/100], Training Loss: 0.9620, Training Acc: 0.6567, Validation Loss: 1.0849, Validation Acc: 0.5833\n",
      "Epoch [4/100], Training Loss: 0.9221, Training Acc: 0.6867, Validation Loss: 1.0629, Validation Acc: 0.6067\n",
      "Epoch [5/100], Training Loss: 0.8932, Training Acc: 0.7200, Validation Loss: 1.0587, Validation Acc: 0.6067\n",
      "Epoch [6/100], Training Loss: 0.8659, Training Acc: 0.7633, Validation Loss: 1.0551, Validation Acc: 0.6033\n",
      "Epoch [7/100], Training Loss: 0.8391, Training Acc: 0.7933, Validation Loss: 1.0754, Validation Acc: 0.5933\n",
      "Epoch [8/100], Training Loss: 0.8126, Training Acc: 0.8000, Validation Loss: 1.0807, Validation Acc: 0.5933\n",
      "Epoch [9/100], Training Loss: 0.7997, Training Acc: 0.8267, Validation Loss: 1.0760, Validation Acc: 0.5900\n",
      "Epoch [10/100], Training Loss: 0.7659, Training Acc: 0.8600, Validation Loss: 1.0797, Validation Acc: 0.5900\n",
      "Epoch [11/100], Training Loss: 0.7513, Training Acc: 0.8833, Validation Loss: 1.0957, Validation Acc: 0.5833\n",
      "Epoch [12/100], Training Loss: 0.7365, Training Acc: 0.9000, Validation Loss: 1.1112, Validation Acc: 0.5800\n",
      "Epoch 00012: reducing learning rate of group 0 to 1.2500e-05.\n",
      "Epoch [13/100], Training Loss: 0.7192, Training Acc: 0.9100, Validation Loss: 1.1157, Validation Acc: 0.5700\n",
      "Epoch [14/100], Training Loss: 0.7107, Training Acc: 0.9200, Validation Loss: 1.1320, Validation Acc: 0.5733\n",
      "Epoch [15/100], Training Loss: 0.7059, Training Acc: 0.9100, Validation Loss: 1.1158, Validation Acc: 0.5967\n",
      "Epoch [16/100], Training Loss: 0.6934, Training Acc: 0.9267, Validation Loss: 1.1156, Validation Acc: 0.5967\n",
      "Epoch [17/100], Training Loss: 0.6885, Training Acc: 0.9400, Validation Loss: 1.1189, Validation Acc: 0.5900\n",
      "Epoch [18/100], Training Loss: 0.6776, Training Acc: 0.9567, Validation Loss: 1.1302, Validation Acc: 0.5967\n",
      "Epoch 00018: reducing learning rate of group 0 to 6.2500e-06.\n",
      "Epoch [19/100], Training Loss: 0.6755, Training Acc: 0.9500, Validation Loss: 1.1403, Validation Acc: 0.5833\n",
      "Epoch [20/100], Training Loss: 0.6684, Training Acc: 0.9633, Validation Loss: 1.1384, Validation Acc: 0.5700\n",
      "Epoch [21/100], Training Loss: 0.6667, Training Acc: 0.9467, Validation Loss: 1.1423, Validation Acc: 0.5767\n",
      "Epoch [22/100], Training Loss: 0.6609, Training Acc: 0.9533, Validation Loss: 1.1465, Validation Acc: 0.5733\n",
      "Epoch [23/100], Training Loss: 0.6592, Training Acc: 0.9567, Validation Loss: 1.1413, Validation Acc: 0.5867\n",
      "Epoch [24/100], Training Loss: 0.6519, Training Acc: 0.9600, Validation Loss: 1.1451, Validation Acc: 0.5767\n",
      "Epoch 00024: reducing learning rate of group 0 to 3.1250e-06.\n",
      "Epoch [25/100], Training Loss: 0.6508, Training Acc: 0.9733, Validation Loss: 1.1394, Validation Acc: 0.5933\n",
      "Epoch [26/100], Training Loss: 0.6532, Training Acc: 0.9667, Validation Loss: 1.1435, Validation Acc: 0.5900\n",
      "Epoch [27/100], Training Loss: 0.6477, Training Acc: 0.9767, Validation Loss: 1.1453, Validation Acc: 0.5733\n",
      "Epoch [28/100], Training Loss: 0.6464, Training Acc: 0.9700, Validation Loss: 1.1453, Validation Acc: 0.5800\n",
      "Epoch [29/100], Training Loss: 0.6478, Training Acc: 0.9667, Validation Loss: 1.1504, Validation Acc: 0.5800\n",
      "Epoch [30/100], Training Loss: 0.6442, Training Acc: 0.9667, Validation Loss: 1.1431, Validation Acc: 0.5767\n",
      "Epoch 00030: reducing learning rate of group 0 to 1.5625e-06.\n",
      "Epoch [31/100], Training Loss: 0.6432, Training Acc: 0.9800, Validation Loss: 1.1475, Validation Acc: 0.5833\n",
      "Epoch [32/100], Training Loss: 0.6432, Training Acc: 0.9833, Validation Loss: 1.1526, Validation Acc: 0.5800\n",
      "Epoch [33/100], Training Loss: 0.6416, Training Acc: 0.9767, Validation Loss: 1.1545, Validation Acc: 0.5733\n",
      "Epoch [34/100], Training Loss: 0.6393, Training Acc: 0.9767, Validation Loss: 1.1547, Validation Acc: 0.5733\n",
      "Epoch [35/100], Training Loss: 0.6389, Training Acc: 0.9833, Validation Loss: 1.1575, Validation Acc: 0.5700\n",
      "Epoch [36/100], Training Loss: 0.6394, Training Acc: 0.9767, Validation Loss: 1.1601, Validation Acc: 0.5767\n",
      "Epoch 00036: reducing learning rate of group 0 to 7.8125e-07.\n",
      "Epoch [37/100], Training Loss: 0.6377, Training Acc: 0.9833, Validation Loss: 1.1431, Validation Acc: 0.5833\n",
      "Epoch [38/100], Training Loss: 0.6403, Training Acc: 0.9800, Validation Loss: 1.1519, Validation Acc: 0.5933\n",
      "Epoch [39/100], Training Loss: 0.6388, Training Acc: 0.9867, Validation Loss: 1.1465, Validation Acc: 0.5900\n",
      "Epoch [40/100], Training Loss: 0.6373, Training Acc: 0.9767, Validation Loss: 1.1687, Validation Acc: 0.5867\n",
      "Epoch [41/100], Training Loss: 0.6326, Training Acc: 0.9900, Validation Loss: 1.1605, Validation Acc: 0.5900\n",
      "Epoch [42/100], Training Loss: 0.6388, Training Acc: 0.9833, Validation Loss: 1.1577, Validation Acc: 0.5800\n",
      "Epoch 00042: reducing learning rate of group 0 to 3.9063e-07.\n",
      "Epoch [43/100], Training Loss: 0.6366, Training Acc: 0.9867, Validation Loss: 1.1580, Validation Acc: 0.5700\n",
      "Epoch [44/100], Training Loss: 0.6351, Training Acc: 0.9800, Validation Loss: 1.1581, Validation Acc: 0.5667\n",
      "Epoch [45/100], Training Loss: 0.6374, Training Acc: 0.9800, Validation Loss: 1.1542, Validation Acc: 0.5833\n",
      "Epoch [46/100], Training Loss: 0.6346, Training Acc: 0.9833, Validation Loss: 1.1586, Validation Acc: 0.5833\n",
      "Epoch [47/100], Training Loss: 0.6342, Training Acc: 0.9900, Validation Loss: 1.1577, Validation Acc: 0.5800\n",
      "Epoch [48/100], Training Loss: 0.6400, Training Acc: 0.9800, Validation Loss: 1.1633, Validation Acc: 0.5767\n",
      "Epoch 00048: reducing learning rate of group 0 to 1.9531e-07.\n",
      "Epoch [49/100], Training Loss: 0.6403, Training Acc: 0.9833, Validation Loss: 1.1585, Validation Acc: 0.5733\n",
      "Epoch [50/100], Training Loss: 0.6380, Training Acc: 0.9800, Validation Loss: 1.1631, Validation Acc: 0.5767\n",
      "Epoch [51/100], Training Loss: 0.6315, Training Acc: 0.9867, Validation Loss: 1.1597, Validation Acc: 0.5667\n",
      "Epoch [52/100], Training Loss: 0.6369, Training Acc: 0.9767, Validation Loss: 1.1670, Validation Acc: 0.5767\n",
      "Epoch [53/100], Training Loss: 0.6382, Training Acc: 0.9833, Validation Loss: 1.1550, Validation Acc: 0.5800\n",
      "Epoch [54/100], Training Loss: 0.6368, Training Acc: 0.9767, Validation Loss: 1.1631, Validation Acc: 0.5733\n",
      "Epoch 00054: reducing learning rate of group 0 to 9.7656e-08.\n",
      "Epoch [55/100], Training Loss: 0.6360, Training Acc: 0.9867, Validation Loss: 1.1548, Validation Acc: 0.5767\n",
      "Epoch [56/100], Training Loss: 0.6324, Training Acc: 0.9867, Validation Loss: 1.1646, Validation Acc: 0.5900\n",
      "Epoch [57/100], Training Loss: 0.6316, Training Acc: 0.9800, Validation Loss: 1.1532, Validation Acc: 0.5733\n",
      "Epoch [58/100], Training Loss: 0.6336, Training Acc: 0.9867, Validation Loss: 1.1566, Validation Acc: 0.5800\n",
      "Epoch [59/100], Training Loss: 0.6346, Training Acc: 0.9833, Validation Loss: 1.1611, Validation Acc: 0.5733\n",
      "Epoch [60/100], Training Loss: 0.6321, Training Acc: 0.9800, Validation Loss: 1.1593, Validation Acc: 0.5700\n",
      "Epoch 00060: reducing learning rate of group 0 to 4.8828e-08.\n",
      "Epoch [61/100], Training Loss: 0.6351, Training Acc: 0.9800, Validation Loss: 1.1563, Validation Acc: 0.5833\n",
      "Epoch [62/100], Training Loss: 0.6366, Training Acc: 0.9767, Validation Loss: 1.1606, Validation Acc: 0.6033\n",
      "Epoch [63/100], Training Loss: 0.6336, Training Acc: 0.9900, Validation Loss: 1.1631, Validation Acc: 0.5733\n",
      "Epoch [64/100], Training Loss: 0.6321, Training Acc: 0.9800, Validation Loss: 1.1650, Validation Acc: 0.5767\n",
      "Epoch [65/100], Training Loss: 0.6328, Training Acc: 0.9800, Validation Loss: 1.1486, Validation Acc: 0.5833\n",
      "Epoch [66/100], Training Loss: 0.6358, Training Acc: 0.9833, Validation Loss: 1.1699, Validation Acc: 0.5733\n",
      "Epoch 00066: reducing learning rate of group 0 to 2.4414e-08.\n",
      "Epoch [67/100], Training Loss: 0.6353, Training Acc: 0.9800, Validation Loss: 1.1515, Validation Acc: 0.5800\n",
      "Epoch [68/100], Training Loss: 0.6337, Training Acc: 0.9833, Validation Loss: 1.1527, Validation Acc: 0.5900\n",
      "Epoch [69/100], Training Loss: 0.6352, Training Acc: 0.9867, Validation Loss: 1.1669, Validation Acc: 0.5633\n",
      "Epoch [70/100], Training Loss: 0.6347, Training Acc: 0.9800, Validation Loss: 1.1399, Validation Acc: 0.5767\n",
      "Epoch [71/100], Training Loss: 0.6364, Training Acc: 0.9800, Validation Loss: 1.1631, Validation Acc: 0.5633\n",
      "Epoch [72/100], Training Loss: 0.6324, Training Acc: 0.9867, Validation Loss: 1.1634, Validation Acc: 0.5700\n",
      "Epoch 00072: reducing learning rate of group 0 to 1.2207e-08.\n",
      "Epoch [73/100], Training Loss: 0.6342, Training Acc: 0.9833, Validation Loss: 1.1502, Validation Acc: 0.5900\n",
      "Epoch [74/100], Training Loss: 0.6310, Training Acc: 0.9900, Validation Loss: 1.1523, Validation Acc: 0.5767\n",
      "Epoch [75/100], Training Loss: 0.6372, Training Acc: 0.9833, Validation Loss: 1.1580, Validation Acc: 0.5833\n",
      "Epoch [76/100], Training Loss: 0.6358, Training Acc: 0.9800, Validation Loss: 1.1544, Validation Acc: 0.5867\n",
      "Epoch [77/100], Training Loss: 0.6357, Training Acc: 0.9867, Validation Loss: 1.1573, Validation Acc: 0.5867\n",
      "Epoch [78/100], Training Loss: 0.6430, Training Acc: 0.9700, Validation Loss: 1.1647, Validation Acc: 0.5900\n",
      "Epoch [79/100], Training Loss: 0.6349, Training Acc: 0.9800, Validation Loss: 1.1633, Validation Acc: 0.5833\n",
      "Epoch [80/100], Training Loss: 0.6315, Training Acc: 0.9900, Validation Loss: 1.1628, Validation Acc: 0.5667\n",
      "Epoch [81/100], Training Loss: 0.6335, Training Acc: 0.9800, Validation Loss: 1.1704, Validation Acc: 0.5733\n",
      "Epoch [82/100], Training Loss: 0.6316, Training Acc: 0.9867, Validation Loss: 1.1598, Validation Acc: 0.5900\n",
      "Epoch [83/100], Training Loss: 0.6330, Training Acc: 0.9800, Validation Loss: 1.1541, Validation Acc: 0.5800\n",
      "Epoch [84/100], Training Loss: 0.6313, Training Acc: 0.9867, Validation Loss: 1.1671, Validation Acc: 0.5767\n",
      "Epoch [85/100], Training Loss: 0.6326, Training Acc: 0.9833, Validation Loss: 1.1574, Validation Acc: 0.6000\n",
      "Epoch [86/100], Training Loss: 0.6338, Training Acc: 0.9767, Validation Loss: 1.1550, Validation Acc: 0.5733\n",
      "Epoch [87/100], Training Loss: 0.6332, Training Acc: 0.9833, Validation Loss: 1.1632, Validation Acc: 0.5800\n",
      "Epoch [88/100], Training Loss: 0.6340, Training Acc: 0.9800, Validation Loss: 1.1667, Validation Acc: 0.5800\n",
      "Epoch [89/100], Training Loss: 0.6326, Training Acc: 0.9867, Validation Loss: 1.1594, Validation Acc: 0.5867\n",
      "Epoch [90/100], Training Loss: 0.6329, Training Acc: 0.9867, Validation Loss: 1.1667, Validation Acc: 0.5900\n",
      "Epoch [91/100], Training Loss: 0.6363, Training Acc: 0.9767, Validation Loss: 1.1504, Validation Acc: 0.5833\n",
      "Epoch [92/100], Training Loss: 0.6379, Training Acc: 0.9800, Validation Loss: 1.1706, Validation Acc: 0.5867\n",
      "Epoch [93/100], Training Loss: 0.6323, Training Acc: 0.9867, Validation Loss: 1.1408, Validation Acc: 0.5967\n",
      "Epoch [94/100], Training Loss: 0.6362, Training Acc: 0.9800, Validation Loss: 1.1478, Validation Acc: 0.5867\n",
      "Epoch [95/100], Training Loss: 0.6361, Training Acc: 0.9867, Validation Loss: 1.1564, Validation Acc: 0.5900\n",
      "Epoch [96/100], Training Loss: 0.6329, Training Acc: 0.9900, Validation Loss: 1.1525, Validation Acc: 0.5867\n",
      "Epoch [97/100], Training Loss: 0.6328, Training Acc: 0.9833, Validation Loss: 1.1601, Validation Acc: 0.5733\n",
      "Epoch [98/100], Training Loss: 0.6308, Training Acc: 0.9867, Validation Loss: 1.1487, Validation Acc: 0.5767\n",
      "Epoch [99/100], Training Loss: 0.6337, Training Acc: 0.9867, Validation Loss: 1.1573, Validation Acc: 0.5767\n",
      "Epoch [100/100], Training Loss: 0.6350, Training Acc: 0.9833, Validation Loss: 1.1642, Validation Acc: 0.5633\n"
     ]
    }
   ],
   "source": [
    "train_losses = []\n",
    "val_losses = []\n",
    "    \n",
    "# Initialize a list to store model results\n",
    "model_results = []\n",
    "print(\"Starting training...\")\n",
    "for epoch in range(num_epochs):\n",
    "    # Training\n",
    "    model.train()\n",
    "    train_loss = 0.0\n",
    "    train_preds = []\n",
    "    train_labels = []\n",
    "\n",
    "    for _, (images, _, labels) in enumerate(train_dataloader):\n",
    "        images = images.to(device)\n",
    "        labels = labels.to(device)\n",
    "\n",
    "        optimizer.zero_grad()\n",
    "        outputs = model(images)\n",
    "        \n",
    "        true_distributions = calculate_true_distributions(labels, device=device)\n",
    "        # true_distributions = labels\n",
    "\n",
    "        # loss = criterion(outputs, labels)\n",
    "        loss = criterion(outputs, true_distributions)\n",
    "\n",
    "        # log_model_dist = torch.nn.functional.log_softmax(outputs, dim=1)\n",
    "        # loss = kl_div_criterion(log_model_dist, true_distributions)\n",
    "\n",
    "        loss.backward()\n",
    "        optimizer.step()\n",
    "\n",
    "        train_loss += loss.item() * images.size(0)\n",
    "        _, preds = torch.max(outputs, 1)  # Get predicted labels\n",
    "        train_preds.extend(preds.cpu().numpy())  # Extend the list of predictions\n",
    "        train_labels.extend(labels.cpu().numpy())  # Extend the list of true labels\n",
    "    train_accuracy = accuracy_score(train_labels, train_preds)\n",
    "\n",
    "    # Validation\n",
    "    model.eval()\n",
    "    val_loss = 0.0\n",
    "    val_preds = []\n",
    "    val_labels = []\n",
    "\n",
    "    with torch.no_grad():\n",
    "        for _, (images, _, labels) in enumerate(val_dataloader):\n",
    "            images = images.to(device)\n",
    "            labels = labels.to(device)\n",
    "\n",
    "            true_distributions = calculate_true_distributions(labels=labels, device=device)\n",
    "            # true_distributions = labels\n",
    "            # CROSS-ENTROPY\n",
    "            outputs = model(images)\n",
    "            loss = criterion(outputs, true_distributions)\n",
    "\n",
    "            # log_model_dist = torch.nn.functional.log_softmax(outputs, dim=1)\n",
    "            # loss = kl_div_criterion(log_model_dist, true_distributions)\n",
    "\n",
    "            # loss = criterion(outputs, labels)\n",
    "            val_loss += loss.item() * images.size(0)\n",
    "            _, preds = torch.max(outputs, 1)  # Get predicted labels\n",
    "            val_preds.extend(preds.cpu().numpy())  # Extend the list of predictions\n",
    "            val_labels.extend(labels.cpu().numpy())  # Extend the list of true labels\n",
    "\n",
    "\n",
    "\n",
    "    val_accuracy = accuracy_score(val_labels, val_preds)\n",
    "    train_loss /= len(train_dataset)\n",
    "    val_loss /= len(val_dataset)\n",
    "    print(f'Epoch [{epoch+1}/{num_epochs}], Training Loss: {train_loss:.4f}, Training Acc: {train_accuracy:.4f}, Validation Loss: {val_loss:.4f}, Validation Acc: {val_accuracy:.4f}')\n",
    "    # Step the ReduceLROnPlateau scheduler with the validation loss\n",
    "    scheduler.step(val_loss)\n",
    "    # Calculate and store the losses\n",
    "    train_losses.append(train_loss)\n",
    "    val_losses.append(val_loss)\n",
    "    \n",
    "    \n",
    "    # Save the weights with the best validation loss\n",
    "    if val_loss < best_val_loss:\n",
    "        # Delete the previously saved best model\n",
    "        #if best_model_weights is not None:\n",
    "        #    os.remove(best_model_path)\n",
    "\n",
    "        # Update the best validation loss and save the new best model\n",
    "        best_val_loss = val_loss\n",
    "        best_model_weights = model.state_dict().copy()\n",
    "\n",
    "        # Get the current timestamp\n",
    "        timestamp = datetime.datetime.now().strftime(\"%Y%m%d_%H%M%S\")\n",
    "        last_folder = os.path.basename(train_dataset_root)\n",
    "        # Use the timestamp and transfer learning information as a name extension\n",
    "        model_name = f\"vit_model_{timestamp}_epoch_{epoch+1}of{num_epochs}_valLoss_{best_val_loss:.3f}_valAcc_{val_accuracy:.3f}_batchsize_{batch_size}_lr_{learning_rate:.1f}_{last_folder}.pth\"\n",
    "        best_model_path = os.path.join(results_path, model_name)\n",
    "        torch.save(best_model_weights, best_model_path)\n",
    "        \n",
    "        # After saving the best model\n",
    "        model_info = {\n",
    "            'model_name': model_name,\n",
    "            'validation_loss': val_loss,\n",
    "            'validation_accuracy': val_accuracy,\n",
    "            'batch_size': batch_size,\n",
    "            'learning_rate': learning_rate,\n",
    "            'epoch': epoch + 1\n",
    "        }\n",
    "        model_results.append(model_info)"
   ]
  },
  {
   "cell_type": "markdown",
   "id": "dda75b71",
   "metadata": {},
   "source": [
    "Save results"
   ]
  },
  {
   "cell_type": "code",
   "execution_count": 145,
   "id": "aae4b70d",
   "metadata": {},
   "outputs": [
    {
     "data": {
      "image/png": "[encoded data removed]",
      "text/plain": [
       "<Figure size 640x480 with 1 Axes>"
      ]
     },
     "metadata": {},
     "output_type": "display_data"
    }
   ],
   "source": [
    "# Extract the digit from the CSV file name\n",
    "digit = ''.join(filter(str.isdigit, train_csv_file))\n",
    "\n",
    "# Create a DataFrame from model_results\n",
    "results_df = pd.DataFrame(model_results)\n",
    "\n",
    "# Save the results as a CSV file\n",
    "results_csv_path = os.path.join(results_path, f'training_results_AIO{digit}.csv')\n",
    "results_df.to_csv(results_csv_path, index=False)\n",
    "\n",
    "\n",
    "# Save the Matplotlib figure with the same basename as the saved model\n",
    "figure_name =  f'Train_Val_Curve_AIO{digit}.png'\n",
    "figure_path = os.path.join(results_path, figure_name)\n",
    "# Plot the losses\n",
    "plt.plot(range(1, num_epochs + 1), train_losses, label='Training Loss')\n",
    "plt.plot(range(1, num_epochs + 1), val_losses, label='Validation Loss')\n",
    "plt.xlabel('Epoch')\n",
    "plt.ylabel('Loss')\n",
    "plt.title('Training and Validation Loss')\n",
    "plt.legend()\n",
    "plt.savefig(figure_path)\n",
    "plt.show()"
   ]
  }
 ],
 "metadata": {
  "kernelspec": {
   "display_name": "Python 3 (ipykernel)",
   "language": "python",
   "name": "python3"
  },
  "language_info": {
   "codemirror_mode": {
    "name": "ipython",
    "version": 3
   },
   "file_extension": ".py",
   "mimetype": "text/x-python",
   "name": "python",
   "nbconvert_exporter": "python",
   "pygments_lexer": "ipython3",
   "version": "3.11.4"
  }
 },
 "nbformat": 4,
 "nbformat_minor": 5
}
