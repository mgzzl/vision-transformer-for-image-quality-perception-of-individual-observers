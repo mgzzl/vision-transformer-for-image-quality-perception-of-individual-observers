{
 "cells": [
  {
   "cell_type": "markdown",
   "id": "8a688702",
   "metadata": {},
   "source": [
    "# 0. Setup"
   ]
  },
  {
   "cell_type": "code",
   "execution_count": 1,
   "id": "571d84b7",
   "metadata": {},
   "outputs": [
    {
     "name": "stdout",
     "output_type": "stream",
     "text": [
      "GPU 0: NVIDIA GeForce RTX 4090 (UUID: GPU-8e58684c-33e7-69fa-082f-8fae0e4c5077)\n",
      "GPU 1: NVIDIA GeForce RTX 4090 (UUID: GPU-82fefc93-382a-0b5a-fec6-f3b57cd9185f)\n"
     ]
    }
   ],
   "source": [
    "!nvidia-smi -L"
   ]
  },
  {
   "cell_type": "code",
   "execution_count": 1,
   "id": "3036095e",
   "metadata": {},
   "outputs": [],
   "source": [
    "import os\n",
    "import datetime\n",
    "import matplotlib.pyplot as plt\n",
    "import torch\n",
    "import torch.nn as nn\n",
    "import torch.optim as optim\n",
    "from torch.optim.lr_scheduler import ReduceLROnPlateau\n",
    "import torchvision.transforms as transforms\n",
    "from torch.utils.data import DataLoader\n",
    "from sklearn.metrics import accuracy_score\n",
    "from misc.helpers import calculate_true_distributions\n",
    "import numpy as np\n",
    "import pandas as pd\n",
    "\n",
    "\n",
    "from model.vit_for_small_dataset import ViT\n",
    "from utils.imageset_handler import ImageQualityDataset"
   ]
  },
  {
   "cell_type": "markdown",
   "id": "f28b2b95",
   "metadata": {},
   "source": [
    "# 1. Build Model"
   ]
  },
  {
   "cell_type": "markdown",
   "id": "71892202",
   "metadata": {},
   "source": [
    "### 1.1 Define Variables"
   ]
  },
  {
   "cell_type": "code",
   "execution_count": 2,
   "id": "5bfb894a",
   "metadata": {},
   "outputs": [],
   "source": [
    "image_size=256\n",
    "patch_size=16\n",
    "num_classes=5  # Number of classes for image quality levels\n",
    "dim=1024\n",
    "depth=6\n",
    "heads=16\n",
    "mlp_dim=2048\n",
    "emb_dropout=0.1\n",
    "\n",
    "\n",
    "pretrained_model_path = None\n",
    "# pretrained_model_path = 'results/weights/all_distored_imgs_1/vit_model_20230911_064440_epoch_148of150_valLoss_0.108_valAcc_0.953_batchsize_128_lr_0.0_allDistorted.pth'\n",
    "num_epochs = 100\n",
    "results_path = './results/weights/AIO0'\n",
    "os.makedirs(results_path, exist_ok=True)\n",
    "\n",
    "dataset_root = 'assets/Dataset/DS0'\n",
    "csv_file = 'assets/Dataset/Obs0.csv'"
   ]
  },
  {
   "cell_type": "markdown",
   "id": "cc12028a",
   "metadata": {},
   "source": [
    "### 1.2 Compile"
   ]
  },
  {
   "cell_type": "code",
   "execution_count": 18,
   "id": "b63f59b9",
   "metadata": {},
   "outputs": [
    {
     "name": "stdout",
     "output_type": "stream",
     "text": [
      "ViT(\n",
      "  (to_patch_embedding): SPT(\n",
      "    (to_patch_tokens): Sequential(\n",
      "      (0): Rearrange('b c (h p1) (w p2) -> b (h w) (p1 p2 c)', p1=16, p2=16)\n",
      "      (1): LayerNorm((3840,), eps=1e-05, elementwise_affine=True)\n",
      "      (2): Linear(in_features=3840, out_features=1024, bias=True)\n",
      "    )\n",
      "  )\n",
      "  (dropout): Dropout(p=0.1, inplace=False)\n",
      "  (transformer): Transformer(\n",
      "    (layers): ModuleList(\n",
      "      (0-5): 6 x ModuleList(\n",
      "        (0): PreNorm(\n",
      "          (norm): LayerNorm((1024,), eps=1e-05, elementwise_affine=True)\n",
      "          (fn): LSA(\n",
      "            (attend): Softmax(dim=-1)\n",
      "            (dropout): Dropout(p=0.0, inplace=False)\n",
      "            (to_qkv): Linear(in_features=1024, out_features=3072, bias=False)\n",
      "            (to_out): Sequential(\n",
      "              (0): Linear(in_features=1024, out_features=1024, bias=True)\n",
      "              (1): Dropout(p=0.0, inplace=False)\n",
      "            )\n",
      "          )\n",
      "        )\n",
      "        (1): PreNorm(\n",
      "          (norm): LayerNorm((1024,), eps=1e-05, elementwise_affine=True)\n",
      "          (fn): FeedForward(\n",
      "            (net): Sequential(\n",
      "              (0): Linear(in_features=1024, out_features=2048, bias=True)\n",
      "              (1): GELU(approximate='none')\n",
      "              (2): Dropout(p=0.0, inplace=False)\n",
      "              (3): Linear(in_features=2048, out_features=1024, bias=True)\n",
      "              (4): Dropout(p=0.0, inplace=False)\n",
      "            )\n",
      "          )\n",
      "        )\n",
      "      )\n",
      "    )\n",
      "  )\n",
      "  (to_latent): Identity()\n",
      "  (mlp_head): Sequential(\n",
      "    (0): LayerNorm((1024,), eps=1e-05, elementwise_affine=True)\n",
      "    (1): Linear(in_features=1024, out_features=5, bias=True)\n",
      "  )\n",
      ")\n"
     ]
    }
   ],
   "source": [
    "model = ViT(\n",
    "    image_size=image_size,\n",
    "    patch_size=patch_size,\n",
    "    num_classes=num_classes,\n",
    "    dim=dim,\n",
    "    depth=depth,\n",
    "    heads=heads,\n",
    "    mlp_dim=mlp_dim,\n",
    "    emb_dropout=emb_dropout\n",
    ")\n",
    "print(model)"
   ]
  },
  {
   "cell_type": "markdown",
   "id": "604df880",
   "metadata": {},
   "source": [
    "### 1.3 Load pretrained weights"
   ]
  },
  {
   "cell_type": "code",
   "execution_count": 19,
   "id": "81516f82",
   "metadata": {},
   "outputs": [
    {
     "name": "stdout",
     "output_type": "stream",
     "text": [
      "ViT(\n",
      "  (to_patch_embedding): SPT(\n",
      "    (to_patch_tokens): Sequential(\n",
      "      (0): Rearrange('b c (h p1) (w p2) -> b (h w) (p1 p2 c)', p1=16, p2=16)\n",
      "      (1): LayerNorm((3840,), eps=1e-05, elementwise_affine=True)\n",
      "      (2): Linear(in_features=3840, out_features=1024, bias=True)\n",
      "    )\n",
      "  )\n",
      "  (dropout): Dropout(p=0.1, inplace=False)\n",
      "  (transformer): Transformer(\n",
      "    (layers): ModuleList(\n",
      "      (0-5): 6 x ModuleList(\n",
      "        (0): PreNorm(\n",
      "          (norm): LayerNorm((1024,), eps=1e-05, elementwise_affine=True)\n",
      "          (fn): LSA(\n",
      "            (attend): Softmax(dim=-1)\n",
      "            (dropout): Dropout(p=0.0, inplace=False)\n",
      "            (to_qkv): Linear(in_features=1024, out_features=3072, bias=False)\n",
      "            (to_out): Sequential(\n",
      "              (0): Linear(in_features=1024, out_features=1024, bias=True)\n",
      "              (1): Dropout(p=0.0, inplace=False)\n",
      "            )\n",
      "          )\n",
      "        )\n",
      "        (1): PreNorm(\n",
      "          (norm): LayerNorm((1024,), eps=1e-05, elementwise_affine=True)\n",
      "          (fn): FeedForward(\n",
      "            (net): Sequential(\n",
      "              (0): Linear(in_features=1024, out_features=2048, bias=True)\n",
      "              (1): GELU(approximate='none')\n",
      "              (2): Dropout(p=0.0, inplace=False)\n",
      "              (3): Linear(in_features=2048, out_features=1024, bias=True)\n",
      "              (4): Dropout(p=0.0, inplace=False)\n",
      "            )\n",
      "          )\n",
      "        )\n",
      "      )\n",
      "    )\n",
      "  )\n",
      "  (to_latent): Identity()\n",
      "  (mlp_head): Sequential(\n",
      "    (0): LayerNorm((1024,), eps=1e-05, elementwise_affine=True)\n",
      "    (1): Linear(in_features=1024, out_features=5, bias=True)\n",
      "  )\n",
      ")\n"
     ]
    }
   ],
   "source": [
    "if pretrained_model_path:\n",
    "    model.load_state_dict(torch.load(pretrained_model_path))\n",
    "    print(model)"
   ]
  },
  {
   "cell_type": "markdown",
   "id": "de80426c",
   "metadata": {},
   "source": [
    "# 2 Load Dataset"
   ]
  },
  {
   "cell_type": "markdown",
   "id": "7cd353bf",
   "metadata": {},
   "source": [
    "### 2.1 Add Augmentation (Transformation)"
   ]
  },
  {
   "cell_type": "code",
   "execution_count": 2,
   "id": "c172fd9c",
   "metadata": {},
   "outputs": [],
   "source": [
    "transform = transforms.Compose([\n",
    "    transforms.RandomResizedCrop(256),\n",
    "    transforms.RandomHorizontalFlip(),\n",
    "    transforms.ToTensor(),\n",
    "    transforms.Normalize(mean=[0.485, 0.456, 0.406], std=[0.229, 0.224, 0.225])  # Normalize with ImageNet mean and std\n",
    "])"
   ]
  },
  {
   "cell_type": "markdown",
   "id": "becc15fa",
   "metadata": {},
   "source": [
    "### 2.2 Create Dataset"
   ]
  },
  {
   "cell_type": "code",
   "execution_count": 21,
   "id": "b91f950f",
   "metadata": {
    "scrolled": false
   },
   "outputs": [
    {
     "name": "stdout",
     "output_type": "stream",
     "text": [
      "Number of images in the dataset: 898\n"
     ]
    }
   ],
   "source": [
    "dataset = ImageQualityDataset(csv_file,dataset_root,transform=transform)"
   ]
  },
  {
   "cell_type": "markdown",
   "id": "ae9128a4",
   "metadata": {},
   "source": [
    "### 2.3 Split the dataset into training and validation sets"
   ]
  },
  {
   "cell_type": "code",
   "execution_count": 22,
   "id": "febe0d8c",
   "metadata": {},
   "outputs": [
    {
     "name": "stdout",
     "output_type": "stream",
     "text": [
      "Splitting Dataset..\n",
      "Number of Data to train: 718\n",
      "Number of Data to validate: 180\n"
     ]
    }
   ],
   "source": [
    "test_size = 0.2\n",
    "num_train = int(len(dataset)* (1-test_size))\n",
    "num_val = len(dataset) - num_train\n",
    "\n",
    "print('Splitting Dataset..')\n",
    "train_dataset, val_dataset = torch.utils.data.random_split(dataset, [num_train, num_val])\n",
    "\n",
    "print(f\"Number of Data to train: {num_train}\")\n",
    "print(f\"Number of Data to validate: {num_val}\")"
   ]
  },
  {
   "cell_type": "markdown",
   "id": "96485153",
   "metadata": {},
   "source": [
    "# 3. Train"
   ]
  },
  {
   "cell_type": "markdown",
   "id": "a040a46b",
   "metadata": {},
   "source": [
    "### 3.1 Define Training Parameters"
   ]
  },
  {
   "cell_type": "code",
   "execution_count": 23,
   "id": "8f882af4",
   "metadata": {},
   "outputs": [],
   "source": [
    "learning_rate = 5e-5\n",
    "batch_size = 128"
   ]
  },
  {
   "cell_type": "markdown",
   "id": "3f98fa91",
   "metadata": {},
   "source": [
    "### 3.2 Init Optimizer, loss function and dataloader"
   ]
  },
  {
   "cell_type": "code",
   "execution_count": 24,
   "id": "3aaf304e",
   "metadata": {},
   "outputs": [],
   "source": [
    "optimizer = optim.Adam(model.parameters(), lr=learning_rate)\n",
    "criterion = nn.CrossEntropyLoss()\n",
    "mse_criterion = nn.MSELoss()\n",
    "scheduler = ReduceLROnPlateau(optimizer, mode='min', factor=0.5, patience=5, verbose=True)"
   ]
  },
  {
   "cell_type": "code",
   "execution_count": 25,
   "id": "eb92b701",
   "metadata": {},
   "outputs": [],
   "source": [
    "train_dataloader = DataLoader(train_dataset, batch_size=batch_size, shuffle=True, num_workers=4)\n",
    "val_dataloader = DataLoader(val_dataset, batch_size=batch_size, shuffle=False, num_workers=4)"
   ]
  },
  {
   "cell_type": "markdown",
   "id": "9fda88fb",
   "metadata": {},
   "source": [
    "### 3.3 Train-Loop"
   ]
  },
  {
   "cell_type": "code",
   "execution_count": 26,
   "id": "3d03ad2c",
   "metadata": {},
   "outputs": [],
   "source": [
    "device = torch.device('cuda' if torch.cuda.is_available() else 'cpu')\n",
    "model.to(device)\n",
    "best_val_loss = float('inf')\n",
    "best_model_weights = None"
   ]
  },
  {
   "cell_type": "code",
   "execution_count": 27,
   "id": "a116623e",
   "metadata": {
    "scrolled": true
   },
   "outputs": [
    {
     "name": "stdout",
     "output_type": "stream",
     "text": [
      "Starting training...\n",
      "Epoch [1/100], Training Loss: 6.0586, Training Acc: 0.4345, Validation Loss: 4.6085, Validation Acc: 0.3778\n",
      "Epoch [2/100], Training Loss: 3.3078, Training Acc: 0.4791, Validation Loss: 2.2978, Validation Acc: 0.4222\n",
      "Epoch [3/100], Training Loss: 1.8998, Training Acc: 0.5195, Validation Loss: 1.5026, Validation Acc: 0.5222\n",
      "Epoch [4/100], Training Loss: 1.4238, Training Acc: 0.5084, Validation Loss: 1.1974, Validation Acc: 0.4778\n",
      "Epoch [5/100], Training Loss: 1.1939, Training Acc: 0.5000, Validation Loss: 1.0651, Validation Acc: 0.5000\n",
      "Epoch [6/100], Training Loss: 1.0222, Training Acc: 0.5446, Validation Loss: 0.9540, Validation Acc: 0.6000\n",
      "Epoch [7/100], Training Loss: 0.9709, Training Acc: 0.5724, Validation Loss: 0.9606, Validation Acc: 0.6000\n",
      "Epoch [8/100], Training Loss: 0.9524, Training Acc: 0.5738, Validation Loss: 0.9470, Validation Acc: 0.5667\n",
      "Epoch [9/100], Training Loss: 0.9304, Training Acc: 0.5780, Validation Loss: 0.9453, Validation Acc: 0.5889\n",
      "Epoch [10/100], Training Loss: 0.9015, Training Acc: 0.6017, Validation Loss: 0.9169, Validation Acc: 0.6056\n",
      "Epoch [11/100], Training Loss: 0.8992, Training Acc: 0.5864, Validation Loss: 0.9295, Validation Acc: 0.5667\n",
      "Epoch [12/100], Training Loss: 0.8740, Training Acc: 0.5947, Validation Loss: 0.9094, Validation Acc: 0.5722\n",
      "Epoch [13/100], Training Loss: 0.8660, Training Acc: 0.6058, Validation Loss: 0.9100, Validation Acc: 0.6111\n",
      "Epoch [14/100], Training Loss: 0.8430, Training Acc: 0.6100, Validation Loss: 0.8797, Validation Acc: 0.6056\n",
      "Epoch [15/100], Training Loss: 0.8510, Training Acc: 0.6267, Validation Loss: 0.8904, Validation Acc: 0.6111\n",
      "Epoch [16/100], Training Loss: 0.8397, Training Acc: 0.6240, Validation Loss: 0.8949, Validation Acc: 0.5722\n",
      "Epoch [17/100], Training Loss: 0.8075, Training Acc: 0.6351, Validation Loss: 0.9082, Validation Acc: 0.6167\n",
      "Epoch [18/100], Training Loss: 0.8015, Training Acc: 0.6504, Validation Loss: 0.8993, Validation Acc: 0.6056\n",
      "Epoch [19/100], Training Loss: 0.8139, Training Acc: 0.6462, Validation Loss: 0.8754, Validation Acc: 0.6222\n",
      "Epoch [20/100], Training Loss: 0.7841, Training Acc: 0.6462, Validation Loss: 0.9271, Validation Acc: 0.5611\n",
      "Epoch [21/100], Training Loss: 0.7706, Training Acc: 0.6713, Validation Loss: 0.9315, Validation Acc: 0.5722\n",
      "Epoch [22/100], Training Loss: 0.7630, Training Acc: 0.6755, Validation Loss: 0.8944, Validation Acc: 0.6056\n",
      "Epoch [23/100], Training Loss: 0.7558, Training Acc: 0.6783, Validation Loss: 0.9164, Validation Acc: 0.5611\n",
      "Epoch [24/100], Training Loss: 0.7153, Training Acc: 0.6950, Validation Loss: 0.9267, Validation Acc: 0.6111\n",
      "Epoch [25/100], Training Loss: 0.7255, Training Acc: 0.6741, Validation Loss: 0.8900, Validation Acc: 0.6056\n",
      "Epoch 00025: reducing learning rate of group 0 to 2.5000e-05.\n",
      "Epoch [26/100], Training Loss: 0.6931, Training Acc: 0.7019, Validation Loss: 0.8734, Validation Acc: 0.6222\n",
      "Epoch [27/100], Training Loss: 0.6963, Training Acc: 0.7019, Validation Loss: 0.9376, Validation Acc: 0.6056\n",
      "Epoch [28/100], Training Loss: 0.7040, Training Acc: 0.7103, Validation Loss: 0.9169, Validation Acc: 0.6222\n",
      "Epoch [29/100], Training Loss: 0.6806, Training Acc: 0.7117, Validation Loss: 0.9437, Validation Acc: 0.5833\n",
      "Epoch [30/100], Training Loss: 0.6882, Training Acc: 0.7061, Validation Loss: 0.9270, Validation Acc: 0.5667\n",
      "Epoch [31/100], Training Loss: 0.6895, Training Acc: 0.7047, Validation Loss: 0.8628, Validation Acc: 0.5944\n",
      "Epoch [32/100], Training Loss: 0.6337, Training Acc: 0.7312, Validation Loss: 0.9191, Validation Acc: 0.5778\n",
      "Epoch [33/100], Training Loss: 0.6625, Training Acc: 0.7354, Validation Loss: 0.9624, Validation Acc: 0.5667\n",
      "Epoch [34/100], Training Loss: 0.6526, Training Acc: 0.7187, Validation Loss: 0.9918, Validation Acc: 0.5722\n",
      "Epoch [35/100], Training Loss: 0.6618, Training Acc: 0.7312, Validation Loss: 0.9404, Validation Acc: 0.5889\n",
      "Epoch [36/100], Training Loss: 0.6389, Training Acc: 0.7340, Validation Loss: 0.9772, Validation Acc: 0.6111\n",
      "Epoch [37/100], Training Loss: 0.6397, Training Acc: 0.7256, Validation Loss: 0.9687, Validation Acc: 0.5944\n",
      "Epoch 00037: reducing learning rate of group 0 to 1.2500e-05.\n",
      "Epoch [38/100], Training Loss: 0.5957, Training Acc: 0.7535, Validation Loss: 0.9540, Validation Acc: 0.5500\n",
      "Epoch [39/100], Training Loss: 0.6288, Training Acc: 0.7563, Validation Loss: 0.9667, Validation Acc: 0.5222\n",
      "Epoch [40/100], Training Loss: 0.6006, Training Acc: 0.7493, Validation Loss: 0.9166, Validation Acc: 0.6056\n",
      "Epoch [41/100], Training Loss: 0.5757, Training Acc: 0.7702, Validation Loss: 0.9388, Validation Acc: 0.5667\n",
      "Epoch [42/100], Training Loss: 0.5853, Training Acc: 0.7688, Validation Loss: 0.8986, Validation Acc: 0.6167\n",
      "Epoch [43/100], Training Loss: 0.5896, Training Acc: 0.7702, Validation Loss: 1.0220, Validation Acc: 0.5833\n",
      "Epoch 00043: reducing learning rate of group 0 to 6.2500e-06.\n",
      "Epoch [44/100], Training Loss: 0.5757, Training Acc: 0.7604, Validation Loss: 0.8964, Validation Acc: 0.6056\n",
      "Epoch [45/100], Training Loss: 0.5908, Training Acc: 0.7451, Validation Loss: 1.0151, Validation Acc: 0.5444\n",
      "Epoch [46/100], Training Loss: 0.5754, Training Acc: 0.7507, Validation Loss: 1.0509, Validation Acc: 0.5389\n",
      "Epoch [47/100], Training Loss: 0.5803, Training Acc: 0.7660, Validation Loss: 0.9592, Validation Acc: 0.5778\n",
      "Epoch [48/100], Training Loss: 0.6010, Training Acc: 0.7354, Validation Loss: 1.0344, Validation Acc: 0.5444\n",
      "Epoch [49/100], Training Loss: 0.5580, Training Acc: 0.7549, Validation Loss: 0.9752, Validation Acc: 0.5611\n",
      "Epoch 00049: reducing learning rate of group 0 to 3.1250e-06.\n",
      "Epoch [50/100], Training Loss: 0.5734, Training Acc: 0.7702, Validation Loss: 0.9495, Validation Acc: 0.5500\n",
      "Epoch [51/100], Training Loss: 0.5722, Training Acc: 0.7758, Validation Loss: 0.9706, Validation Acc: 0.5944\n",
      "Epoch [52/100], Training Loss: 0.5984, Training Acc: 0.7507, Validation Loss: 0.9848, Validation Acc: 0.5611\n",
      "Epoch [53/100], Training Loss: 0.5667, Training Acc: 0.7688, Validation Loss: 0.9995, Validation Acc: 0.5500\n",
      "Epoch [54/100], Training Loss: 0.5377, Training Acc: 0.7967, Validation Loss: 0.9988, Validation Acc: 0.5833\n",
      "Epoch [55/100], Training Loss: 0.5719, Training Acc: 0.7493, Validation Loss: 1.0435, Validation Acc: 0.5722\n",
      "Epoch 00055: reducing learning rate of group 0 to 1.5625e-06.\n",
      "Epoch [56/100], Training Loss: 0.5695, Training Acc: 0.7437, Validation Loss: 0.9403, Validation Acc: 0.5611\n",
      "Epoch [57/100], Training Loss: 0.5627, Training Acc: 0.7730, Validation Loss: 0.9812, Validation Acc: 0.5778\n",
      "Epoch [58/100], Training Loss: 0.5384, Training Acc: 0.7758, Validation Loss: 1.0310, Validation Acc: 0.5556\n",
      "Epoch [59/100], Training Loss: 0.5324, Training Acc: 0.7758, Validation Loss: 1.0524, Validation Acc: 0.5111\n",
      "Epoch [60/100], Training Loss: 0.5653, Training Acc: 0.7618, Validation Loss: 0.9941, Validation Acc: 0.5444\n",
      "Epoch [61/100], Training Loss: 0.5584, Training Acc: 0.7702, Validation Loss: 1.0205, Validation Acc: 0.5278\n",
      "Epoch 00061: reducing learning rate of group 0 to 7.8125e-07.\n",
      "Epoch [62/100], Training Loss: 0.5680, Training Acc: 0.7660, Validation Loss: 1.0208, Validation Acc: 0.5611\n",
      "Epoch [63/100], Training Loss: 0.5706, Training Acc: 0.7799, Validation Loss: 0.9560, Validation Acc: 0.6056\n",
      "Epoch [64/100], Training Loss: 0.5731, Training Acc: 0.7688, Validation Loss: 0.9667, Validation Acc: 0.5444\n",
      "Epoch [65/100], Training Loss: 0.5773, Training Acc: 0.7507, Validation Loss: 0.9230, Validation Acc: 0.5500\n",
      "Epoch [66/100], Training Loss: 0.5643, Training Acc: 0.7772, Validation Loss: 0.9963, Validation Acc: 0.5833\n",
      "Epoch [67/100], Training Loss: 0.5944, Training Acc: 0.7604, Validation Loss: 0.9847, Validation Acc: 0.5333\n",
      "Epoch 00067: reducing learning rate of group 0 to 3.9063e-07.\n",
      "Epoch [68/100], Training Loss: 0.5550, Training Acc: 0.7744, Validation Loss: 1.0302, Validation Acc: 0.5278\n",
      "Epoch [69/100], Training Loss: 0.5312, Training Acc: 0.7869, Validation Loss: 1.0018, Validation Acc: 0.5556\n",
      "Epoch [70/100], Training Loss: 0.5512, Training Acc: 0.7744, Validation Loss: 1.0046, Validation Acc: 0.5944\n",
      "Epoch [71/100], Training Loss: 0.5761, Training Acc: 0.7577, Validation Loss: 1.0010, Validation Acc: 0.5444\n",
      "Epoch [72/100], Training Loss: 0.5549, Training Acc: 0.7744, Validation Loss: 0.9628, Validation Acc: 0.6000\n",
      "Epoch [73/100], Training Loss: 0.5736, Training Acc: 0.7674, Validation Loss: 0.9962, Validation Acc: 0.5944\n",
      "Epoch 00073: reducing learning rate of group 0 to 1.9531e-07.\n",
      "Epoch [74/100], Training Loss: 0.5836, Training Acc: 0.7521, Validation Loss: 0.9708, Validation Acc: 0.5778\n",
      "Epoch [75/100], Training Loss: 0.5370, Training Acc: 0.7813, Validation Loss: 0.9820, Validation Acc: 0.5500\n",
      "Epoch [76/100], Training Loss: 0.5810, Training Acc: 0.7535, Validation Loss: 0.9443, Validation Acc: 0.5611\n",
      "Epoch [77/100], Training Loss: 0.5511, Training Acc: 0.7730, Validation Loss: 0.9415, Validation Acc: 0.5833\n",
      "Epoch [78/100], Training Loss: 0.5376, Training Acc: 0.7911, Validation Loss: 1.0689, Validation Acc: 0.5444\n",
      "Epoch [79/100], Training Loss: 0.5481, Training Acc: 0.7799, Validation Loss: 0.9051, Validation Acc: 0.6056\n",
      "Epoch 00079: reducing learning rate of group 0 to 9.7656e-08.\n",
      "Epoch [80/100], Training Loss: 0.5785, Training Acc: 0.7632, Validation Loss: 0.9831, Validation Acc: 0.5278\n",
      "Epoch [81/100], Training Loss: 0.5680, Training Acc: 0.7507, Validation Loss: 1.0306, Validation Acc: 0.5444\n",
      "Epoch [82/100], Training Loss: 0.5727, Training Acc: 0.7521, Validation Loss: 1.0304, Validation Acc: 0.5556\n",
      "Epoch [83/100], Training Loss: 0.5372, Training Acc: 0.7758, Validation Loss: 0.9627, Validation Acc: 0.5611\n",
      "Epoch [84/100], Training Loss: 0.5444, Training Acc: 0.7786, Validation Loss: 0.9767, Validation Acc: 0.5778\n",
      "Epoch [85/100], Training Loss: 0.5797, Training Acc: 0.7591, Validation Loss: 1.0347, Validation Acc: 0.5833\n",
      "Epoch 00085: reducing learning rate of group 0 to 4.8828e-08.\n",
      "Epoch [86/100], Training Loss: 0.5324, Training Acc: 0.8050, Validation Loss: 0.9572, Validation Acc: 0.5722\n",
      "Epoch [87/100], Training Loss: 0.5681, Training Acc: 0.7730, Validation Loss: 0.9608, Validation Acc: 0.5889\n",
      "Epoch [88/100], Training Loss: 0.5482, Training Acc: 0.7827, Validation Loss: 0.9892, Validation Acc: 0.5722\n",
      "Epoch [89/100], Training Loss: 0.5585, Training Acc: 0.7869, Validation Loss: 1.0468, Validation Acc: 0.5167\n",
      "Epoch [90/100], Training Loss: 0.5688, Training Acc: 0.7758, Validation Loss: 0.9793, Validation Acc: 0.6056\n",
      "Epoch [91/100], Training Loss: 0.5617, Training Acc: 0.7744, Validation Loss: 1.0677, Validation Acc: 0.5111\n",
      "Epoch 00091: reducing learning rate of group 0 to 2.4414e-08.\n",
      "Epoch [92/100], Training Loss: 0.5597, Training Acc: 0.7953, Validation Loss: 1.0242, Validation Acc: 0.5556\n",
      "Epoch [93/100], Training Loss: 0.5622, Training Acc: 0.7799, Validation Loss: 0.9748, Validation Acc: 0.5778\n",
      "Epoch [94/100], Training Loss: 0.5605, Training Acc: 0.7716, Validation Loss: 0.9486, Validation Acc: 0.5667\n",
      "Epoch [95/100], Training Loss: 0.5657, Training Acc: 0.7688, Validation Loss: 0.9647, Validation Acc: 0.5722\n",
      "Epoch [96/100], Training Loss: 0.5487, Training Acc: 0.7702, Validation Loss: 0.9392, Validation Acc: 0.5667\n",
      "Epoch [97/100], Training Loss: 0.5718, Training Acc: 0.7702, Validation Loss: 0.9992, Validation Acc: 0.5444\n",
      "Epoch 00097: reducing learning rate of group 0 to 1.2207e-08.\n",
      "Epoch [98/100], Training Loss: 0.5329, Training Acc: 0.7953, Validation Loss: 0.9535, Validation Acc: 0.5778\n",
      "Epoch [99/100], Training Loss: 0.5753, Training Acc: 0.7577, Validation Loss: 0.9656, Validation Acc: 0.5722\n",
      "Epoch [100/100], Training Loss: 0.5381, Training Acc: 0.7813, Validation Loss: 0.9512, Validation Acc: 0.5833\n"
     ]
    }
   ],
   "source": [
    "train_losses = []\n",
    "val_losses = []\n",
    "    \n",
    "# Initialize a list to store model results\n",
    "model_results = []\n",
    "print(\"Starting training...\")\n",
    "for epoch in range(num_epochs):\n",
    "    # Training\n",
    "    model.train()\n",
    "    train_loss = 0.0\n",
    "    train_preds = []\n",
    "    train_labels = []\n",
    "\n",
    "    for _, (images, labels) in enumerate(train_dataloader):\n",
    "        images = images.to(device)\n",
    "        labels = labels.to(device)\n",
    "\n",
    "        optimizer.zero_grad()\n",
    "        outputs = model(images)\n",
    "\n",
    "        loss = criterion(outputs, labels)\n",
    "        loss.backward()\n",
    "        optimizer.step()\n",
    "\n",
    "        train_loss += loss.item() * images.size(0)\n",
    "        _, preds = torch.max(outputs, 1)  # Get predicted labels\n",
    "        train_preds.extend(preds.cpu().numpy())  # Extend the list of predictions\n",
    "        train_labels.extend(labels.cpu().numpy())  # Extend the list of true labels\n",
    "    train_accuracy = accuracy_score(train_labels, train_preds)\n",
    "\n",
    "    # Validation\n",
    "    model.eval()\n",
    "    val_loss = 0.0\n",
    "    val_preds = []\n",
    "    val_labels = []\n",
    "\n",
    "    with torch.no_grad():\n",
    "        for _, (images, labels) in enumerate(val_dataloader):\n",
    "            images = images.to(device)\n",
    "            labels = labels.to(device)\n",
    "            \n",
    "            # CROSS-ENTROPY\n",
    "            outputs = model(images)\n",
    "            loss = criterion(outputs, labels)\n",
    "            val_loss += loss.item() * images.size(0)\n",
    "            _, preds = torch.max(outputs, 1)  # Get predicted labels\n",
    "            val_preds.extend(preds.cpu().numpy())  # Extend the list of predictions\n",
    "            val_labels.extend(labels.cpu().numpy())  # Extend the list of true labels\n",
    "\n",
    "\n",
    "\n",
    "    val_accuracy = accuracy_score(val_labels, val_preds)\n",
    "    train_loss /= len(train_dataset)\n",
    "    val_loss /= len(val_dataset)\n",
    "    print(f'Epoch [{epoch+1}/{num_epochs}], Training Loss: {train_loss:.4f}, Training Acc: {train_accuracy:.4f}, Validation Loss: {val_loss:.4f}, Validation Acc: {val_accuracy:.4f}')\n",
    "    # Step the ReduceLROnPlateau scheduler with the validation loss\n",
    "    scheduler.step(val_loss)\n",
    "    # Calculate and store the losses\n",
    "    train_losses.append(train_loss)\n",
    "    val_losses.append(val_loss)\n",
    "    \n",
    "    \n",
    "    # Save the weights with the best validation loss\n",
    "    if val_loss < best_val_loss:\n",
    "        # Delete the previously saved best model\n",
    "        #if best_model_weights is not None:\n",
    "        #    os.remove(best_model_path)\n",
    "\n",
    "        # Update the best validation loss and save the new best model\n",
    "        best_val_loss = val_loss\n",
    "        best_model_weights = model.state_dict().copy()\n",
    "\n",
    "        # Get the current timestamp\n",
    "        timestamp = datetime.datetime.now().strftime(\"%Y%m%d_%H%M%S\")\n",
    "        last_folder = os.path.basename(dataset_root)\n",
    "        # Use the timestamp and transfer learning information as a name extension\n",
    "        model_name = f\"vit_model_{timestamp}_epoch_{epoch+1}of{num_epochs}_valLoss_{best_val_loss:.3f}_valAcc_{val_accuracy:.3f}_batchsize_{batch_size}_lr_{learning_rate:.1f}_{last_folder}.pth\"\n",
    "        best_model_path = os.path.join(results_path, model_name)\n",
    "        torch.save(best_model_weights, best_model_path)\n",
    "        \n",
    "        # After saving the best model\n",
    "        model_info = {\n",
    "            'model_name': model_name,\n",
    "            'validation_loss': val_loss,\n",
    "            'validation_accuracy': val_accuracy,\n",
    "            'batch_size': batch_size,\n",
    "            'learning_rate': learning_rate,\n",
    "            'epoch': epoch + 1\n",
    "        }\n",
    "        model_results.append(model_info)"
   ]
  },
  {
   "cell_type": "markdown",
   "id": "7c2b915e",
   "metadata": {},
   "source": [
    "Save results"
   ]
  },
  {
   "cell_type": "code",
   "execution_count": 28,
   "id": "b69c2f26",
   "metadata": {},
   "outputs": [
    {
     "data": {
      "image/png": "[encoded data removed]",
      "text/plain": [
       "<Figure size 640x480 with 1 Axes>"
      ]
     },
     "metadata": {},
     "output_type": "display_data"
    }
   ],
   "source": [
    "# Create a DataFrame from model_results\n",
    "results_df = pd.DataFrame(model_results)\n",
    "\n",
    "# Save the results as a CSV file\n",
    "results_csv_path = os.path.join(results_path, f'model_results_{last_folder}.csv')\n",
    "results_df.to_csv(results_csv_path, index=False)\n",
    "\n",
    "# Save the Matplotlib figure with the same basename as the saved model\n",
    "figure_name =  f'Train_Val_Curve_{last_folder}.png'\n",
    "figure_path = os.path.join(results_path, figure_name)\n",
    "# Plot the losses\n",
    "plt.plot(range(1, num_epochs + 1), train_losses, label='Training Loss')\n",
    "plt.plot(range(1, num_epochs + 1), val_losses, label='Validation Loss')\n",
    "plt.xlabel('Epoch')\n",
    "plt.ylabel('Loss')\n",
    "plt.title('Training and Validation Loss')\n",
    "plt.legend()\n",
    "plt.savefig(figure_path)\n",
    "plt.show()"
   ]
  },
  {
   "cell_type": "markdown",
   "id": "3b21fe32",
   "metadata": {},
   "source": [
    "# 4 Train Persons AIO"
   ]
  },
  {
   "cell_type": "markdown",
   "id": "43ebb8c5",
   "metadata": {},
   "source": [
    "### 4.1 Define Model, Dataset and Parameters"
   ]
  },
  {
   "cell_type": "code",
   "execution_count": 2,
   "id": "6873d8c7",
   "metadata": {},
   "outputs": [],
   "source": [
    "image_size=256\n",
    "patch_size=16\n",
    "num_classes=5  # Number of classes for image quality levels\n",
    "dim=1024\n",
    "depth=6\n",
    "heads=16\n",
    "mlp_dim=2048\n",
    "emb_dropout=0.1\n",
    "\n",
    "# Variance\n",
    "sigma = 0.4\n",
    "\n",
    "# pretrained_model_path = None\n",
    "# pretrained_model_path = 'results/weights/AIO0/vit_model_20230911_064440_epoch_148of150_valLoss_0.108_valAcc_0.953_batchsize_128_lr_0.0_allDistorted.pth'\n",
    "pretrained_model_path = 'results/weights/Cross-Entropy_3_Iter_no_var/AIO1/AIO1_2/vit_model_20231106_164304_epoch_13of50_valLoss_0.904_valAcc_0.677_batchsize_128_lr_0.0_DS1.pth'\n",
    "num_epochs = 50\n",
    "results_path = 'results/weights/Cross-Entropy_3_Iter_no_var/AIO1/AIO1_3_test'\n",
    "os.makedirs(results_path, exist_ok=True)\n",
    "\n",
    "train_dataset_root  = 'assets/Dataset/DS1'\n",
    "val_dataset_root  = 'assets/Test/DSX'\n",
    "train_csv_file = 'assets/DS_iterative/Obs1/Obs1_3.csv'\n",
    "val_csv_file = 'assets/Test/Obs1.csv'"
   ]
  },
  {
   "cell_type": "code",
   "execution_count": 3,
   "id": "ed0b4bfe",
   "metadata": {},
   "outputs": [],
   "source": [
    "learning_rate = 2.5e-5\n",
    "batch_size = 128"
   ]
  },
  {
   "cell_type": "code",
   "execution_count": 4,
   "id": "2c7819c8",
   "metadata": {},
   "outputs": [],
   "source": [
    "transform = transforms.Compose([\n",
    "    transforms.Resize(256),\n",
    "    transforms.CenterCrop(256),\n",
    "    transforms.RandomHorizontalFlip(),\n",
    "    transforms.ToTensor(),\n",
    "    transforms.Normalize(mean=[0.485, 0.456, 0.406], std=[0.229, 0.224, 0.225])  # Normalize with ImageNet mean and std\n",
    "])"
   ]
  },
  {
   "cell_type": "code",
   "execution_count": 5,
   "id": "a22ca582",
   "metadata": {},
   "outputs": [
    {
     "name": "stdout",
     "output_type": "stream",
     "text": [
      "Number of images in class 0: 29\n",
      "Number of images in class 1: 88\n",
      "Number of images in class 2: 150\n",
      "Number of images in class 3: 26\n",
      "Number of images in class 4: 7\n",
      "\n",
      "Number of images in the dataset: 300\n",
      "Number of images in class 0: 27\n",
      "Number of images in class 1: 58\n",
      "Number of images in class 2: 156\n",
      "Number of images in class 3: 51\n",
      "Number of images in class 4: 8\n",
      "\n",
      "Number of images in the dataset: 300\n"
     ]
    }
   ],
   "source": [
    "model = ViT(\n",
    "    image_size=image_size,\n",
    "    patch_size=patch_size,\n",
    "    num_classes=num_classes,\n",
    "    dim=dim,\n",
    "    depth=depth,\n",
    "    heads=heads,\n",
    "    mlp_dim=mlp_dim,\n",
    "    emb_dropout=emb_dropout\n",
    ")\n",
    "if pretrained_model_path is not None:\n",
    "    model.load_state_dict(torch.load(pretrained_model_path))\n",
    "\n",
    "train_dataset = ImageQualityDataset(train_csv_file,train_dataset_root, transform=transform)\n",
    "val_dataset = ImageQualityDataset(val_csv_file,val_dataset_root, transform=transform)"
   ]
  },
  {
   "cell_type": "code",
   "execution_count": 6,
   "id": "f89ec170",
   "metadata": {},
   "outputs": [],
   "source": [
    "optimizer = optim.Adam(model.parameters(), lr=learning_rate)\n",
    "criterion = nn.CrossEntropyLoss()\n",
    "mse_criterion = nn.MSELoss()\n",
    "scheduler = ReduceLROnPlateau(optimizer, mode='min', factor=0.5, patience=5, verbose=True)\n",
    "\n",
    "# KL-Divergence\n",
    "kl_div_criterion = nn.KLDivLoss(reduction='batchmean')"
   ]
  },
  {
   "cell_type": "code",
   "execution_count": 7,
   "id": "8af9bbdc",
   "metadata": {},
   "outputs": [],
   "source": [
    "train_dataloader = DataLoader(train_dataset, batch_size=batch_size, shuffle=True, num_workers=4)\n",
    "val_dataloader = DataLoader(val_dataset, batch_size=batch_size, shuffle=False, num_workers=4)"
   ]
  },
  {
   "cell_type": "code",
   "execution_count": 8,
   "id": "e3bb969a",
   "metadata": {},
   "outputs": [],
   "source": [
    "device = torch.device('cuda' if torch.cuda.is_available() else 'cpu')\n",
    "model.to(device)\n",
    "best_val_loss = float('inf')\n",
    "best_model_weights = None"
   ]
  },
  {
   "cell_type": "markdown",
   "id": "da52a548",
   "metadata": {},
   "source": [
    "### 4.2 Train AIO"
   ]
  },
  {
   "cell_type": "code",
   "execution_count": 9,
   "id": "bec19f5e",
   "metadata": {},
   "outputs": [
    {
     "name": "stdout",
     "output_type": "stream",
     "text": [
      "Starting training...\n",
      "Epoch [1/50], Training Loss: 0.6550, Training Acc: 0.7233, Validation Loss: 0.7780, Validation Acc: 0.6300\n",
      "Epoch [2/50], Training Loss: 0.5074, Training Acc: 0.7800, Validation Loss: 0.7782, Validation Acc: 0.6433\n",
      "Epoch [3/50], Training Loss: 0.4262, Training Acc: 0.8033, Validation Loss: 0.7838, Validation Acc: 0.6333\n",
      "Epoch [4/50], Training Loss: 0.3836, Training Acc: 0.8233, Validation Loss: 0.7721, Validation Acc: 0.6367\n",
      "Epoch [5/50], Training Loss: 0.3280, Training Acc: 0.8600, Validation Loss: 0.7504, Validation Acc: 0.6433\n",
      "Epoch [6/50], Training Loss: 0.3048, Training Acc: 0.8567, Validation Loss: 0.7177, Validation Acc: 0.6400\n",
      "Epoch [7/50], Training Loss: 0.2689, Training Acc: 0.8867, Validation Loss: 0.7097, Validation Acc: 0.6500\n",
      "Epoch [8/50], Training Loss: 0.2494, Training Acc: 0.9067, Validation Loss: 0.7065, Validation Acc: 0.6700\n",
      "Epoch [9/50], Training Loss: 0.2269, Training Acc: 0.9233, Validation Loss: 0.7310, Validation Acc: 0.6400\n",
      "Epoch [10/50], Training Loss: 0.2123, Training Acc: 0.9200, Validation Loss: 0.7441, Validation Acc: 0.6500\n",
      "Epoch [11/50], Training Loss: 0.1945, Training Acc: 0.9333, Validation Loss: 0.7461, Validation Acc: 0.6400\n",
      "Epoch [12/50], Training Loss: 0.1750, Training Acc: 0.9367, Validation Loss: 0.7740, Validation Acc: 0.6367\n",
      "Epoch [13/50], Training Loss: 0.1579, Training Acc: 0.9433, Validation Loss: 0.7703, Validation Acc: 0.6433\n",
      "Epoch [14/50], Training Loss: 0.1457, Training Acc: 0.9633, Validation Loss: 0.7823, Validation Acc: 0.6500\n",
      "Epoch 00014: reducing learning rate of group 0 to 1.2500e-05.\n",
      "Epoch [15/50], Training Loss: 0.1360, Training Acc: 0.9600, Validation Loss: 0.7657, Validation Acc: 0.6667\n",
      "Epoch [16/50], Training Loss: 0.1275, Training Acc: 0.9700, Validation Loss: 0.7676, Validation Acc: 0.6667\n",
      "Epoch [17/50], Training Loss: 0.1218, Training Acc: 0.9733, Validation Loss: 0.7863, Validation Acc: 0.6433\n",
      "Epoch [18/50], Training Loss: 0.1181, Training Acc: 0.9667, Validation Loss: 0.7993, Validation Acc: 0.6400\n",
      "Epoch [19/50], Training Loss: 0.1127, Training Acc: 0.9733, Validation Loss: 0.8035, Validation Acc: 0.6400\n",
      "Epoch [20/50], Training Loss: 0.1059, Training Acc: 0.9767, Validation Loss: 0.8099, Validation Acc: 0.6433\n",
      "Epoch 00020: reducing learning rate of group 0 to 6.2500e-06.\n",
      "Epoch [21/50], Training Loss: 0.1032, Training Acc: 0.9700, Validation Loss: 0.8067, Validation Acc: 0.6533\n",
      "Epoch [22/50], Training Loss: 0.1060, Training Acc: 0.9800, Validation Loss: 0.8103, Validation Acc: 0.6533\n",
      "Epoch [23/50], Training Loss: 0.0987, Training Acc: 0.9800, Validation Loss: 0.8275, Validation Acc: 0.6500\n",
      "Epoch [24/50], Training Loss: 0.0995, Training Acc: 0.9833, Validation Loss: 0.7947, Validation Acc: 0.6433\n",
      "Epoch [25/50], Training Loss: 0.0955, Training Acc: 0.9800, Validation Loss: 0.7957, Validation Acc: 0.6600\n",
      "Epoch [26/50], Training Loss: 0.0938, Training Acc: 0.9767, Validation Loss: 0.8147, Validation Acc: 0.6500\n",
      "Epoch 00026: reducing learning rate of group 0 to 3.1250e-06.\n",
      "Epoch [27/50], Training Loss: 0.0917, Training Acc: 0.9833, Validation Loss: 0.8085, Validation Acc: 0.6567\n",
      "Epoch [28/50], Training Loss: 0.0854, Training Acc: 0.9800, Validation Loss: 0.7998, Validation Acc: 0.6500\n",
      "Epoch [29/50], Training Loss: 0.0894, Training Acc: 0.9867, Validation Loss: 0.8262, Validation Acc: 0.6633\n",
      "Epoch [30/50], Training Loss: 0.0832, Training Acc: 0.9867, Validation Loss: 0.8030, Validation Acc: 0.6500\n",
      "Epoch [31/50], Training Loss: 0.0846, Training Acc: 0.9767, Validation Loss: 0.8042, Validation Acc: 0.6633\n",
      "Epoch [32/50], Training Loss: 0.0875, Training Acc: 0.9833, Validation Loss: 0.8047, Validation Acc: 0.6533\n",
      "Epoch 00032: reducing learning rate of group 0 to 1.5625e-06.\n",
      "Epoch [33/50], Training Loss: 0.0857, Training Acc: 0.9867, Validation Loss: 0.8184, Validation Acc: 0.6567\n",
      "Epoch [34/50], Training Loss: 0.0829, Training Acc: 0.9867, Validation Loss: 0.8183, Validation Acc: 0.6600\n",
      "Epoch [35/50], Training Loss: 0.0830, Training Acc: 0.9833, Validation Loss: 0.8178, Validation Acc: 0.6500\n",
      "Epoch [36/50], Training Loss: 0.0828, Training Acc: 0.9867, Validation Loss: 0.8168, Validation Acc: 0.6600\n",
      "Epoch [37/50], Training Loss: 0.0853, Training Acc: 0.9767, Validation Loss: 0.8177, Validation Acc: 0.6533\n",
      "Epoch [38/50], Training Loss: 0.0810, Training Acc: 0.9833, Validation Loss: 0.8142, Validation Acc: 0.6533\n",
      "Epoch 00038: reducing learning rate of group 0 to 7.8125e-07.\n",
      "Epoch [39/50], Training Loss: 0.0839, Training Acc: 0.9833, Validation Loss: 0.8103, Validation Acc: 0.6533\n",
      "Epoch [40/50], Training Loss: 0.0837, Training Acc: 0.9800, Validation Loss: 0.8079, Validation Acc: 0.6500\n",
      "Epoch [41/50], Training Loss: 0.0796, Training Acc: 0.9833, Validation Loss: 0.8138, Validation Acc: 0.6533\n",
      "Epoch [42/50], Training Loss: 0.0780, Training Acc: 0.9867, Validation Loss: 0.8170, Validation Acc: 0.6533\n",
      "Epoch [43/50], Training Loss: 0.0824, Training Acc: 0.9833, Validation Loss: 0.8198, Validation Acc: 0.6500\n",
      "Epoch [44/50], Training Loss: 0.0778, Training Acc: 0.9867, Validation Loss: 0.8135, Validation Acc: 0.6567\n",
      "Epoch 00044: reducing learning rate of group 0 to 3.9063e-07.\n",
      "Epoch [45/50], Training Loss: 0.0765, Training Acc: 0.9867, Validation Loss: 0.8256, Validation Acc: 0.6567\n",
      "Epoch [46/50], Training Loss: 0.0790, Training Acc: 0.9833, Validation Loss: 0.8091, Validation Acc: 0.6533\n",
      "Epoch [47/50], Training Loss: 0.0754, Training Acc: 0.9867, Validation Loss: 0.8176, Validation Acc: 0.6567\n",
      "Epoch [48/50], Training Loss: 0.0770, Training Acc: 0.9867, Validation Loss: 0.8268, Validation Acc: 0.6467\n",
      "Epoch [49/50], Training Loss: 0.0783, Training Acc: 0.9867, Validation Loss: 0.8158, Validation Acc: 0.6600\n",
      "Epoch [50/50], Training Loss: 0.0838, Training Acc: 0.9833, Validation Loss: 0.8177, Validation Acc: 0.6533\n",
      "Epoch 00050: reducing learning rate of group 0 to 1.9531e-07.\n"
     ]
    }
   ],
   "source": [
    "train_losses = []\n",
    "val_losses = []\n",
    "    \n",
    "# Initialize a list to store model results\n",
    "model_results = []\n",
    "print(\"Starting training...\")\n",
    "for epoch in range(num_epochs):\n",
    "    # Training\n",
    "    model.train()\n",
    "    train_loss = 0.0\n",
    "    train_preds = []\n",
    "    train_labels = []\n",
    "\n",
    "    for _, (images, _, labels) in enumerate(train_dataloader):\n",
    "        images = images.to(device)\n",
    "        labels = labels.to(device)\n",
    "\n",
    "        optimizer.zero_grad()\n",
    "        outputs = model(images)\n",
    "        \n",
    "        true_distributions = calculate_true_distributions(labels,sigma=sigma, num_classes=num_classes, device=device)\n",
    "        # true_distributions = labels\n",
    "\n",
    "        # loss = criterion(outputs, labels)\n",
    "        # loss = criterion(outputs, true_distributions)\n",
    "\n",
    "        log_model_dist = torch.nn.functional.log_softmax(outputs, dim=1)\n",
    "        loss = kl_div_criterion(log_model_dist, true_distributions)\n",
    "\n",
    "        loss.backward()\n",
    "        optimizer.step()\n",
    "\n",
    "        train_loss += loss.item() * images.size(0)\n",
    "        _, preds = torch.max(outputs, 1)  # Get predicted labels\n",
    "        train_preds.extend(preds.cpu().numpy())  # Extend the list of predictions\n",
    "        train_labels.extend(labels.cpu().numpy())  # Extend the list of true labels\n",
    "    train_accuracy = accuracy_score(train_labels, train_preds)\n",
    "\n",
    "    # Validation\n",
    "    model.eval()\n",
    "    val_loss = 0.0\n",
    "    val_preds = []\n",
    "    val_labels = []\n",
    "\n",
    "    with torch.no_grad():\n",
    "        for _, (images, _, labels) in enumerate(val_dataloader):\n",
    "            images = images.to(device)\n",
    "            labels = labels.to(device)\n",
    "\n",
    "            true_distributions = calculate_true_distributions(labels=labels, sigma=sigma, num_classes=num_classes, device=device)\n",
    "            # true_distributions = labels\n",
    "            # CROSS-ENTROPY\n",
    "            outputs = model(images)\n",
    "            # loss = criterion(outputs, true_distributions)\n",
    "\n",
    "            log_model_dist = torch.nn.functional.log_softmax(outputs, dim=1)\n",
    "            loss = kl_div_criterion(log_model_dist, true_distributions)\n",
    "\n",
    "            # loss = criterion(outputs, labels)\n",
    "            val_loss += loss.item() * images.size(0)\n",
    "            _, preds = torch.max(outputs, 1)  # Get predicted labels\n",
    "            val_preds.extend(preds.cpu().numpy())  # Extend the list of predictions\n",
    "            val_labels.extend(labels.cpu().numpy())  # Extend the list of true labels\n",
    "\n",
    "\n",
    "\n",
    "    val_accuracy = accuracy_score(val_labels, val_preds)\n",
    "    train_loss /= len(train_dataset)\n",
    "    val_loss /= len(val_dataset)\n",
    "    print(f'Epoch [{epoch+1}/{num_epochs}], Training Loss: {train_loss:.4f}, Training Acc: {train_accuracy:.4f}, Validation Loss: {val_loss:.4f}, Validation Acc: {val_accuracy:.4f}')\n",
    "    # Step the ReduceLROnPlateau scheduler with the validation loss\n",
    "    scheduler.step(val_loss)\n",
    "    # Calculate and store the losses\n",
    "    train_losses.append(train_loss)\n",
    "    val_losses.append(val_loss)\n",
    "    \n",
    "    \n",
    "    # Save the weights with the best validation loss\n",
    "    if val_loss < best_val_loss:\n",
    "        # Delete the previously saved best model\n",
    "        #if best_model_weights is not None:\n",
    "        #    os.remove(best_model_path)\n",
    "\n",
    "        # Update the best validation loss and save the new best model\n",
    "        best_val_loss = val_loss\n",
    "        best_model_weights = model.state_dict().copy()\n",
    "\n",
    "        # Get the current timestamp\n",
    "        timestamp = datetime.datetime.now().strftime(\"%Y%m%d_%H%M%S\")\n",
    "        last_folder = os.path.basename(train_dataset_root)\n",
    "        # Use the timestamp and transfer learning information as a name extension\n",
    "        model_name = f\"vit_model_{timestamp}_epoch_{epoch+1}of{num_epochs}_valLoss_{best_val_loss:.3f}_valAcc_{val_accuracy:.3f}_batchsize_{batch_size}_lr_{learning_rate:.1f}_{last_folder}.pth\"\n",
    "        best_model_path = os.path.join(results_path, model_name)\n",
    "        torch.save(best_model_weights, best_model_path)\n",
    "        \n",
    "        # After saving the best model\n",
    "        model_info = {\n",
    "            'model_name': model_name,\n",
    "            'validation_loss': val_loss,\n",
    "            'validation_accuracy': val_accuracy,\n",
    "            'batch_size': batch_size,\n",
    "            'learning_rate': learning_rate,\n",
    "            'epoch': epoch + 1\n",
    "        }\n",
    "        model_results.append(model_info)"
   ]
  },
  {
   "cell_type": "markdown",
   "id": "dda75b71",
   "metadata": {},
   "source": [
    "Save results"
   ]
  },
  {
   "cell_type": "code",
   "execution_count": 10,
   "id": "aae4b70d",
   "metadata": {},
   "outputs": [
    {
     "data": {
      "image/png": "[encoded data removed]",
      "text/plain": [
       "<Figure size 640x480 with 1 Axes>"
      ]
     },
     "metadata": {},
     "output_type": "display_data"
    }
   ],
   "source": [
    "# Extract the digit from the CSV file name\n",
    "digit = ''.join(filter(str.isdigit, train_csv_file))\n",
    "\n",
    "# Create a DataFrame from model_results\n",
    "results_df = pd.DataFrame(model_results)\n",
    "\n",
    "# Save the results as a CSV file\n",
    "results_csv_path = os.path.join(results_path, f'training_results_AIO{digit}.csv')\n",
    "results_df.to_csv(results_csv_path, index=False)\n",
    "\n",
    "\n",
    "# Save the Matplotlib figure with the same basename as the saved model\n",
    "figure_name =  f'Train_Val_Curve_AIO{digit}.png'\n",
    "figure_path = os.path.join(results_path, figure_name)\n",
    "# Plot the losses\n",
    "plt.plot(range(1, num_epochs + 1), train_losses, label='Training Loss')\n",
    "plt.plot(range(1, num_epochs + 1), val_losses, label='Validation Loss')\n",
    "plt.xlabel('Epoch')\n",
    "plt.ylabel('Loss')\n",
    "plt.title('Training and Validation Loss')\n",
    "plt.legend()\n",
    "plt.savefig(figure_path)\n",
    "plt.show()"
   ]
  }
 ],
 "metadata": {
  "kernelspec": {
   "display_name": "Python 3 (ipykernel)",
   "language": "python",
   "name": "python3"
  },
  "language_info": {
   "codemirror_mode": {
    "name": "ipython",
    "version": 3
   },
   "file_extension": ".py",
   "mimetype": "text/x-python",
   "name": "python",
   "nbconvert_exporter": "python",
   "pygments_lexer": "ipython3",
   "version": "3.11.4"
  }
 },
 "nbformat": 4,
 "nbformat_minor": 5
}
